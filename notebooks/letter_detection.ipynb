{
 "cells": [
  {
   "cell_type": "markdown",
   "metadata": {},
   "source": [
    "# Problématique\n",
    "\n",
    "<h3> Prédire le nombre de lettres dans l'image (régression)</h3>\n",
    "\n",
    "- Sample de 1000 observations (1000 mots) : charger (function preprocess (utiliser en sortie un .numpy() pour avoir des arrays), container toutes observations pour faire une matrice de taille (nb_observation, nb_features).\n",
    "- Modèle Deep learning : MLP\n",
    "- Évaluation du modèle : MAE métrique\n"
   ]
  },
  {
   "cell_type": "markdown",
   "metadata": {},
   "source": [
    "# Import"
   ]
  },
  {
   "cell_type": "code",
   "execution_count": 24,
   "metadata": {},
   "outputs": [],
   "source": [
    "import tensorflow as tf\n",
    "import cv2\n",
    "import numpy as np\n",
    "import matplotlib.pyplot as plt\n",
    "import pickle\n",
    "import pandas as pd\n",
    "import re\n",
    "from os.path import exists"
   ]
  },
  {
   "cell_type": "code",
   "execution_count": 25,
   "metadata": {},
   "outputs": [
    {
     "data": {
      "text/plain": [
       "<module 'letter_detection_utils' from '/Users/jpec/Prog/OCRpyMAN/notebooks/letter_detection_utils.py'>"
      ]
     },
     "execution_count": 25,
     "metadata": {},
     "output_type": "execute_result"
    }
   ],
   "source": [
    "import letter_detection_utils as ld_util\n",
    "from importlib import reload \n",
    "import warnings\n",
    "\n",
    "# Ensure we have always the latest state and \n",
    "# not the last import in memory\n",
    "reload(ld_util)"
   ]
  },
  {
   "cell_type": "markdown",
   "metadata": {},
   "source": [
    "# Chargement du dataframe"
   ]
  },
  {
   "cell_type": "code",
   "execution_count": 26,
   "metadata": {},
   "outputs": [
    {
     "name": "stdout",
     "output_type": "stream",
     "text": [
      "Loading existing data from  ../pickle/letter_detection_data.pickle ...\n"
     ]
    }
   ],
   "source": [
    "data = ld_util.get_dataframe_with_preprocessed_imgs()\n",
    "\n",
    "df = data['df']\n",
    "preprocessed_imgs = data['preprocessed_imgs']"
   ]
  },
  {
   "cell_type": "code",
   "execution_count": 27,
   "metadata": {},
   "outputs": [
    {
     "name": "stdout",
     "output_type": "stream",
     "text": [
      "Length:  1000\n",
      "Imgs length:  1000\n",
      "Img shape:  (4096,)\n"
     ]
    }
   ],
   "source": [
    "print(\"Length: \", len(df))\n",
    "print(\"Imgs length: \", len(preprocessed_imgs))\n",
    "print(\"Img shape: \", preprocessed_imgs[0].shape)"
   ]
  },
  {
   "cell_type": "code",
   "execution_count": 28,
   "metadata": {},
   "outputs": [
    {
     "data": {
      "text/html": [
       "<div>\n",
       "<style scoped>\n",
       "    .dataframe tbody tr th:only-of-type {\n",
       "        vertical-align: middle;\n",
       "    }\n",
       "\n",
       "    .dataframe tbody tr th {\n",
       "        vertical-align: top;\n",
       "    }\n",
       "\n",
       "    .dataframe thead th {\n",
       "        text-align: right;\n",
       "    }\n",
       "</style>\n",
       "<table border=\"1\" class=\"dataframe\">\n",
       "  <thead>\n",
       "    <tr style=\"text-align: right;\">\n",
       "      <th></th>\n",
       "      <th>index</th>\n",
       "      <th>michelson_contrast</th>\n",
       "      <th>gray_level_mot</th>\n",
       "      <th>word_id</th>\n",
       "      <th>gray_level</th>\n",
       "      <th>x</th>\n",
       "      <th>y</th>\n",
       "      <th>w</th>\n",
       "      <th>h</th>\n",
       "      <th>transcription</th>\n",
       "      <th>word_img_path</th>\n",
       "      <th>form_img_path</th>\n",
       "      <th>length</th>\n",
       "    </tr>\n",
       "  </thead>\n",
       "  <tbody>\n",
       "    <tr>\n",
       "      <th>0</th>\n",
       "      <td>108</td>\n",
       "      <td>0.764706</td>\n",
       "      <td>0.913713</td>\n",
       "      <td>a01-003-02-03</td>\n",
       "      <td>176</td>\n",
       "      <td>937</td>\n",
       "      <td>1272</td>\n",
       "      <td>499</td>\n",
       "      <td>115</td>\n",
       "      <td>Foot-Griffiths</td>\n",
       "      <td>../data/words/a01/a01-003/a01-003-02-03.png</td>\n",
       "      <td>../data/formsA-D/a01-003.png</td>\n",
       "      <td>14</td>\n",
       "    </tr>\n",
       "    <tr>\n",
       "      <th>1</th>\n",
       "      <td>479</td>\n",
       "      <td>0.734694</td>\n",
       "      <td>0.914862</td>\n",
       "      <td>a01-007x-06-04</td>\n",
       "      <td>178</td>\n",
       "      <td>1248</td>\n",
       "      <td>1950</td>\n",
       "      <td>122</td>\n",
       "      <td>132</td>\n",
       "      <td>get</td>\n",
       "      <td>../data/words/a01/a01-007x/a01-007x-06-04.png</td>\n",
       "      <td>../data/formsA-D/a01-007x.png</td>\n",
       "      <td>3</td>\n",
       "    </tr>\n",
       "    <tr>\n",
       "      <th>2</th>\n",
       "      <td>959</td>\n",
       "      <td>0.695946</td>\n",
       "      <td>0.792244</td>\n",
       "      <td>a01-020u-09-00</td>\n",
       "      <td>168</td>\n",
       "      <td>351</td>\n",
       "      <td>2384</td>\n",
       "      <td>298</td>\n",
       "      <td>57</td>\n",
       "      <td>House</td>\n",
       "      <td>../data/words/a01/a01-020u/a01-020u-09-00.png</td>\n",
       "      <td>../data/formsA-D/a01-020u.png</td>\n",
       "      <td>5</td>\n",
       "    </tr>\n",
       "  </tbody>\n",
       "</table>\n",
       "</div>"
      ],
      "text/plain": [
       "   index  michelson_contrast  gray_level_mot         word_id  gray_level  \\\n",
       "0    108            0.764706        0.913713   a01-003-02-03         176   \n",
       "1    479            0.734694        0.914862  a01-007x-06-04         178   \n",
       "2    959            0.695946        0.792244  a01-020u-09-00         168   \n",
       "\n",
       "      x     y    w    h   transcription  \\\n",
       "0   937  1272  499  115  Foot-Griffiths   \n",
       "1  1248  1950  122  132             get   \n",
       "2   351  2384  298   57           House   \n",
       "\n",
       "                                   word_img_path  \\\n",
       "0    ../data/words/a01/a01-003/a01-003-02-03.png   \n",
       "1  ../data/words/a01/a01-007x/a01-007x-06-04.png   \n",
       "2  ../data/words/a01/a01-020u/a01-020u-09-00.png   \n",
       "\n",
       "                   form_img_path  length  \n",
       "0   ../data/formsA-D/a01-003.png      14  \n",
       "1  ../data/formsA-D/a01-007x.png       3  \n",
       "2  ../data/formsA-D/a01-020u.png       5  "
      ]
     },
     "execution_count": 28,
     "metadata": {},
     "output_type": "execute_result"
    }
   ],
   "source": [
    "df.head(3)"
   ]
  },
  {
   "cell_type": "markdown",
   "metadata": {},
   "source": [
    "# Data visualisation"
   ]
  },
  {
   "cell_type": "markdown",
   "metadata": {},
   "source": [
    "Pour travailler avec les images et comparer le ratio hauteur/largeur, il faut au préalable rescale nos images."
   ]
  },
  {
   "cell_type": "code",
   "execution_count": 29,
   "metadata": {},
   "outputs": [],
   "source": [
    "# ld_util.show_df_word_img(df, 0)"
   ]
  },
  {
   "cell_type": "code",
   "execution_count": 30,
   "metadata": {},
   "outputs": [],
   "source": [
    "# ld_util.show_df_form_img(df, 0)"
   ]
  },
  {
   "cell_type": "code",
   "execution_count": 31,
   "metadata": {},
   "outputs": [
    {
     "data": {
      "text/html": [
       "<div>\n",
       "<style scoped>\n",
       "    .dataframe tbody tr th:only-of-type {\n",
       "        vertical-align: middle;\n",
       "    }\n",
       "\n",
       "    .dataframe tbody tr th {\n",
       "        vertical-align: top;\n",
       "    }\n",
       "\n",
       "    .dataframe thead th {\n",
       "        text-align: right;\n",
       "    }\n",
       "</style>\n",
       "<table border=\"1\" class=\"dataframe\">\n",
       "  <thead>\n",
       "    <tr style=\"text-align: right;\">\n",
       "      <th></th>\n",
       "      <th>transcription</th>\n",
       "      <th>length</th>\n",
       "      <th>w</th>\n",
       "      <th>word_img_path</th>\n",
       "      <th>form_img_path</th>\n",
       "    </tr>\n",
       "  </thead>\n",
       "  <tbody>\n",
       "    <tr>\n",
       "      <th>800</th>\n",
       "      <td>Independence</td>\n",
       "      <td>12</td>\n",
       "      <td>586</td>\n",
       "      <td>../data/words/a01/a01-011u/a01-011u-01-02.png</td>\n",
       "      <td>../data/formsA-D/a01-011u.png</td>\n",
       "    </tr>\n",
       "    <tr>\n",
       "      <th>232</th>\n",
       "      <td>Independence</td>\n",
       "      <td>12</td>\n",
       "      <td>586</td>\n",
       "      <td>../data/words/a01/a01-011u/a01-011u-01-02.png</td>\n",
       "      <td>../data/formsA-D/a01-011u.png</td>\n",
       "    </tr>\n",
       "    <tr>\n",
       "      <th>533</th>\n",
       "      <td>Independence</td>\n",
       "      <td>12</td>\n",
       "      <td>586</td>\n",
       "      <td>../data/words/a01/a01-011u/a01-011u-01-02.png</td>\n",
       "      <td>../data/formsA-D/a01-011u.png</td>\n",
       "    </tr>\n",
       "  </tbody>\n",
       "</table>\n",
       "</div>"
      ],
      "text/plain": [
       "    transcription  length    w                                  word_img_path  \\\n",
       "800  Independence      12  586  ../data/words/a01/a01-011u/a01-011u-01-02.png   \n",
       "232  Independence      12  586  ../data/words/a01/a01-011u/a01-011u-01-02.png   \n",
       "533  Independence      12  586  ../data/words/a01/a01-011u/a01-011u-01-02.png   \n",
       "\n",
       "                     form_img_path  \n",
       "800  ../data/formsA-D/a01-011u.png  \n",
       "232  ../data/formsA-D/a01-011u.png  \n",
       "533  ../data/formsA-D/a01-011u.png  "
      ]
     },
     "execution_count": 31,
     "metadata": {},
     "output_type": "execute_result"
    }
   ],
   "source": [
    "df[['transcription', 'length', 'w', 'word_img_path', 'form_img_path']].sort_values(by=['w']).iloc[-3:]"
   ]
  },
  {
   "cell_type": "code",
   "execution_count": 32,
   "metadata": {},
   "outputs": [
    {
     "data": {
      "text/html": [
       "<div>\n",
       "<style scoped>\n",
       "    .dataframe tbody tr th:only-of-type {\n",
       "        vertical-align: middle;\n",
       "    }\n",
       "\n",
       "    .dataframe tbody tr th {\n",
       "        vertical-align: top;\n",
       "    }\n",
       "\n",
       "    .dataframe thead th {\n",
       "        text-align: right;\n",
       "    }\n",
       "</style>\n",
       "<table border=\"1\" class=\"dataframe\">\n",
       "  <thead>\n",
       "    <tr style=\"text-align: right;\">\n",
       "      <th></th>\n",
       "      <th>transcription</th>\n",
       "      <th>length</th>\n",
       "      <th>w</th>\n",
       "      <th>word_img_path</th>\n",
       "      <th>form_img_path</th>\n",
       "    </tr>\n",
       "  </thead>\n",
       "  <tbody>\n",
       "    <tr>\n",
       "      <th>897</th>\n",
       "      <td>A</td>\n",
       "      <td>1</td>\n",
       "      <td>27</td>\n",
       "      <td>../data/words/a01/a01-000u/a01-000u-00-00.png</td>\n",
       "      <td>../data/formsA-D/a01-000u.png</td>\n",
       "    </tr>\n",
       "    <tr>\n",
       "      <th>160</th>\n",
       "      <td>is</td>\n",
       "      <td>2</td>\n",
       "      <td>30</td>\n",
       "      <td>../data/words/a01/a01-000x/a01-000x-01-05.png</td>\n",
       "      <td>../data/formsA-D/a01-000x.png</td>\n",
       "    </tr>\n",
       "    <tr>\n",
       "      <th>120</th>\n",
       "      <td>a</td>\n",
       "      <td>1</td>\n",
       "      <td>32</td>\n",
       "      <td>../data/words/a01/a01-000x/a01-000x-01-10.png</td>\n",
       "      <td>../data/formsA-D/a01-000x.png</td>\n",
       "    </tr>\n",
       "  </tbody>\n",
       "</table>\n",
       "</div>"
      ],
      "text/plain": [
       "    transcription  length   w                                  word_img_path  \\\n",
       "897             A       1  27  ../data/words/a01/a01-000u/a01-000u-00-00.png   \n",
       "160            is       2  30  ../data/words/a01/a01-000x/a01-000x-01-05.png   \n",
       "120             a       1  32  ../data/words/a01/a01-000x/a01-000x-01-10.png   \n",
       "\n",
       "                     form_img_path  \n",
       "897  ../data/formsA-D/a01-000u.png  \n",
       "160  ../data/formsA-D/a01-000x.png  \n",
       "120  ../data/formsA-D/a01-000x.png  "
      ]
     },
     "execution_count": 32,
     "metadata": {},
     "output_type": "execute_result"
    }
   ],
   "source": [
    "df[['transcription', 'length', 'w', 'word_img_path', 'form_img_path']].sort_values(by=['w']).iloc[:3]"
   ]
  },
  {
   "cell_type": "markdown",
   "metadata": {},
   "source": [
    "Hypothèse: le nombre de caractère est proportionnel à la largeur des boîtes."
   ]
  },
  {
   "cell_type": "code",
   "execution_count": 33,
   "metadata": {},
   "outputs": [
    {
     "data": {
      "text/plain": [
       "count    1000.00000\n",
       "mean        4.81500\n",
       "std         2.48172\n",
       "min         1.00000\n",
       "25%         3.00000\n",
       "50%         4.00000\n",
       "75%         7.00000\n",
       "max        15.00000\n",
       "Name: length, dtype: float64"
      ]
     },
     "execution_count": 33,
     "metadata": {},
     "output_type": "execute_result"
    }
   ],
   "source": [
    "df['length'].describe()"
   ]
  },
  {
   "cell_type": "code",
   "execution_count": 34,
   "metadata": {},
   "outputs": [
    {
     "data": {
      "image/png": "[encoded data removed]",
      "text/plain": [
       "<Figure size 1440x1008 with 1 Axes>"
      ]
     },
     "metadata": {
      "needs_background": "light"
     },
     "output_type": "display_data"
    }
   ],
   "source": [
    "ld_util.plot_avg_width_per_string_length(df)"
   ]
  },
  {
   "cell_type": "markdown",
   "metadata": {},
   "source": [
    "# Model"
   ]
  },
  {
   "cell_type": "code",
   "execution_count": 35,
   "metadata": {},
   "outputs": [],
   "source": [
    "from sklearn.model_selection import train_test_split\n",
    "\n",
    "\n",
    "target = df['length'].to_numpy()\n",
    "\n",
    "X_train, X_test, y_train, y_test = train_test_split(preprocessed_imgs, target, test_size=0.2, random_state=42)"
   ]
  },
  {
   "cell_type": "markdown",
   "metadata": {},
   "source": [
    "## Manual MLP"
   ]
  },
  {
   "cell_type": "code",
   "execution_count": 36,
   "metadata": {},
   "outputs": [],
   "source": [
    "# from tensorflow.keras.layers import Input, Dense\n",
    "# from tensorflow.keras.models import Model\n",
    "# from tensorflow.keras.layers import Dropout \n",
    "# from tensorflow.keras.layers import Flatten\n",
    "# from tensorflow.keras.layers import Conv2D \n",
    "# from tensorflow.keras.layers import MaxPooling2D\n",
    "# from keras.utils import to_categorical\n",
    "\n",
    "\n",
    "\n",
    "# inputs = Input(shape=(X_train.shape[1]))\n",
    "# first_layer = Dense(180, activation='tanh', kernel_initializer='random_normal', name='Dense_1')\n",
    "# second_layer = Dense(256, activation='tanh', kernel_initializer='random_normal', name='Dense_2')\n",
    "# third_layer = Dense(1, activation='softmax', name='Dense_3')\n",
    "\n",
    "# outputs=first_layer(inputs)\n",
    "# outputs=second_layer(outputs)\n",
    "# outputs=third_layer(outputs)\n",
    "# model = Model(inputs = inputs, outputs = outputs)\n"
   ]
  },
  {
   "cell_type": "code",
   "execution_count": 37,
   "metadata": {},
   "outputs": [],
   "source": [
    "# model.summary()\n"
   ]
  },
  {
   "cell_type": "code",
   "execution_count": 38,
   "metadata": {},
   "outputs": [],
   "source": [
    "# import tensorflow as tf\n",
    "\n",
    "# model.compile(loss=tf.keras.losses.MeanAbsoluteError(), metrics=['accuracy'], optimizer='adam')\n",
    "# training_history = model.fit(X_train, y_train, batch_size=50, epochs=20)\n"
   ]
  },
  {
   "cell_type": "code",
   "execution_count": 39,
   "metadata": {},
   "outputs": [],
   "source": [
    "# training_history.history['loss']"
   ]
  },
  {
   "cell_type": "markdown",
   "metadata": {},
   "source": [
    "## MLP"
   ]
  },
  {
   "cell_type": "markdown",
   "metadata": {},
   "source": [
    "### Without Grid Search"
   ]
  },
  {
   "cell_type": "code",
   "execution_count": 46,
   "metadata": {},
   "outputs": [
    {
     "name": "stdout",
     "output_type": "stream",
     "text": [
      "0.265\n"
     ]
    }
   ],
   "source": [
    "from sklearn.neural_network import MLPClassifier\n",
    "\n",
    "mlp = MLPClassifier(\n",
    "    solver='lbfgs', \n",
    "    activation='relu',\n",
    "    alpha=1e-4, \n",
    "    hidden_layer_sizes=(64, 256, 1024), \n",
    "    max_iter=10_000,\n",
    "    random_state=42\n",
    ")\n",
    "# {'activation': 'relu', 'alpha': 0.0001, 'hidden_layer_sizes': (64, 256, 1024)}\n",
    "mlp.fit(X_train, y_train)\n",
    "\n",
    "print(mlp.score(X_test, y_test))\n",
    "y_pred = mlp.predict(X_test)\n",
    "y_pred_proba = mlp.predict_proba(X_test)"
   ]
  },
  {
   "cell_type": "code",
   "execution_count": 47,
   "metadata": {},
   "outputs": [
    {
     "data": {
      "image/png": "[encoded data removed]",
      "text/plain": [
       "<Figure size 1440x720 with 2 Axes>"
      ]
     },
     "metadata": {
      "needs_background": "light"
     },
     "output_type": "display_data"
    }
   ],
   "source": [
    "ld_util.show_mlp_result_for_row(X_test, y_test, y_pred, y_pred_proba, 0)"
   ]
  },
  {
   "cell_type": "markdown",
   "metadata": {},
   "source": [
    "### With GridSearch"
   ]
  },
  {
   "cell_type": "markdown",
   "metadata": {},
   "source": [
    "- Solver: \"lbfgs\"\n",
    "    Note: The default solver ‘adam’ works pretty well on relatively large datasets (with thousands of training samples or more) in terms of both training time and validation score. For small datasets, however, ‘lbfgs’ can converge faster and perform better."
   ]
  },
  {
   "cell_type": "code",
   "execution_count": 42,
   "metadata": {},
   "outputs": [
    {
     "name": "stderr",
     "output_type": "stream",
     "text": [
      "/Users/jpec/opt/anaconda3/envs/tf/lib/python3.7/site-packages/sklearn/model_selection/_split.py:680: UserWarning: The least populated class in y has only 2 members, which is less than n_splits=5.\n",
      "  UserWarning,\n",
      "/Users/jpec/opt/anaconda3/envs/tf/lib/python3.7/site-packages/sklearn/neural_network/_multilayer_perceptron.py:549: ConvergenceWarning: lbfgs failed to converge (status=1):\n",
      "STOP: TOTAL NO. of ITERATIONS REACHED LIMIT.\n",
      "\n",
      "Increase the number of iterations (max_iter) or scale the data as shown in:\n",
      "    https://scikit-learn.org/stable/modules/preprocessing.html\n",
      "  self.n_iter_ = _check_optimize_result(\"lbfgs\", opt_res, self.max_iter)\n",
      "/Users/jpec/opt/anaconda3/envs/tf/lib/python3.7/site-packages/sklearn/neural_network/_multilayer_perceptron.py:549: ConvergenceWarning: lbfgs failed to converge (status=1):\n",
      "STOP: TOTAL NO. of ITERATIONS REACHED LIMIT.\n",
      "\n",
      "Increase the number of iterations (max_iter) or scale the data as shown in:\n",
      "    https://scikit-learn.org/stable/modules/preprocessing.html\n",
      "  self.n_iter_ = _check_optimize_result(\"lbfgs\", opt_res, self.max_iter)\n"
     ]
    },
    {
     "name": "stdout",
     "output_type": "stream",
     "text": [
      "best params {'activation': 'relu', 'alpha': 0.0001, 'hidden_layer_sizes': (64, 256, 1024)}\n",
      "0.265\n"
     ]
    }
   ],
   "source": [
    "from sklearn.model_selection import GridSearchCV\n",
    "from sklearn.neural_network import MLPClassifier\n",
    "\n",
    "\n",
    "mlp = MLPClassifier(solver='lbfgs', random_state=42, max_iter=1_000)\n",
    "\n",
    "params = {\n",
    "    'activation' : ['logistic', 'tanh', 'relu'],\n",
    "    'alpha': [1e-5, 1e-4, 1e-3],\n",
    "    'hidden_layer_sizes': [(2**6, 2**8), (2**6, 2**8, 2**10)],\n",
    "    # 'max_iter': [200, 500, 1_000]\n",
    "}\n",
    "\n",
    "grid_search = GridSearchCV(mlp, params)\n",
    "grid_search.fit(X_train, y_train)\n",
    "\n",
    "print('best params', grid_search.best_params_)\n",
    "print(grid_search.score(X_test, y_test))\n",
    "\n",
    "y_pred = grid_search.predict(X_test)\n",
    "y_pred_proba = grid_search.predict_proba(X_test)"
   ]
  },
  {
   "cell_type": "code",
   "execution_count": 43,
   "metadata": {},
   "outputs": [
    {
     "data": {
      "image/png": "[encoded data removed]",
      "text/plain": [
       "<Figure size 1440x720 with 2 Axes>"
      ]
     },
     "metadata": {
      "needs_background": "light"
     },
     "output_type": "display_data"
    }
   ],
   "source": [
    "ld_util.show_mlp_result_for_row(X_test, y_test, y_pred, y_pred_proba, 0)"
   ]
  },
  {
   "cell_type": "markdown",
   "metadata": {},
   "source": [
    "## Linear"
   ]
  },
  {
   "cell_type": "code",
   "execution_count": 44,
   "metadata": {},
   "outputs": [
    {
     "name": "stdout",
     "output_type": "stream",
     "text": [
      "Score:  0.8618015699384322\n"
     ]
    }
   ],
   "source": [
    "from sklearn.linear_model import LinearRegression\n",
    "\n",
    "\n",
    "X_lin_train, X_lin_test, y_lin_train, y_lin_test = train_test_split(df[['w', 'h']], df['length'], test_size=0.2)\n",
    "\n",
    "lr = LinearRegression()\n",
    "lr.fit(X_lin_train, y_lin_train)\n",
    "score = lr.score(X_lin_test, y_lin_test)\n",
    "y_lin_test_pred = lr.predict(X_lin_test)\n",
    "\n",
    "print(\"Score: \", score)"
   ]
  },
  {
   "cell_type": "code",
   "execution_count": 45,
   "metadata": {},
   "outputs": [
    {
     "name": "stdout",
     "output_type": "stream",
     "text": [
      "predicted:  5 real: 4\n",
      "predicted:  7 real: 8\n",
      "predicted:  5 real: 5\n",
      "predicted:  7 real: 7\n",
      "predicted:  3 real: 3\n",
      "predicted:  10 real: 11\n",
      "predicted:  2 real: 2\n",
      "predicted:  3 real: 3\n",
      "predicted:  7 real: 8\n",
      "predicted:  3 real: 3\n"
     ]
    }
   ],
   "source": [
    "for i in range(10):\n",
    "    pred = round(y_lin_test_pred[i])\n",
    "    real = y_lin_test.iloc[i] \n",
    "    print('predicted: ',pred , 'real:', real)"
   ]
  },
  {
   "cell_type": "markdown",
   "metadata": {},
   "source": [
    "# TODOs\n",
    "\n",
    "- Add rotation to letters to data gen\n"
   ]
  }
 ],
 "metadata": {
  "kernelspec": {
   "display_name": "Python 3.7.11 ('tf')",
   "language": "python",
   "name": "python3"
  },
  "language_info": {
   "codemirror_mode": {
    "name": "ipython",
    "version": 3
   },
   "file_extension": ".py",
   "mimetype": "text/x-python",
   "name": "python",
   "nbconvert_exporter": "python",
   "pygments_lexer": "ipython3",
   "version": "3.7.11"
  },
  "orig_nbformat": 4,
  "vscode": {
   "interpreter": {
    "hash": "659032454581496215ea079f20061774e38407e775639f7a4814d7b89284a104"
   }
  }
 },
 "nbformat": 4,
 "nbformat_minor": 2
}
