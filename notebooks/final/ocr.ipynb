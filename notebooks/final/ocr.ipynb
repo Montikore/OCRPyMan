{
 "cells": [
  {
   "cell_type": "code",
   "execution_count": null,
   "metadata": {},
   "outputs": [],
   "source": []
  }
 ],
 "metadata": {
  "kernelspec": {
   "display_name": "work",
   "language": "python",
   "name": "python3"
  },
  "language_info": {
   "name": "python",
   "version": "3.8.16"
  },
  "orig_nbformat": 4,
  "vscode": {
   "interpreter": {
    "hash": "254175ea94f058a7e7299e703d2835f403cfc8242bb5093cb467c93f36ccb172"
   }
  }
 },
 "nbformat": 4,
 "nbformat_minor": 2
}
