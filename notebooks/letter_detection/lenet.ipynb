{
 "cells": [
  {
   "cell_type": "markdown",
   "metadata": {},
   "source": [
    "# LeNet"
   ]
  },
  {
   "cell_type": "code",
   "execution_count": 18,
   "metadata": {},
   "outputs": [],
   "source": [
    "import tensorflow as tf\n",
    "import cv2\n",
    "import numpy as np\n",
    "import matplotlib.pyplot as plt\n",
    "import pickle\n",
    "import pandas as pd\n",
    "import re\n",
    "from os.path import exists"
   ]
  },
  {
   "cell_type": "code",
   "execution_count": 19,
   "metadata": {},
   "outputs": [
    {
     "data": {
      "text/plain": [
       "<module 'letter_detection_utils' from '/Users/jpec/Prog/OCRpyMAN/notebooks/letter_detection/letter_detection_utils.py'>"
      ]
     },
     "execution_count": 19,
     "metadata": {},
     "output_type": "execute_result"
    }
   ],
   "source": [
    "import letter_detection_utils as ld_util\n",
    "from importlib import reload \n",
    "import warnings\n",
    "\n",
    "# Ensure we have always the latest state and \n",
    "# not the last import in memory\n",
    "reload(ld_util)"
   ]
  },
  {
   "cell_type": "code",
   "execution_count": 20,
   "metadata": {},
   "outputs": [
    {
     "name": "stdout",
     "output_type": "stream",
     "text": [
      "Loading existing data from  ../../pickle/letter_detection_data.pickle ...\n",
      "Length:  1000\n",
      "Imgs length:  1000\n",
      "Img shape:  (4096,)\n"
     ]
    }
   ],
   "source": [
    "img_size = (32, 128)\n",
    "data = ld_util.get_dataframe_with_preprocessed_imgs(\n",
    "    # pickle_name='ld_sobel_y', \n",
    "    img_size=img_size,\n",
    "    with_edge_detection = False\n",
    ")\n",
    "\n",
    "df = data['df']\n",
    "preprocessed_imgs = data['preprocessed_imgs']\n",
    "\n",
    "print(\"Length: \", len(df))\n",
    "print(\"Imgs length: \", len(preprocessed_imgs))\n",
    "print(\"Img shape: \", preprocessed_imgs[0].shape)"
   ]
  },
  {
   "cell_type": "markdown",
   "metadata": {},
   "source": [
    "# Model"
   ]
  },
  {
   "cell_type": "code",
   "execution_count": 21,
   "metadata": {},
   "outputs": [],
   "source": [
    "from sklearn.model_selection import train_test_split\n",
    "\n",
    "\n",
    "target = df['length'].to_numpy()\n",
    "# We do not shuffle to have X_train[index] to match df[index]\n",
    "X_train, X_test, y_train, y_test = train_test_split(preprocessed_imgs, target, test_size=0.2, shuffle=False)"
   ]
  },
  {
   "cell_type": "code",
   "execution_count": 22,
   "metadata": {},
   "outputs": [
    {
     "data": {
      "text/plain": [
       "(800, 32, 128, 1)"
      ]
     },
     "execution_count": 22,
     "metadata": {},
     "output_type": "execute_result"
    }
   ],
   "source": [
    "X_train_lenet = X_train.reshape(-1, img_size[0], img_size[1], 1)\n",
    "X_test_lenet = X_test.reshape(-1, img_size[0], img_size[1], 1)\n",
    "\n",
    "X_train_lenet.shape"
   ]
  },
  {
   "cell_type": "code",
   "execution_count": 23,
   "metadata": {},
   "outputs": [],
   "source": [
    "from tensorflow.keras.layers import Input, Dense\n",
    "from tensorflow.keras.models import Model\n",
    "from tensorflow.keras.layers import Dropout \n",
    "from tensorflow.keras.layers import Flatten\n",
    "from tensorflow.keras.layers import Conv2D \n",
    "from tensorflow.keras.layers import MaxPooling2D\n",
    "from keras.utils import to_categorical"
   ]
  },
  {
   "cell_type": "code",
   "execution_count": 24,
   "metadata": {},
   "outputs": [],
   "source": [
    "inputs = Input(shape=(X_train_lenet.shape[1], X_train_lenet.shape[2],  X_train_lenet.shape[3]))\n",
    "conv_1 = Conv2D(filters = 32,                     # Nombre de filtres\n",
    "                kernel_size = (5, 5),            # Dimensions du noyau\n",
    "                padding = 'valid',               # Mode de Dépassement\n",
    "                activation = 'relu')             # Fonction d'activation\n",
    "max_pool_1 = MaxPooling2D(pool_size = (2, 2))\n",
    "conv_2 = Conv2D(filters = 16,                    \n",
    "                kernel_size = (3, 3),          \n",
    "                padding = 'valid',             \n",
    "                activation = 'relu')\n",
    "max_pool_2 = MaxPooling2D(pool_size = (2, 2))\n",
    "flatten = Flatten()\n",
    "dropout = Dropout(rate = 0.2)\n",
    "dense_1 = Dense(units = 128,\n",
    "                activation = 'relu')\n",
    "dense_2 = Dense(units = df['length'].max(),\n",
    "                activation = 'softmax')\n",
    "\n",
    "outputs=conv_1(inputs)\n",
    "outputs=max_pool_1(outputs)\n",
    "outputs=conv_2(outputs)\n",
    "outputs=max_pool_2(outputs)\n",
    "outputs=dropout(outputs)\n",
    "outputs=flatten(outputs)\n",
    "outputs=dense_1(outputs)\n",
    "outputs=dense_2(outputs)"
   ]
  },
  {
   "cell_type": "code",
   "execution_count": 25,
   "metadata": {},
   "outputs": [
    {
     "name": "stdout",
     "output_type": "stream",
     "text": [
      "Train on 640 samples, validate on 160 samples\n",
      "Epoch 1/16\n",
      "640/640 [==============================] - 8s 12ms/sample - loss: 2.3115 - accuracy: 0.1719 - val_loss: 2.2293 - val_accuracy: 0.1813\n",
      "Epoch 2/16\n",
      "640/640 [==============================] - 6s 10ms/sample - loss: 2.2053 - accuracy: 0.2062 - val_loss: 2.1745 - val_accuracy: 0.1813\n",
      "Epoch 3/16\n",
      "640/640 [==============================] - 6s 10ms/sample - loss: 2.1559 - accuracy: 0.2266 - val_loss: 2.1483 - val_accuracy: 0.2188\n",
      "Epoch 4/16\n",
      "640/640 [==============================] - 6s 9ms/sample - loss: 2.0260 - accuracy: 0.3000 - val_loss: 2.0166 - val_accuracy: 0.2625\n",
      "Epoch 5/16\n",
      "640/640 [==============================] - 6s 10ms/sample - loss: 1.8884 - accuracy: 0.3422 - val_loss: 1.9721 - val_accuracy: 0.3313\n",
      "Epoch 6/16\n",
      "640/640 [==============================] - 6s 9ms/sample - loss: 1.7448 - accuracy: 0.4062 - val_loss: 1.9277 - val_accuracy: 0.3063\n",
      "Epoch 7/16\n",
      "640/640 [==============================] - 6s 10ms/sample - loss: 1.5900 - accuracy: 0.4437 - val_loss: 1.9854 - val_accuracy: 0.3125\n",
      "Epoch 8/16\n",
      "640/640 [==============================] - 6s 10ms/sample - loss: 1.4670 - accuracy: 0.4625 - val_loss: 2.0691 - val_accuracy: 0.2937\n",
      "Epoch 9/16\n",
      "640/640 [==============================] - 6s 10ms/sample - loss: 1.3259 - accuracy: 0.5344 - val_loss: 1.9314 - val_accuracy: 0.3313\n",
      "Epoch 10/16\n",
      "640/640 [==============================] - 6s 10ms/sample - loss: 1.2392 - accuracy: 0.5625 - val_loss: 2.0942 - val_accuracy: 0.2937\n",
      "Epoch 11/16\n",
      "640/640 [==============================] - 6s 10ms/sample - loss: 1.0471 - accuracy: 0.6547 - val_loss: 2.0141 - val_accuracy: 0.3812\n",
      "Epoch 12/16\n",
      "640/640 [==============================] - 6s 10ms/sample - loss: 0.9467 - accuracy: 0.6891 - val_loss: 2.0375 - val_accuracy: 0.3562\n",
      "Epoch 13/16\n",
      "640/640 [==============================] - 5s 8ms/sample - loss: 0.8202 - accuracy: 0.7359 - val_loss: 2.5507 - val_accuracy: 0.2812\n",
      "Epoch 14/16\n",
      "640/640 [==============================] - 5s 7ms/sample - loss: 0.8476 - accuracy: 0.7234 - val_loss: 2.3852 - val_accuracy: 0.2812\n",
      "Epoch 15/16\n",
      "640/640 [==============================] - 4s 7ms/sample - loss: 0.6537 - accuracy: 0.8016 - val_loss: 2.3197 - val_accuracy: 0.3375\n",
      "Epoch 16/16\n",
      "640/640 [==============================] - 5s 7ms/sample - loss: 0.5455 - accuracy: 0.8172 - val_loss: 2.4350 - val_accuracy: 0.3375\n"
     ]
    }
   ],
   "source": [
    "lenet = Model(inputs = inputs, outputs = outputs)\n",
    "\n",
    "# Compilation\n",
    "lenet.compile(loss='sparse_categorical_crossentropy',  # fonction de perte\n",
    "              optimizer='adam',                 # algorithme de descente de gradient\n",
    "              metrics=['accuracy'])             # métrique d'évaluation\n",
    "nb_epochs = 16\n",
    "\n",
    "training_history_lenet = lenet.fit(X_train_lenet, y_train,          # données\n",
    "                                   validation_split = 0.2,    # split de test\n",
    "                                   epochs = nb_epochs,               # nombre d'epochs\n",
    "                                   batch_size = 20)          # taille des batchs"
   ]
  },
  {
   "cell_type": "code",
   "execution_count": 26,
   "metadata": {},
   "outputs": [
    {
     "data": {
      "image/png": "[encoded data removed]",
      "text/plain": [
       "<Figure size 720x432 with 1 Axes>"
      ]
     },
     "metadata": {
      "needs_background": "light"
     },
     "output_type": "display_data"
    }
   ],
   "source": [
    "train_acc_lenet = training_history_lenet.history['accuracy']\n",
    "val_acc_lenet = training_history_lenet.history['val_accuracy']\n",
    "\n",
    "plt.figure(figsize=(10,6))\n",
    "xaxis = range(nb_epochs)\n",
    "plt.xlabel('Epochs')\n",
    "plt.ylabel('Accuracy')\n",
    "plt.plot(xaxis,\n",
    "         train_acc_lenet, \n",
    "         label = 'LeNet',\n",
    "         ls='--',\n",
    "         color = 'blue')\n",
    "plt.plot(xaxis,\n",
    "         val_acc_lenet, \n",
    "         label = 'LeNet',\n",
    "         color = 'green')\n",
    "plt.legend()\n",
    "plt.show()"
   ]
  },
  {
   "cell_type": "code",
   "execution_count": 27,
   "metadata": {},
   "outputs": [],
   "source": [
    "y_pred_lenet = lenet.predict(X_test_lenet)"
   ]
  },
  {
   "cell_type": "code",
   "execution_count": 28,
   "metadata": {},
   "outputs": [
    {
     "data": {
      "image/png": "[encoded data removed]",
      "text/plain": [
       "<Figure size 432x288 with 1 Axes>"
      ]
     },
     "metadata": {
      "needs_background": "light"
     },
     "output_type": "display_data"
    }
   ],
   "source": [
    "plt.plot(range(df['length'].max()), y_pred_lenet[0]);\n",
    "plt.axvline(y_pred_lenet[0].argmax(), color='red');\n",
    "plt.axvline(df.iloc[0 + 800].length, color='green');\n",
    "plt.title('Répartition des probas de longueur du mot \"' + df.iloc[0+ 800].transcription + '\"');"
   ]
  }
 ],
 "metadata": {
  "kernelspec": {
   "display_name": "Python 3.7.11 ('tf')",
   "language": "python",
   "name": "python3"
  },
  "language_info": {
   "codemirror_mode": {
    "name": "ipython",
    "version": 3
   },
   "file_extension": ".py",
   "mimetype": "text/x-python",
   "name": "python",
   "nbconvert_exporter": "python",
   "pygments_lexer": "ipython3",
   "version": "3.7.11"
  },
  "orig_nbformat": 4,
  "vscode": {
   "interpreter": {
    "hash": "659032454581496215ea079f20061774e38407e775639f7a4814d7b89284a104"
   }
  }
 },
 "nbformat": 4,
 "nbformat_minor": 2
}
