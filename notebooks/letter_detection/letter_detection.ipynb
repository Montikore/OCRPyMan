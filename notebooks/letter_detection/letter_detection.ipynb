{
 "cells": [
  {
   "cell_type": "markdown",
   "metadata": {},
   "source": [
    "# Problématique\n",
    "\n",
    "<h3> Prédire le nombre de lettres dans l'image (régression)</h3>\n",
    "\n",
    "- Sample de 1000 observations (1000 mots) : charger (function preprocess (utiliser en sortie un .numpy() pour avoir des arrays), container toutes observations pour faire une matrice de taille (nb_observation, nb_features).\n",
    "- Modèle Deep learning : MLP\n",
    "- Évaluation du modèle : MAE métrique\n"
   ]
  },
  {
   "cell_type": "markdown",
   "metadata": {},
   "source": [
    "# Import"
   ]
  },
  {
   "cell_type": "code",
   "execution_count": 1,
   "metadata": {},
   "outputs": [],
   "source": [
    "import tensorflow as tf\n",
    "import cv2\n",
    "import numpy as np\n",
    "import matplotlib.pyplot as plt\n",
    "import pickle\n",
    "import pandas as pd\n",
    "import re\n",
    "from os.path import exists"
   ]
  },
  {
   "cell_type": "code",
   "execution_count": 2,
   "metadata": {},
   "outputs": [
    {
     "data": {
      "text/plain": [
       "<module 'letter_detection_utils' from '/Users/jpec/Prog/OCRpyMAN/notebooks/letter_detection/letter_detection_utils.py'>"
      ]
     },
     "execution_count": 2,
     "metadata": {},
     "output_type": "execute_result"
    }
   ],
   "source": [
    "import letter_detection_utils as ld_util\n",
    "from importlib import reload \n",
    "import warnings\n",
    "\n",
    "# Ensure we have always the latest state and \n",
    "# not the last import in memory\n",
    "reload(ld_util)"
   ]
  },
  {
   "cell_type": "markdown",
   "metadata": {},
   "source": [
    "# Chargement du dataframe"
   ]
  },
  {
   "cell_type": "code",
   "execution_count": 5,
   "metadata": {},
   "outputs": [
    {
     "name": "stdout",
     "output_type": "stream",
     "text": [
      "Loading existing data from  ../../pickle/letter_detection_data.pickle ...\n",
      "Length:  1000\n",
      "Imgs length:  1000\n",
      "Img shape:  (4096,)\n"
     ]
    }
   ],
   "source": [
    "img_size = (32, 128)\n",
    "data = ld_util.get_dataframe_with_preprocessed_imgs(\n",
    "    # pickle_name='ld_sobel_y', \n",
    "    img_size=img_size,\n",
    "    with_edge_detection = False\n",
    ")\n",
    "\n",
    "df = data['df']\n",
    "preprocessed_imgs = data['preprocessed_imgs']\n",
    "\n",
    "print(\"Length: \", len(df))\n",
    "print(\"Imgs length: \", len(preprocessed_imgs))\n",
    "print(\"Img shape: \", preprocessed_imgs[0].shape)"
   ]
  },
  {
   "cell_type": "code",
   "execution_count": 5,
   "metadata": {},
   "outputs": [
    {
     "data": {
      "text/html": [
       "<div>\n",
       "<style scoped>\n",
       "    .dataframe tbody tr th:only-of-type {\n",
       "        vertical-align: middle;\n",
       "    }\n",
       "\n",
       "    .dataframe tbody tr th {\n",
       "        vertical-align: top;\n",
       "    }\n",
       "\n",
       "    .dataframe thead th {\n",
       "        text-align: right;\n",
       "    }\n",
       "</style>\n",
       "<table border=\"1\" class=\"dataframe\">\n",
       "  <thead>\n",
       "    <tr style=\"text-align: right;\">\n",
       "      <th></th>\n",
       "      <th>index</th>\n",
       "      <th>michelson_contrast</th>\n",
       "      <th>gray_level_mot</th>\n",
       "      <th>word_id</th>\n",
       "      <th>gray_level</th>\n",
       "      <th>x</th>\n",
       "      <th>y</th>\n",
       "      <th>w</th>\n",
       "      <th>h</th>\n",
       "      <th>transcription</th>\n",
       "      <th>word_img_path</th>\n",
       "      <th>form_img_path</th>\n",
       "      <th>length</th>\n",
       "    </tr>\n",
       "  </thead>\n",
       "  <tbody>\n",
       "    <tr>\n",
       "      <th>0</th>\n",
       "      <td>944</td>\n",
       "      <td>0.758621</td>\n",
       "      <td>0.889522</td>\n",
       "      <td>a01-020u-06-05</td>\n",
       "      <td>170</td>\n",
       "      <td>1954</td>\n",
       "      <td>1831</td>\n",
       "      <td>389</td>\n",
       "      <td>100</td>\n",
       "      <td>studying</td>\n",
       "      <td>../data/words/a01/a01-020u/a01-020u-06-05.png</td>\n",
       "      <td>../data/formsA-D/a01-020u.png</td>\n",
       "      <td>8</td>\n",
       "    </tr>\n",
       "    <tr>\n",
       "      <th>1</th>\n",
       "      <td>914</td>\n",
       "      <td>0.695946</td>\n",
       "      <td>0.774799</td>\n",
       "      <td>a01-020u-02-06</td>\n",
       "      <td>169</td>\n",
       "      <td>1565</td>\n",
       "      <td>1129</td>\n",
       "      <td>128</td>\n",
       "      <td>49</td>\n",
       "      <td>has</td>\n",
       "      <td>../data/words/a01/a01-020u/a01-020u-02-06.png</td>\n",
       "      <td>../data/formsA-D/a01-020u.png</td>\n",
       "      <td>3</td>\n",
       "    </tr>\n",
       "    <tr>\n",
       "      <th>2</th>\n",
       "      <td>581</td>\n",
       "      <td>0.683168</td>\n",
       "      <td>0.830613</td>\n",
       "      <td>a01-011u-04-05</td>\n",
       "      <td>166</td>\n",
       "      <td>1622</td>\n",
       "      <td>1472</td>\n",
       "      <td>321</td>\n",
       "      <td>62</td>\n",
       "      <td>discuss</td>\n",
       "      <td>../data/words/a01/a01-011u/a01-011u-04-05.png</td>\n",
       "      <td>../data/formsA-D/a01-011u.png</td>\n",
       "      <td>7</td>\n",
       "    </tr>\n",
       "  </tbody>\n",
       "</table>\n",
       "</div>"
      ],
      "text/plain": [
       "   index  michelson_contrast  gray_level_mot         word_id  gray_level  \\\n",
       "0    944            0.758621        0.889522  a01-020u-06-05         170   \n",
       "1    914            0.695946        0.774799  a01-020u-02-06         169   \n",
       "2    581            0.683168        0.830613  a01-011u-04-05         166   \n",
       "\n",
       "      x     y    w    h transcription  \\\n",
       "0  1954  1831  389  100      studying   \n",
       "1  1565  1129  128   49           has   \n",
       "2  1622  1472  321   62       discuss   \n",
       "\n",
       "                                   word_img_path  \\\n",
       "0  ../data/words/a01/a01-020u/a01-020u-06-05.png   \n",
       "1  ../data/words/a01/a01-020u/a01-020u-02-06.png   \n",
       "2  ../data/words/a01/a01-011u/a01-011u-04-05.png   \n",
       "\n",
       "                   form_img_path  length  \n",
       "0  ../data/formsA-D/a01-020u.png       8  \n",
       "1  ../data/formsA-D/a01-020u.png       3  \n",
       "2  ../data/formsA-D/a01-011u.png       7  "
      ]
     },
     "execution_count": 5,
     "metadata": {},
     "output_type": "execute_result"
    }
   ],
   "source": [
    "df.head(3)"
   ]
  },
  {
   "cell_type": "code",
   "execution_count": 6,
   "metadata": {},
   "outputs": [
    {
     "data": {
      "image/png": "[encoded data removed]",
      "text/plain": [
       "<Figure size 1008x360 with 10 Axes>"
      ]
     },
     "metadata": {
      "needs_background": "light"
     },
     "output_type": "display_data"
    }
   ],
   "source": [
    "plt.figure(figsize=(14, 5))\n",
    "j = 1\n",
    "for i in np.random.randint(low=0, high=len(preprocessed_imgs), size=[10]):\n",
    "    plt.subplot(2, 5, j)\n",
    "    plt.axis('off')\n",
    "    plt.imshow(preprocessed_imgs[i].reshape(img_size), cmap='gray');\n",
    "    plt.title(df.iloc[i].transcription + ' ' + str(df.iloc[i].length))\n",
    "    j+=1"
   ]
  },
  {
   "cell_type": "markdown",
   "metadata": {},
   "source": [
    "# Data visualisation"
   ]
  },
  {
   "cell_type": "markdown",
   "metadata": {},
   "source": [
    "Pour travailler avec les images et comparer le ratio hauteur/largeur, il faut au préalable rescale nos images."
   ]
  },
  {
   "cell_type": "code",
   "execution_count": 51,
   "metadata": {},
   "outputs": [
    {
     "data": {
      "text/html": [
       "<div>\n",
       "<style scoped>\n",
       "    .dataframe tbody tr th:only-of-type {\n",
       "        vertical-align: middle;\n",
       "    }\n",
       "\n",
       "    .dataframe tbody tr th {\n",
       "        vertical-align: top;\n",
       "    }\n",
       "\n",
       "    .dataframe thead th {\n",
       "        text-align: right;\n",
       "    }\n",
       "</style>\n",
       "<table border=\"1\" class=\"dataframe\">\n",
       "  <thead>\n",
       "    <tr style=\"text-align: right;\">\n",
       "      <th></th>\n",
       "      <th>transcription</th>\n",
       "      <th>length</th>\n",
       "      <th>w</th>\n",
       "      <th>word_img_path</th>\n",
       "      <th>form_img_path</th>\n",
       "    </tr>\n",
       "  </thead>\n",
       "  <tbody>\n",
       "    <tr>\n",
       "      <th>79</th>\n",
       "      <td>Independence</td>\n",
       "      <td>12</td>\n",
       "      <td>586</td>\n",
       "      <td>../data/words/a01/a01-011u/a01-011u-01-02.png</td>\n",
       "      <td>../data/formsA-D/a01-011u.png</td>\n",
       "    </tr>\n",
       "    <tr>\n",
       "      <th>627</th>\n",
       "      <td>Protectorate's</td>\n",
       "      <td>14</td>\n",
       "      <td>605</td>\n",
       "      <td>../data/words/a01/a01-014x/a01-014x-01-05.png</td>\n",
       "      <td>../data/formsA-D/a01-014x.png</td>\n",
       "    </tr>\n",
       "    <tr>\n",
       "      <th>15</th>\n",
       "      <td>demonstrations</td>\n",
       "      <td>14</td>\n",
       "      <td>640</td>\n",
       "      <td>../data/words/a01/a01-014x/a01-014x-06-02.png</td>\n",
       "      <td>../data/formsA-D/a01-014x.png</td>\n",
       "    </tr>\n",
       "  </tbody>\n",
       "</table>\n",
       "</div>"
      ],
      "text/plain": [
       "      transcription  length    w  \\\n",
       "79     Independence      12  586   \n",
       "627  Protectorate's      14  605   \n",
       "15   demonstrations      14  640   \n",
       "\n",
       "                                     word_img_path  \\\n",
       "79   ../data/words/a01/a01-011u/a01-011u-01-02.png   \n",
       "627  ../data/words/a01/a01-014x/a01-014x-01-05.png   \n",
       "15   ../data/words/a01/a01-014x/a01-014x-06-02.png   \n",
       "\n",
       "                     form_img_path  \n",
       "79   ../data/formsA-D/a01-011u.png  \n",
       "627  ../data/formsA-D/a01-014x.png  \n",
       "15   ../data/formsA-D/a01-014x.png  "
      ]
     },
     "execution_count": 51,
     "metadata": {},
     "output_type": "execute_result"
    }
   ],
   "source": [
    "df[['transcription', 'length', 'w', 'word_img_path', 'form_img_path']].sort_values(by=['w']).iloc[-3:]"
   ]
  },
  {
   "cell_type": "code",
   "execution_count": 52,
   "metadata": {},
   "outputs": [
    {
     "data": {
      "text/html": [
       "<div>\n",
       "<style scoped>\n",
       "    .dataframe tbody tr th:only-of-type {\n",
       "        vertical-align: middle;\n",
       "    }\n",
       "\n",
       "    .dataframe tbody tr th {\n",
       "        vertical-align: top;\n",
       "    }\n",
       "\n",
       "    .dataframe thead th {\n",
       "        text-align: right;\n",
       "    }\n",
       "</style>\n",
       "<table border=\"1\" class=\"dataframe\">\n",
       "  <thead>\n",
       "    <tr style=\"text-align: right;\">\n",
       "      <th></th>\n",
       "      <th>transcription</th>\n",
       "      <th>length</th>\n",
       "      <th>w</th>\n",
       "      <th>word_img_path</th>\n",
       "      <th>form_img_path</th>\n",
       "    </tr>\n",
       "  </thead>\n",
       "  <tbody>\n",
       "    <tr>\n",
       "      <th>148</th>\n",
       "      <td>A</td>\n",
       "      <td>1</td>\n",
       "      <td>27</td>\n",
       "      <td>../data/words/a01/a01-000u/a01-000u-00-00.png</td>\n",
       "      <td>../data/formsA-D/a01-000u.png</td>\n",
       "    </tr>\n",
       "    <tr>\n",
       "      <th>673</th>\n",
       "      <td>is</td>\n",
       "      <td>2</td>\n",
       "      <td>30</td>\n",
       "      <td>../data/words/a01/a01-000x/a01-000x-01-05.png</td>\n",
       "      <td>../data/formsA-D/a01-000x.png</td>\n",
       "    </tr>\n",
       "    <tr>\n",
       "      <th>441</th>\n",
       "      <td>a</td>\n",
       "      <td>1</td>\n",
       "      <td>32</td>\n",
       "      <td>../data/words/a01/a01-000x/a01-000x-01-10.png</td>\n",
       "      <td>../data/formsA-D/a01-000x.png</td>\n",
       "    </tr>\n",
       "  </tbody>\n",
       "</table>\n",
       "</div>"
      ],
      "text/plain": [
       "    transcription  length   w                                  word_img_path  \\\n",
       "148             A       1  27  ../data/words/a01/a01-000u/a01-000u-00-00.png   \n",
       "673            is       2  30  ../data/words/a01/a01-000x/a01-000x-01-05.png   \n",
       "441             a       1  32  ../data/words/a01/a01-000x/a01-000x-01-10.png   \n",
       "\n",
       "                     form_img_path  \n",
       "148  ../data/formsA-D/a01-000u.png  \n",
       "673  ../data/formsA-D/a01-000x.png  \n",
       "441  ../data/formsA-D/a01-000x.png  "
      ]
     },
     "execution_count": 52,
     "metadata": {},
     "output_type": "execute_result"
    }
   ],
   "source": [
    "df[['transcription', 'length', 'w', 'word_img_path', 'form_img_path']].sort_values(by=['w']).iloc[:3]"
   ]
  },
  {
   "cell_type": "markdown",
   "metadata": {},
   "source": [
    "Hypothèse: le nombre de caractère est proportionnel à la largeur des boîtes."
   ]
  },
  {
   "cell_type": "code",
   "execution_count": 53,
   "metadata": {},
   "outputs": [
    {
     "data": {
      "text/plain": [
       "count    1000.00000\n",
       "mean        4.84800\n",
       "std         2.48658\n",
       "min         1.00000\n",
       "25%         3.00000\n",
       "50%         4.00000\n",
       "75%         7.00000\n",
       "max        15.00000\n",
       "Name: length, dtype: float64"
      ]
     },
     "execution_count": 53,
     "metadata": {},
     "output_type": "execute_result"
    }
   ],
   "source": [
    "df['length'].describe()"
   ]
  },
  {
   "cell_type": "code",
   "execution_count": 54,
   "metadata": {},
   "outputs": [
    {
     "data": {
      "image/png": "[encoded data removed]",
      "text/plain": [
       "<Figure size 1440x1008 with 1 Axes>"
      ]
     },
     "metadata": {
      "needs_background": "light"
     },
     "output_type": "display_data"
    }
   ],
   "source": [
    "ld_util.plot_avg_width_per_string_length(df)"
   ]
  },
  {
   "cell_type": "markdown",
   "metadata": {},
   "source": [
    "# Model"
   ]
  },
  {
   "cell_type": "markdown",
   "metadata": {},
   "source": [
    "## Linear"
   ]
  },
  {
   "cell_type": "code",
   "execution_count": 10,
   "metadata": {},
   "outputs": [],
   "source": [
    "from sklearn.model_selection import train_test_split\n",
    "\n",
    "X_lin_train, X_lin_test, y_lin_train, y_lin_test = train_test_split(df[['w']], df['length'], test_size=0.2)"
   ]
  },
  {
   "cell_type": "code",
   "execution_count": 11,
   "metadata": {},
   "outputs": [
    {
     "name": "stdout",
     "output_type": "stream",
     "text": [
      "Score:  0.820654687983935\n"
     ]
    }
   ],
   "source": [
    "from sklearn.linear_model import LinearRegression\n",
    "\n",
    "lr = LinearRegression()\n",
    "lr.fit(X_lin_train, y_lin_train)\n",
    "score = lr.score(X_lin_test, y_lin_test)\n",
    "y_lin_test_pred = lr.predict(X_lin_test)\n",
    "\n",
    "print(\"Score: \", score)"
   ]
  },
  {
   "cell_type": "code",
   "execution_count": 12,
   "metadata": {},
   "outputs": [
    {
     "data": {
      "text/plain": [
       "array([0.02127271])"
      ]
     },
     "execution_count": 12,
     "metadata": {},
     "output_type": "execute_result"
    }
   ],
   "source": [
    "lr.coef_"
   ]
  },
  {
   "cell_type": "code",
   "execution_count": 9,
   "metadata": {},
   "outputs": [
    {
     "data": {
      "text/plain": [
       "0.036973991201704415"
      ]
     },
     "execution_count": 9,
     "metadata": {},
     "output_type": "execute_result"
    }
   ],
   "source": [
    "lr.intercept_"
   ]
  },
  {
   "cell_type": "code",
   "execution_count": 13,
   "metadata": {},
   "outputs": [
    {
     "data": {
      "text/plain": [
       "0.02127270968334295"
      ]
     },
     "execution_count": 13,
     "metadata": {},
     "output_type": "execute_result"
    }
   ],
   "source": [
    "lr.coef_[0]"
   ]
  },
  {
   "cell_type": "code",
   "execution_count": 19,
   "metadata": {},
   "outputs": [
    {
     "data": {
      "image/png": "[encoded data removed]",
      "text/plain": [
       "<Figure size 432x288 with 1 Axes>"
      ]
     },
     "metadata": {
      "needs_background": "light"
     },
     "output_type": "display_data"
    }
   ],
   "source": [
    "xmin = df.w.min()\n",
    "xmax = df.w.max()\n",
    "X = np.linspace(xmin, xmax, 1000)\n",
    "y = X * lr.coef_[0] + lr.intercept_\n",
    "plt.plot(X, y);\n",
    "plt.scatter(df['w'], df['length'], ls='dotted', color='gold');"
   ]
  }
 ],
 "metadata": {
  "kernelspec": {
   "display_name": "Python 3.7.11 ('tf')",
   "language": "python",
   "name": "python3"
  },
  "language_info": {
   "codemirror_mode": {
    "name": "ipython",
    "version": 3
   },
   "file_extension": ".py",
   "mimetype": "text/x-python",
   "name": "python",
   "nbconvert_exporter": "python",
   "pygments_lexer": "ipython3",
   "version": "3.7.11"
  },
  "orig_nbformat": 4,
  "vscode": {
   "interpreter": {
    "hash": "659032454581496215ea079f20061774e38407e775639f7a4814d7b89284a104"
   }
  }
 },
 "nbformat": 4,
 "nbformat_minor": 2
}
