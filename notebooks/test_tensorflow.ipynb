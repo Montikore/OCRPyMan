{
 "cells": [
  {
   "cell_type": "code",
   "execution_count": 2,
   "metadata": {},
   "outputs": [
    {
     "name": "stdout",
     "output_type": "stream",
     "text": [
      "Python Platform: Windows-10-10.0.22621-SP0\n",
      "Tensor Flow Version: 2.11.0\n",
      "Keras Version: 2.11.0\n",
      "\n",
      "Python 3.8.16 (default, Jan 17 2023, 22:25:28) [MSC v.1916 64 bit (AMD64)]\n",
      "Pandas 1.5.3\n",
      "Scikit-Learn 1.2.1\n",
      "SciPy 1.10.0\n",
      "GPU is NOT AVAILABLE\n"
     ]
    }
   ],
   "source": [
    "import sys\n",
    "import tensorflow.keras\n",
    "import pandas as pd\n",
    "import sklearn as sk\n",
    "import scipy as sp\n",
    "import tensorflow as tf\n",
    "import platform\n",
    "print(f\"Python Platform: {platform.platform()}\")\n",
    "print(f\"Tensor Flow Version: {tf.__version__}\")\n",
    "print(f\"Keras Version: {tensorflow.keras.__version__}\")\n",
    "print()\n",
    "print(f\"Python {sys.version}\")\n",
    "print(f\"Pandas {pd.__version__}\")\n",
    "print(f\"Scikit-Learn {sk.__version__}\")\n",
    "print(f\"SciPy {sp.__version__}\")\n",
    "gpu = len(tf.config.list_physical_devices('GPU'))>0\n",
    "print(\"GPU is\", \"available\" if gpu else \"NOT AVAILABLE\")"
   ]
  },
  {
   "cell_type": "code",
   "execution_count": null,
   "metadata": {},
   "outputs": [],
   "source": [
    "from ctypes.util import find_library\n",
    "\n",
    "find_library('gobject-2.0')  # Pass any other lib name as an argument\n",
    "#gobject-2.0"
   ]
  },
  {
   "attachments": {},
   "cell_type": "markdown",
   "metadata": {},
   "source": [
    "conda install glib pango\n",
    "pip install tf2onnx\n",
    "pip install --force-reinstall -v \"protobuf<3.20\""
   ]
  },
  {
   "cell_type": "code",
   "execution_count": null,
   "metadata": {},
   "outputs": [],
   "source": [
    "pip install --force-reinstall -v \"streamlit==0.85.0\"\n",
    "\n",
    "onnx"
   ]
  },
  {
   "attachments": {},
   "cell_type": "markdown",
   "metadata": {},
   "source": [
    "# New"
   ]
  },
  {
   "cell_type": "code",
   "execution_count": 3,
   "metadata": {},
   "outputs": [
    {
     "ename": "SyntaxError",
     "evalue": "invalid syntax (2197174655.py, line 1)",
     "output_type": "error",
     "traceback": [
      "\u001b[1;36m  Input \u001b[1;32mIn [3]\u001b[1;36m\u001b[0m\n\u001b[1;33m    conda create -n projet1-3.8 python=3.8\u001b[0m\n\u001b[1;37m          ^\u001b[0m\n\u001b[1;31mSyntaxError\u001b[0m\u001b[1;31m:\u001b[0m invalid syntax\n"
     ]
    }
   ],
   "source": [
    "conda create -n work python=3.8\n",
    "conda activate work\n",
    "\n",
    "\n",
    "conda install -c apple tensorflow-deps &&\n",
    "pip install tensorflow-macos &&\n",
    "pip install tensorflow-metal &&\n",
    "pip install python-doctr &&\n",
    "conda install notebook -y\n",
    "\n",
    "pip install numpy  --upgrade &&\n",
    "pip install pandas  --upgrade &&\n",
    "pip install matplotlib  --upgrade &&\n",
    "pip install scikit-learn  --upgrade &&\n",
    "pip install scipy  --upgrade &&\n",
    "pip install plotly  --upgrade\n",
    "\n",
    "pip install watchdog\n",
    "pip install python-doctr\n",
    "pip install streamlit-drawable-canvas\n",
    "pip install tensorflow-addons\n"
   ]
  },
  {
   "attachments": {},
   "cell_type": "markdown",
   "metadata": {},
   "source": [
    "# Pour Windows"
   ]
  },
  {
   "cell_type": "code",
   "execution_count": null,
   "metadata": {},
   "outputs": [],
   "source": [
    "# à lancer une fois dans powershell si besoin (au moins la premiere fois) : \n",
    "    # conda init powershell\n",
    "\n",
    "# relancer un powersheel, et si un erreur apparait, executer la commade :\n",
    "    # Set-ExecutionPolicy -ExecutionPolicy Bypass -Scope CurrentUser\n",
    "    \n",
    "# Coller tout le texte suivant dans powershell pour l'exécuter    \n",
    "conda create -n projet1-3.8 python=3.8\n",
    "conda activate projet1-3.8\n",
    "\n",
    "conda install tensorflow-deps   # not found\n",
    "pip install python-doctr\n",
    "conda install notebook -y\n",
    "\n",
    "pip install numpy  --upgrade\n",
    "pip install pandas  --upgrade\n",
    "pip install matplotlib  --upgrade\n",
    "pip install scikit-learn  --upgrade\n",
    "pip install scipy  --upgrade\n",
    "pip install plotly  --upgrade\n",
    "\n",
    "pip install watchdog\n",
    "pip install python-doctr\n",
    "pip install streamlit-drawable-canvas\n",
    "pip install tensorflow-addons\n",
    "pip install tensorflow\n",
    "pip install tf2onnx --user\n",
    "\n",
    "\n",
    " \n",
    "\n",
    "\n",
    "\n"
   ]
  }
 ],
 "metadata": {
  "kernelspec": {
   "display_name": "projet1-3.8",
   "language": "python",
   "name": "python3"
  },
  "language_info": {
   "codemirror_mode": {
    "name": "ipython",
    "version": 3
   },
   "file_extension": ".py",
   "mimetype": "text/x-python",
   "name": "python",
   "nbconvert_exporter": "python",
   "pygments_lexer": "ipython3",
   "version": "3.8.16 (default, Jan 17 2023, 16:39:35) \n[Clang 14.0.6 ]"
  },
  "orig_nbformat": 4,
  "vscode": {
   "interpreter": {
    "hash": "d885cc64444a92609a79d26152ccd66bc58756b5919a05e2997ec8c42f938ee1"
   }
  }
 },
 "nbformat": 4,
 "nbformat_minor": 2
}
