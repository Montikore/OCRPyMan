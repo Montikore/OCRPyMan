{
 "cells": [
  {
   "cell_type": "code",
   "execution_count": 1,
   "metadata": {},
   "outputs": [
    {
     "name": "stdout",
     "output_type": "stream",
     "text": [
      "Python Platform: macOS-13.1-arm64-i386-64bit\n",
      "Tensor Flow Version: 2.11.0\n",
      "Keras Version: 2.11.0\n",
      "\n",
      "Python 3.8.16 (default, Jan 17 2023, 16:39:35) \n",
      "[Clang 14.0.6 ]\n",
      "Pandas 1.5.3\n",
      "Scikit-Learn 1.2.1\n",
      "SciPy 1.10.0\n",
      "GPU is available\n"
     ]
    }
   ],
   "source": [
    "import sys\n",
    "import tensorflow.keras\n",
    "import pandas as pd\n",
    "import sklearn as sk\n",
    "import scipy as sp\n",
    "import tensorflow as tf\n",
    "import platform\n",
    "print(f\"Python Platform: {platform.platform()}\")\n",
    "print(f\"Tensor Flow Version: {tf.__version__}\")\n",
    "print(f\"Keras Version: {tensorflow.keras.__version__}\")\n",
    "print()\n",
    "print(f\"Python {sys.version}\")\n",
    "print(f\"Pandas {pd.__version__}\")\n",
    "print(f\"Scikit-Learn {sk.__version__}\")\n",
    "print(f\"SciPy {sp.__version__}\")\n",
    "gpu = len(tf.config.list_physical_devices('GPU'))>0\n",
    "print(\"GPU is\", \"available\" if gpu else \"NOT AVAILABLE\")"
   ]
  },
  {
   "cell_type": "code",
   "execution_count": null,
   "metadata": {},
   "outputs": [],
   "source": [
    "from ctypes.util import find_library\n",
    "\n",
    "find_library('gobject-2.0')  # Pass any other lib name as an argument\n",
    "#gobject-2.0"
   ]
  },
  {
   "attachments": {},
   "cell_type": "markdown",
   "metadata": {},
   "source": [
    "conda install glib pango\n",
    "pip install tf2onnx\n",
    "pip install --force-reinstall -v \"protobuf<3.20\""
   ]
  },
  {
   "cell_type": "code",
   "execution_count": null,
   "metadata": {},
   "outputs": [],
   "source": [
    "pip install --force-reinstall -v \"streamlit==0.85.0\"\n",
    "\n",
    "onnx"
   ]
  },
  {
   "attachments": {},
   "cell_type": "markdown",
   "metadata": {},
   "source": [
    "# New"
   ]
  },
  {
   "cell_type": "code",
   "execution_count": null,
   "metadata": {},
   "outputs": [],
   "source": [
    "conda create -n work python=3.8\n",
    "conda activate work\n",
    "\n",
    "\n",
    "conda install -c apple tensorflow-deps &&\n",
    "pip install tensorflow-macos &&\n",
    "pip install tensorflow-metal &&\n",
    "pip install python-doctr &&\n",
    "conda install notebook -y\n",
    "\n",
    "pip install numpy  --upgrade &&\n",
    "pip install pandas  --upgrade &&\n",
    "pip install matplotlib  --upgrade &&\n",
    "pip install scikit-learn  --upgrade &&\n",
    "pip install scipy  --upgrade &&\n",
    "pip install plotly  --upgrade\n",
    "\n",
    "pip install watchdog\n",
    "pip install python-doctr\n",
    "pip install streamlit-drawable-canvas\n",
    "pip install tensorflow-addons\n"
   ]
  }
 ],
 "metadata": {
  "kernelspec": {
   "display_name": "Python 3",
   "language": "python",
   "name": "python3"
  },
  "language_info": {
   "codemirror_mode": {
    "name": "ipython",
    "version": 3
   },
   "file_extension": ".py",
   "mimetype": "text/x-python",
   "name": "python",
   "nbconvert_exporter": "python",
   "pygments_lexer": "ipython3",
   "version": "3.8.16"
  },
  "orig_nbformat": 4,
  "vscode": {
   "interpreter": {
    "hash": "254175ea94f058a7e7299e703d2835f403cfc8242bb5093cb467c93f36ccb172"
   }
  }
 },
 "nbformat": 4,
 "nbformat_minor": 2
}
