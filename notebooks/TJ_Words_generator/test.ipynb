{
 "cells": [
  {
   "cell_type": "code",
   "execution_count": 2,
   "metadata": {},
   "outputs": [],
   "source": [
    "from fontpreview import FontPreview\n",
    "import numpy as np\n",
    "import matplotlib.pyplot as plt\n",
    "import cv2\n",
    "\n",
    "# BIDOUILLE SALE!! pour importer des fichiers qui ne sont pas dans le meme repertoire. les fichiers devront être rangés par la suite\n",
    "import sys\n",
    "sys.path.insert(1, '../')\n",
    "\n",
    "import ressources as rss\n"
   ]
  },
  {
   "cell_type": "code",
   "execution_count": 3,
   "metadata": {},
   "outputs": [],
   "source": [
    "# initialisation des variables globales\n",
    "rss.init()"
   ]
  },
  {
   "cell_type": "code",
   "execution_count": 4,
   "metadata": {},
   "outputs": [],
   "source": [
    "\n",
    "\n",
    "\n",
    "#Generation d'un mot aléatoire\n",
    "def gen_word():\n",
    "    nb_letters = np.random.randint(2, 20)\n",
    "    font_size = np.random.randint(75, 150)\n",
    "    # coeff sur la taille\n",
    "    size_coeff = np.random.randint(1, 30) / 100\n",
    "    height = 60\n",
    "    \n",
    "    word = ''\n",
    "    for i in range(0, nb_letters-1):\n",
    "        random_letter = rss.charList[np.random.randint(0, len(rss.charList)-1)]\n",
    "        random_letter = random_letter.strip().lower()\n",
    "        word = word + random_letter\n",
    "\n",
    "    fpp = FontPreview('CollectionNewStyle.ttf') \n",
    "    fpp.font_text = str(word)\n",
    "    # fp.bg_color = (253, 194, 45)        # background color. RGB color: yellow\n",
    "    fpp.dimension = (15*nb_letters, height + height*size_coeff)           # specify dimension in pixel: 300 x 250\n",
    "    # fp.fg_color = (51, 153, 193)        # foreground or font color. RGB color: blue\n",
    "    x = int(font_size + font_size*size_coeff)\n",
    "    print(type(x))\n",
    "    fpp.set_font_size(10)  \n",
    "    fpp.set_font_size(x)       \n",
    "    fpp.set_text_position('center')        \n",
    "    # before saving the image, you need to draw it\n",
    "    fpp.draw()\n",
    "    \n",
    "    filename = ''.join(e for e in word if e.isalnum())   # pour que le nom de fichier soit valide \n",
    "    print('word_images/' + filename + '.png')\n",
    "    fpp.save('word_images/' + filename + '.png')\n",
    "\n",
    "\n"
   ]
  },
  {
   "cell_type": "code",
   "execution_count": 5,
   "metadata": {},
   "outputs": [],
   "source": [
    "import glob  # pour la fonction get_files()\n",
    "\n",
    "# parcours de tous les fichiers d'un dossier et ses sous-dossiers, possibilité de spécifier une extension et la recherche parmis les sous dossiers\n",
    "def get_files(path, ext='', sub=False):\n",
    "    if sub == True:\n",
    "        path = path + '/**'     \n",
    "    if ext != '':\n",
    "        path = path + '/*.' + ext\n",
    "    else:\n",
    "        path = path + '/*.*'  # le . filtre les dossiers  \n",
    "    files = glob.glob(path, recursive=sub)\n",
    "    return files"
   ]
  },
  {
   "cell_type": "code",
   "execution_count": 6,
   "metadata": {},
   "outputs": [
    {
     "name": "stdout",
     "output_type": "stream",
     "text": [
      "<class 'int'>\n"
     ]
    },
    {
     "ename": "TypeError",
     "evalue": "integer argument expected, got float",
     "output_type": "error",
     "traceback": [
      "\u001b[1;31m---------------------------------------------------------------------------\u001b[0m",
      "\u001b[1;31mTypeError\u001b[0m                                 Traceback (most recent call last)",
      "\u001b[1;32md:\\GitHub\\OCRpyMAN\\notebooks\\TJ_Words_generator\\test.ipynb Cellule 5\u001b[0m in \u001b[0;36m<cell line: 1>\u001b[1;34m()\u001b[0m\n\u001b[0;32m      <a href='vscode-notebook-cell:/d%3A/GitHub/OCRpyMAN/notebooks/TJ_Words_generator/test.ipynb#W4sZmlsZQ%3D%3D?line=0'>1</a>\u001b[0m \u001b[39mfor\u001b[39;00m i \u001b[39min\u001b[39;00m \u001b[39mrange\u001b[39m(\u001b[39m0\u001b[39m,\u001b[39m50\u001b[39m):\n\u001b[1;32m----> <a href='vscode-notebook-cell:/d%3A/GitHub/OCRpyMAN/notebooks/TJ_Words_generator/test.ipynb#W4sZmlsZQ%3D%3D?line=1'>2</a>\u001b[0m     gen_word()\n",
      "\u001b[1;32md:\\GitHub\\OCRpyMAN\\notebooks\\TJ_Words_generator\\test.ipynb Cellule 5\u001b[0m in \u001b[0;36mgen_word\u001b[1;34m()\u001b[0m\n\u001b[0;32m     <a href='vscode-notebook-cell:/d%3A/GitHub/OCRpyMAN/notebooks/TJ_Words_generator/test.ipynb#W4sZmlsZQ%3D%3D?line=19'>20</a>\u001b[0m x \u001b[39m=\u001b[39m \u001b[39mint\u001b[39m(font_size \u001b[39m+\u001b[39m font_size\u001b[39m*\u001b[39msize_coeff)\n\u001b[0;32m     <a href='vscode-notebook-cell:/d%3A/GitHub/OCRpyMAN/notebooks/TJ_Words_generator/test.ipynb#W4sZmlsZQ%3D%3D?line=20'>21</a>\u001b[0m \u001b[39mprint\u001b[39m(\u001b[39mtype\u001b[39m(x))\n\u001b[1;32m---> <a href='vscode-notebook-cell:/d%3A/GitHub/OCRpyMAN/notebooks/TJ_Words_generator/test.ipynb#W4sZmlsZQ%3D%3D?line=21'>22</a>\u001b[0m fpp\u001b[39m.\u001b[39;49mset_font_size(\u001b[39m10\u001b[39;49m)  \n\u001b[0;32m     <a href='vscode-notebook-cell:/d%3A/GitHub/OCRpyMAN/notebooks/TJ_Words_generator/test.ipynb#W4sZmlsZQ%3D%3D?line=22'>23</a>\u001b[0m fpp\u001b[39m.\u001b[39mset_font_size(x)       \n\u001b[0;32m     <a href='vscode-notebook-cell:/d%3A/GitHub/OCRpyMAN/notebooks/TJ_Words_generator/test.ipynb#W4sZmlsZQ%3D%3D?line=23'>24</a>\u001b[0m fpp\u001b[39m.\u001b[39mset_text_position(\u001b[39m'\u001b[39m\u001b[39mcenter\u001b[39m\u001b[39m'\u001b[39m)        \n",
      "File \u001b[1;32mc:\\Users\\TiBo\\anaconda3\\lib\\site-packages\\fontpreview\\fontpreview.py:154\u001b[0m, in \u001b[0;36mFontPreview.set_font_size\u001b[1;34m(self, size)\u001b[0m\n\u001b[0;32m    152\u001b[0m \u001b[39mself\u001b[39m\u001b[39m.\u001b[39m__resize()\n\u001b[0;32m    153\u001b[0m \u001b[39m# Create image\u001b[39;00m\n\u001b[1;32m--> 154\u001b[0m \u001b[39mself\u001b[39;49m\u001b[39m.\u001b[39;49mdraw()\n",
      "File \u001b[1;32mc:\\Users\\TiBo\\anaconda3\\lib\\site-packages\\fontpreview\\fontpreview.py:130\u001b[0m, in \u001b[0;36mFontPreview.draw\u001b[1;34m(self, align)\u001b[0m\n\u001b[0;32m    127\u001b[0m     \u001b[39mself\u001b[39m\u001b[39m.\u001b[39mimage \u001b[39m=\u001b[39m Image\u001b[39m.\u001b[39mopen(\u001b[39mself\u001b[39m\u001b[39m.\u001b[39mbg_image)\n\u001b[0;32m    128\u001b[0m \u001b[39m# Draw background with flat color\u001b[39;00m\n\u001b[0;32m    129\u001b[0m \u001b[39melse\u001b[39;00m:\n\u001b[1;32m--> 130\u001b[0m     \u001b[39mself\u001b[39m\u001b[39m.\u001b[39mimage \u001b[39m=\u001b[39m Image\u001b[39m.\u001b[39;49mnew(\u001b[39mself\u001b[39;49m\u001b[39m.\u001b[39;49mcolor_system, \u001b[39mself\u001b[39;49m\u001b[39m.\u001b[39;49mdimension, color\u001b[39m=\u001b[39;49m\u001b[39mself\u001b[39;49m\u001b[39m.\u001b[39;49mbg_color)\n\u001b[0;32m    131\u001b[0m draw \u001b[39m=\u001b[39m ImageDraw\u001b[39m.\u001b[39mDraw(\u001b[39mself\u001b[39m\u001b[39m.\u001b[39mimage)\n\u001b[0;32m    132\u001b[0m draw\u001b[39m.\u001b[39mtext(\u001b[39mself\u001b[39m\u001b[39m.\u001b[39mfont_position, \u001b[39mself\u001b[39m\u001b[39m.\u001b[39mfont_text, fill\u001b[39m=\u001b[39m\u001b[39mself\u001b[39m\u001b[39m.\u001b[39mfg_color, font\u001b[39m=\u001b[39m\u001b[39mself\u001b[39m\u001b[39m.\u001b[39mfont, align\u001b[39m=\u001b[39malign)\n",
      "File \u001b[1;32mc:\\Users\\TiBo\\anaconda3\\lib\\site-packages\\PIL\\Image.py:2670\u001b[0m, in \u001b[0;36mnew\u001b[1;34m(mode, size, color)\u001b[0m\n\u001b[0;32m   2668\u001b[0m     im\u001b[39m.\u001b[39mpalette \u001b[39m=\u001b[39m ImagePalette\u001b[39m.\u001b[39mImagePalette()\n\u001b[0;32m   2669\u001b[0m     color \u001b[39m=\u001b[39m im\u001b[39m.\u001b[39mpalette\u001b[39m.\u001b[39mgetcolor(color)\n\u001b[1;32m-> 2670\u001b[0m \u001b[39mreturn\u001b[39;00m im\u001b[39m.\u001b[39m_new(core\u001b[39m.\u001b[39;49mfill(mode, size, color))\n",
      "\u001b[1;31mTypeError\u001b[0m: integer argument expected, got float"
     ]
    }
   ],
   "source": [
    "\n",
    "for i in range(0,50):\n",
    "    gen_word()"
   ]
  },
  {
   "cell_type": "code",
   "execution_count": null,
   "metadata": {},
   "outputs": [],
   "source": [
    "# Affichage des mots\n",
    "from matplotlib import cm\n",
    "\n",
    "all_files = get_files('word_images', ext='png', sub=False)\n",
    "print(len(all_files))\n",
    "\n",
    "\n",
    "j = 1\n",
    "plt.figure(figsize=(20, 10))\n",
    "for i in np.random.choice(len(all_files), size = 20):\n",
    "    img = cv2.imread(all_files[i]) \n",
    "    # img = img.reshape(32, 128)\n",
    "    \n",
    "    plt.subplot(4, 5, j)\n",
    "    j = j + 1\n",
    "    plt.axis('on')\n",
    "    plt.imshow(img, cmap=cm.binary, interpolation='None')\n",
    "    # plt.title('True Label: ' + str(y_test[i]) \\\n",
    "    #         + '\\n' + 'Prediction: '+ str(predicted_transcriptions[i])) #\\"
   ]
  }
 ],
 "metadata": {
  "kernelspec": {
   "display_name": "Python 3.9.12 ('base')",
   "language": "python",
   "name": "python3"
  },
  "language_info": {
   "codemirror_mode": {
    "name": "ipython",
    "version": 3
   },
   "file_extension": ".py",
   "mimetype": "text/x-python",
   "name": "python",
   "nbconvert_exporter": "python",
   "pygments_lexer": "ipython3",
   "version": "3.9.12"
  },
  "orig_nbformat": 4,
  "vscode": {
   "interpreter": {
    "hash": "646607af5cee56728deff5007f5747c6b792545c0f7c2f22c37576bfe12603f2"
   }
  }
 },
 "nbformat": 4,
 "nbformat_minor": 2
}
