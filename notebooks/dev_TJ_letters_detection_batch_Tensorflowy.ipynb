{
 "cells": [
  {
   "cell_type": "markdown",
   "metadata": {},
   "source": [
    "# Problématique\n",
    "\n",
    "<h3> Prédire le mot dans l'image </h3>\n",
    "\n",
    "- Sample de 1000 observations (1000 mots) : charger (function preprocess (utiliser en sortie un .numpy() pour avoir des arrays), container toutes observations pour faire une matrice de taille (nb_observation, nb_features).\n",
    "- Modèle Deep learning : RNN\n",
    "- Évaluation du modèle : ?\n"
   ]
  },
  {
   "cell_type": "markdown",
   "metadata": {},
   "source": [
    "# Import"
   ]
  },
  {
   "cell_type": "code",
   "execution_count": 1,
   "metadata": {},
   "outputs": [],
   "source": [
    "import tensorflow as tf\n",
    "import cv2\n",
    "import numpy as np\n",
    "import matplotlib.pyplot as plt\n",
    "import pickle\n",
    "import pandas as pd\n",
    "import re\n",
    "from os.path import exists\n",
    "from sklearn.model_selection import GridSearchCV\n",
    "from sklearn.model_selection import train_test_split\n",
    "import string\n",
    "\n",
    "\n",
    "import letter_detection_utils as ld_util\n",
    "import preprocessing as pp\n",
    "import ressources as rss\n"
   ]
  },
  {
   "cell_type": "code",
   "execution_count": 80,
   "metadata": {},
   "outputs": [
    {
     "data": {
      "text/plain": [
       "<module 'ressources' from 'd:\\\\GitHub\\\\OCRpyMAN\\\\notebooks\\\\ressources.py'>"
      ]
     },
     "execution_count": 80,
     "metadata": {},
     "output_type": "execute_result"
    }
   ],
   "source": [
    "# Pour recharger les libs pendant les devs\n",
    "from importlib import reload \n",
    "reload(ld_util)\n",
    "reload(pp)\n",
    "reload(rss)"
   ]
  },
  {
   "cell_type": "code",
   "execution_count": 38,
   "metadata": {},
   "outputs": [],
   "source": [
    "# BIDOUILLE SALE!! pour importer des fichiers qui ne sont pas dans le meme repertoire. les fichiers devront être mieux rangés par la suite\n",
    "# import sys\n",
    "# sys.path.insert(1, '../')\n",
    "\n",
    "# import preprocessing as pp\n",
    "# import ressources as rss"
   ]
  },
  {
   "cell_type": "markdown",
   "metadata": {},
   "source": [
    "# Chargement du dataframe"
   ]
  },
  {
   "cell_type": "code",
   "execution_count": 2,
   "metadata": {},
   "outputs": [],
   "source": [
    "# initialisation des variables globales\n",
    "rss.init()"
   ]
  },
  {
   "cell_type": "code",
   "execution_count": 79,
   "metadata": {},
   "outputs": [
    {
     "name": "stdout",
     "output_type": "stream",
     "text": [
      "plouf:  False\n",
      "path : ../data/canny/g06-011c-05-02.png\n"
     ]
    },
    {
     "data": {
      "text/plain": [
       "<matplotlib.image.AxesImage at 0x2c6a1299ac0>"
      ]
     },
     "execution_count": 79,
     "metadata": {},
     "output_type": "execute_result"
    },
    {
     "data": {
      "image/png": "[encoded data removed]",
      "text/plain": [
       "<Figure size 432x288 with 1 Axes>"
      ]
     },
     "metadata": {
      "needs_background": "light"
     },
     "output_type": "display_data"
    }
   ],
   "source": [
    "def process_1_img_canny(x, y):\n",
    "    \n",
    "    path_tmp = ''\n",
    "    path= ''\n",
    "    try:\n",
    "        path = x.numpy().decode('utf-8')\n",
    "        file_name = path.split('/')[-1]\n",
    "        path_tmp = '../data/canny/' + file_name  # toutes les images au format canny seront stockées dans ce dossier\n",
    "\n",
    "        if not os.path.exists(path_tmp):\n",
    "            image = cv2.imread(path) \n",
    "            edged = cv2.Canny(image, 30, 200)\n",
    "            cv2.imwrite(path_tmp, edged)\n",
    "        path = path_tmp\n",
    "                \n",
    "        \n",
    "    except :\n",
    "        print(\"Unexpected error:\", sys.exc_info()[0])\n",
    "    \n",
    "    img = ld_util.preprocess(path, img_size=rss.img_size,  data_augmentation=True, is_threshold=True)  \n",
    "    print('plouf: ', not os.path.exists(path_tmp))\n",
    "    print('path :', path_tmp)\n",
    "    return img, y\n",
    "\n",
    "\n",
    "x,y = tf.py_function(process_1_img_canny, ['../data/words/g06/g06-011c/g06-011c-05-02.png', 'plouf'], [tf.float32, tf.string])\n",
    "\n",
    "plt.imshow(x, cmap='gray')\n"
   ]
  },
  {
   "cell_type": "code",
   "execution_count": 70,
   "metadata": {},
   "outputs": [],
   "source": [
    "#####TESTSSSS\n",
    "df = pd.read_pickle('../pickle/df.pickle')\n",
    "\n",
    "    # on filtre les chaines vides\n",
    "\n",
    "df['clean_trans'] = df.transcription.apply(lambda x: ld_util.extract_allowed_chars_from_string(rss.charList, x))\n",
    "df = df[(df['clean_trans'] != \"\") & (df['clean_trans'] == df['transcription'])]\n",
    "\n",
    "#fix temporaire, à finaliser avec l'archi du projet\n",
    "# df['word_img_path'] = df['word_img_path'].apply(lambda x: x[3:])\n",
    "\n",
    "X_train, X_test, y_train, y_test = train_test_split(df['word_img_path'], df['transcription'].values, test_size=0.1, random_state=123)\n",
    "dataset_train = tf.data.Dataset.from_tensor_slices((X_train, y_train))\n",
    "dataset_test = tf.data.Dataset.from_tensor_slices((X_test, y_test))\n",
    "\n",
    "# dataset = tf.data.Dataset.from_tensor_slices((df['word_img_path'].values, df['transcription'].values))\n",
    "# dataset_train = dataset_train.map(ld_util.process_1_img_canny)\n",
    "dataset_train = dataset_train.map(lambda x,y: tf.py_function(ld_util.process_1_img_canny, [x, y], [tf.float32, tf.string]))\n",
    "dataset_train = dataset_train.batch(64)\n"
   ]
  },
  {
   "cell_type": "code",
   "execution_count": 3,
   "metadata": {},
   "outputs": [
    {
     "ename": "NameError",
     "evalue": "name 'dataset_train' is not defined",
     "output_type": "error",
     "traceback": [
      "\u001b[1;31m---------------------------------------------------------------------------\u001b[0m",
      "\u001b[1;31mNameError\u001b[0m                                 Traceback (most recent call last)",
      "\u001b[1;32md:\\GitHub\\OCRpyMAN\\notebooks\\dev_TJ_letters_detection_batch_Tensorflowy.ipynb Cellule 10\u001b[0m in \u001b[0;36m<cell line: 1>\u001b[1;34m()\u001b[0m\n\u001b[1;32m----> <a href='vscode-notebook-cell:/d%3A/GitHub/OCRpyMAN/notebooks/dev_TJ_letters_detection_batch_Tensorflowy.ipynb#X32sZmlsZQ%3D%3D?line=0'>1</a>\u001b[0m data_iter \u001b[39m=\u001b[39m \u001b[39miter\u001b[39m(dataset_train)\n",
      "\u001b[1;31mNameError\u001b[0m: name 'dataset_train' is not defined"
     ]
    }
   ],
   "source": [
    "data_iter = iter(dataset_train)\n"
   ]
  },
  {
   "cell_type": "code",
   "execution_count": 72,
   "metadata": {},
   "outputs": [
    {
     "name": "stdout",
     "output_type": "stream",
     "text": [
      "Unexpected error: <class 'AttributeError'>\n",
      "plouf:  True\n",
      "path : \n"
     ]
    },
    {
     "ename": "InvalidArgumentError",
     "evalue": "{{function_node __wrapped__IteratorGetNext_output_types_2_device_/job:localhost/replica:0/task:0/device:CPU:0}} UnicodeDecodeError: 'utf-8' codec can't decode byte 0x92 in position 113: invalid start byte\nTraceback (most recent call last):\n\n  File \"C:\\Users\\TiBo\\AppData\\Roaming\\Python\\Python39\\site-packages\\tensorflow\\python\\ops\\script_ops.py\", line 269, in __call__\n    return func(device, token, args)\n\n  File \"C:\\Users\\TiBo\\AppData\\Roaming\\Python\\Python39\\site-packages\\tensorflow\\python\\ops\\script_ops.py\", line 147, in __call__\n    outputs = self._call(device, args)\n\n  File \"C:\\Users\\TiBo\\AppData\\Roaming\\Python\\Python39\\site-packages\\tensorflow\\python\\ops\\script_ops.py\", line 154, in _call\n    ret = self._func(*args)\n\n  File \"C:\\Users\\TiBo\\AppData\\Roaming\\Python\\Python39\\site-packages\\tensorflow\\python\\autograph\\impl\\api.py\", line 642, in wrapper\n    return func(*args, **kwargs)\n\n  File \"C:\\Users\\TiBo\\AppData\\Roaming\\Python\\Python39\\site-packages\\tensorflow\\python\\util\\traceback_utils.py\", line 153, in error_handler\n    raise e.with_traceback(filtered_tb) from None\n\n  File \"C:\\Users\\TiBo\\AppData\\Roaming\\Python\\Python39\\site-packages\\tensorflow\\python\\eager\\execute.py\", line 54, in quick_execute\n    tensors = pywrap_tfe.TFE_Py_Execute(ctx._handle, device_name, op_name,\n\nUnicodeDecodeError: 'utf-8' codec can't decode byte 0x92 in position 113: invalid start byte\n\n\n\t [[{{node EagerPyFunc}}]] [Op:IteratorGetNext]",
     "output_type": "error",
     "traceback": [
      "\u001b[1;31m---------------------------------------------------------------------------\u001b[0m",
      "\u001b[1;31mInvalidArgumentError\u001b[0m                      Traceback (most recent call last)",
      "\u001b[1;32md:\\GitHub\\OCRpyMAN\\notebooks\\dev_TJ_letters_detection_batch_Tensorflowy.ipynb Cellule 11\u001b[0m in \u001b[0;36m<cell line: 2>\u001b[1;34m()\u001b[0m\n\u001b[0;32m      <a href='vscode-notebook-cell:/d%3A/GitHub/OCRpyMAN/notebooks/dev_TJ_letters_detection_batch_Tensorflowy.ipynb#X12sZmlsZQ%3D%3D?line=0'>1</a>\u001b[0m \u001b[39m#####TESTSSSS\u001b[39;00m\n\u001b[1;32m----> <a href='vscode-notebook-cell:/d%3A/GitHub/OCRpyMAN/notebooks/dev_TJ_letters_detection_batch_Tensorflowy.ipynb#X12sZmlsZQ%3D%3D?line=1'>2</a>\u001b[0m x, y \u001b[39m=\u001b[39m \u001b[39mnext\u001b[39;49m(data_iter)\n\u001b[0;32m      <a href='vscode-notebook-cell:/d%3A/GitHub/OCRpyMAN/notebooks/dev_TJ_letters_detection_batch_Tensorflowy.ipynb#X12sZmlsZQ%3D%3D?line=2'>3</a>\u001b[0m \u001b[39m# xx, yy = next(iter(dataset_test))\u001b[39;00m\n\u001b[0;32m      <a href='vscode-notebook-cell:/d%3A/GitHub/OCRpyMAN/notebooks/dev_TJ_letters_detection_batch_Tensorflowy.ipynb#X12sZmlsZQ%3D%3D?line=5'>6</a>\u001b[0m tmp \u001b[39m=\u001b[39m x[\u001b[39m0\u001b[39m]\n",
      "File \u001b[1;32m~\\AppData\\Roaming\\Python\\Python39\\site-packages\\tensorflow\\python\\data\\ops\\iterator_ops.py:766\u001b[0m, in \u001b[0;36mOwnedIterator.__next__\u001b[1;34m(self)\u001b[0m\n\u001b[0;32m    764\u001b[0m \u001b[39mdef\u001b[39;00m \u001b[39m__next__\u001b[39m(\u001b[39mself\u001b[39m):\n\u001b[0;32m    765\u001b[0m   \u001b[39mtry\u001b[39;00m:\n\u001b[1;32m--> 766\u001b[0m     \u001b[39mreturn\u001b[39;00m \u001b[39mself\u001b[39;49m\u001b[39m.\u001b[39;49m_next_internal()\n\u001b[0;32m    767\u001b[0m   \u001b[39mexcept\u001b[39;00m errors\u001b[39m.\u001b[39mOutOfRangeError:\n\u001b[0;32m    768\u001b[0m     \u001b[39mraise\u001b[39;00m \u001b[39mStopIteration\u001b[39;00m\n",
      "File \u001b[1;32m~\\AppData\\Roaming\\Python\\Python39\\site-packages\\tensorflow\\python\\data\\ops\\iterator_ops.py:749\u001b[0m, in \u001b[0;36mOwnedIterator._next_internal\u001b[1;34m(self)\u001b[0m\n\u001b[0;32m    746\u001b[0m \u001b[39m# TODO(b/77291417): This runs in sync mode as iterators use an error status\u001b[39;00m\n\u001b[0;32m    747\u001b[0m \u001b[39m# to communicate that there is no more data to iterate over.\u001b[39;00m\n\u001b[0;32m    748\u001b[0m \u001b[39mwith\u001b[39;00m context\u001b[39m.\u001b[39mexecution_mode(context\u001b[39m.\u001b[39mSYNC):\n\u001b[1;32m--> 749\u001b[0m   ret \u001b[39m=\u001b[39m gen_dataset_ops\u001b[39m.\u001b[39;49miterator_get_next(\n\u001b[0;32m    750\u001b[0m       \u001b[39mself\u001b[39;49m\u001b[39m.\u001b[39;49m_iterator_resource,\n\u001b[0;32m    751\u001b[0m       output_types\u001b[39m=\u001b[39;49m\u001b[39mself\u001b[39;49m\u001b[39m.\u001b[39;49m_flat_output_types,\n\u001b[0;32m    752\u001b[0m       output_shapes\u001b[39m=\u001b[39;49m\u001b[39mself\u001b[39;49m\u001b[39m.\u001b[39;49m_flat_output_shapes)\n\u001b[0;32m    754\u001b[0m   \u001b[39mtry\u001b[39;00m:\n\u001b[0;32m    755\u001b[0m     \u001b[39m# Fast path for the case `self._structure` is not a nested structure.\u001b[39;00m\n\u001b[0;32m    756\u001b[0m     \u001b[39mreturn\u001b[39;00m \u001b[39mself\u001b[39m\u001b[39m.\u001b[39m_element_spec\u001b[39m.\u001b[39m_from_compatible_tensor_list(ret)  \u001b[39m# pylint: disable=protected-access\u001b[39;00m\n",
      "File \u001b[1;32m~\\AppData\\Roaming\\Python\\Python39\\site-packages\\tensorflow\\python\\ops\\gen_dataset_ops.py:3016\u001b[0m, in \u001b[0;36miterator_get_next\u001b[1;34m(iterator, output_types, output_shapes, name)\u001b[0m\n\u001b[0;32m   3014\u001b[0m   \u001b[39mreturn\u001b[39;00m _result\n\u001b[0;32m   3015\u001b[0m \u001b[39mexcept\u001b[39;00m _core\u001b[39m.\u001b[39m_NotOkStatusException \u001b[39mas\u001b[39;00m e:\n\u001b[1;32m-> 3016\u001b[0m   _ops\u001b[39m.\u001b[39;49mraise_from_not_ok_status(e, name)\n\u001b[0;32m   3017\u001b[0m \u001b[39mexcept\u001b[39;00m _core\u001b[39m.\u001b[39m_FallbackException:\n\u001b[0;32m   3018\u001b[0m   \u001b[39mpass\u001b[39;00m\n",
      "File \u001b[1;32m~\\AppData\\Roaming\\Python\\Python39\\site-packages\\tensorflow\\python\\framework\\ops.py:7209\u001b[0m, in \u001b[0;36mraise_from_not_ok_status\u001b[1;34m(e, name)\u001b[0m\n\u001b[0;32m   7207\u001b[0m \u001b[39mdef\u001b[39;00m \u001b[39mraise_from_not_ok_status\u001b[39m(e, name):\n\u001b[0;32m   7208\u001b[0m   e\u001b[39m.\u001b[39mmessage \u001b[39m+\u001b[39m\u001b[39m=\u001b[39m (\u001b[39m\"\u001b[39m\u001b[39m name: \u001b[39m\u001b[39m\"\u001b[39m \u001b[39m+\u001b[39m name \u001b[39mif\u001b[39;00m name \u001b[39mis\u001b[39;00m \u001b[39mnot\u001b[39;00m \u001b[39mNone\u001b[39;00m \u001b[39melse\u001b[39;00m \u001b[39m\"\u001b[39m\u001b[39m\"\u001b[39m)\n\u001b[1;32m-> 7209\u001b[0m   \u001b[39mraise\u001b[39;00m core\u001b[39m.\u001b[39m_status_to_exception(e) \u001b[39mfrom\u001b[39;00m \u001b[39mNone\u001b[39m\n",
      "\u001b[1;31mInvalidArgumentError\u001b[0m: {{function_node __wrapped__IteratorGetNext_output_types_2_device_/job:localhost/replica:0/task:0/device:CPU:0}} UnicodeDecodeError: 'utf-8' codec can't decode byte 0x92 in position 113: invalid start byte\nTraceback (most recent call last):\n\n  File \"C:\\Users\\TiBo\\AppData\\Roaming\\Python\\Python39\\site-packages\\tensorflow\\python\\ops\\script_ops.py\", line 269, in __call__\n    return func(device, token, args)\n\n  File \"C:\\Users\\TiBo\\AppData\\Roaming\\Python\\Python39\\site-packages\\tensorflow\\python\\ops\\script_ops.py\", line 147, in __call__\n    outputs = self._call(device, args)\n\n  File \"C:\\Users\\TiBo\\AppData\\Roaming\\Python\\Python39\\site-packages\\tensorflow\\python\\ops\\script_ops.py\", line 154, in _call\n    ret = self._func(*args)\n\n  File \"C:\\Users\\TiBo\\AppData\\Roaming\\Python\\Python39\\site-packages\\tensorflow\\python\\autograph\\impl\\api.py\", line 642, in wrapper\n    return func(*args, **kwargs)\n\n  File \"C:\\Users\\TiBo\\AppData\\Roaming\\Python\\Python39\\site-packages\\tensorflow\\python\\util\\traceback_utils.py\", line 153, in error_handler\n    raise e.with_traceback(filtered_tb) from None\n\n  File \"C:\\Users\\TiBo\\AppData\\Roaming\\Python\\Python39\\site-packages\\tensorflow\\python\\eager\\execute.py\", line 54, in quick_execute\n    tensors = pywrap_tfe.TFE_Py_Execute(ctx._handle, device_name, op_name,\n\nUnicodeDecodeError: 'utf-8' codec can't decode byte 0x92 in position 113: invalid start byte\n\n\n\t [[{{node EagerPyFunc}}]] [Op:IteratorGetNext]"
     ]
    }
   ],
   "source": [
    "#####TESTSSSS\n",
    "x, y = next(data_iter)\n",
    "# xx, yy = next(iter(dataset_test))\n",
    "\n",
    "\n",
    "tmp = x[0]\n",
    "# tmpp = xx[0]\n",
    "# print(tmpp)\n",
    "plt.imshow(tmp , cmap='gray')\n",
    "# plt.ylim([0, 128])\n",
    "# plt.xlim([0, 32])\n",
    "# print(xx.shape)"
   ]
  },
  {
   "cell_type": "code",
   "execution_count": 4,
   "metadata": {},
   "outputs": [
    {
     "name": "stdout",
     "output_type": "stream",
     "text": [
      "WARNING:tensorflow:From C:\\Users\\TiBo\\AppData\\Roaming\\Python\\Python39\\site-packages\\tensorflow\\python\\util\\dispatch.py:1176: calling string_split (from tensorflow.python.ops.ragged.ragged_string_ops) with delimiter is deprecated and will be removed in a future version.\n",
      "Instructions for updating:\n",
      "delimiter is deprecated, please use sep instead.\n"
     ]
    }
   ],
   "source": [
    "# Chargement avec tensorflow et dataset par batch\n",
    "\n",
    "dataset_train, dataset_test, y_test = ld_util.get_dataset()\n",
    "dataset_train_canny, dataset_test_canny, y_test_canny = ld_util.get_dataset(canny=True)"
   ]
  },
  {
   "cell_type": "code",
   "execution_count": 5,
   "metadata": {},
   "outputs": [
    {
     "name": "stdout",
     "output_type": "stream",
     "text": [
      "WARNING:tensorflow:5 out of the last 5 calls to <function preprocess at 0x0000020B4A695550> triggered tf.function retracing. Tracing is expensive and the excessive number of tracings could be due to (1) creating @tf.function repeatedly in a loop, (2) passing tensors with different shapes, (3) passing Python objects instead of tensors. For (1), please define your @tf.function outside of the loop. For (2), @tf.function has reduce_retracing=True option that can avoid unnecessary retracing. For (3), please refer to https://www.tensorflow.org/guide/function#controlling_retracing and https://www.tensorflow.org/api_docs/python/tf/function for  more details.\n",
      "WARNING:tensorflow:6 out of the last 6 calls to <function preprocess at 0x0000020B4A695550> triggered tf.function retracing. Tracing is expensive and the excessive number of tracings could be due to (1) creating @tf.function repeatedly in a loop, (2) passing tensors with different shapes, (3) passing Python objects instead of tensors. For (1), please define your @tf.function outside of the loop. For (2), @tf.function has reduce_retracing=True option that can avoid unnecessary retracing. For (3), please refer to https://www.tensorflow.org/guide/function#controlling_retracing and https://www.tensorflow.org/api_docs/python/tf/function for  more details.\n"
     ]
    },
    {
     "data": {
      "image/png": "[encoded data removed]",
      "text/plain": [
       "<Figure size 432x288 with 1 Axes>"
      ]
     },
     "metadata": {
      "needs_background": "light"
     },
     "output_type": "display_data"
    }
   ],
   "source": [
    "x, y = next(iter(dataset_train_canny))\n",
    "x[0].shape\n",
    "\n",
    "tmp = x[0]\n",
    "# tmp = tf.squeeze(tmp, axis=2)\n",
    "# tmp = np.swapaxes(tmp, 0, 1)\n",
    "# tmp = tmp.reshape(128,32)\n",
    "plt.imshow(tmp , cmap='gray');  # .reshape(rss.img_size)\n",
    "\n"
   ]
  },
  {
   "cell_type": "code",
   "execution_count": 18,
   "metadata": {},
   "outputs": [
    {
     "data": {
      "image/png": "[encoded data removed]",
      "text/plain": [
       "<Figure size 432x288 with 1 Axes>"
      ]
     },
     "metadata": {
      "needs_background": "light"
     },
     "output_type": "display_data"
    }
   ],
   "source": [
    "xx, yy = next(iter(dataset_train))\n",
    "xx[0].shape\n",
    "\n",
    "tmpp = xx[0]\n",
    "plt.imshow(tmpp , cmap='gray');  # .reshape(rss.img_size)"
   ]
  },
  {
   "cell_type": "markdown",
   "metadata": {},
   "source": [
    "# Model RNN"
   ]
  },
  {
   "cell_type": "markdown",
   "metadata": {},
   "source": [
    "### Création Modèle"
   ]
  },
  {
   "cell_type": "code",
   "execution_count": 6,
   "metadata": {},
   "outputs": [
    {
     "name": "stdout",
     "output_type": "stream",
     "text": [
      "Model: \"sequential\"\n",
      "_________________________________________________________________\n",
      " Layer (type)                Output Shape              Param #   \n",
      "=================================================================\n",
      " conv2d (Conv2D)             (None, 128, 32, 32)       832       \n",
      "                                                                 \n",
      " batch_normalization (BatchN  (None, 128, 32, 32)      128       \n",
      " ormalization)                                                   \n",
      "                                                                 \n",
      " leaky_re_lu (LeakyReLU)     (None, 128, 32, 32)       0         \n",
      "                                                                 \n",
      " max_pooling2d (MaxPooling2D  (None, 64, 16, 32)       0         \n",
      " )                                                               \n",
      "                                                                 \n",
      " conv2d_1 (Conv2D)           (None, 64, 16, 64)        51264     \n",
      "                                                                 \n",
      " batch_normalization_1 (Batc  (None, 64, 16, 64)       256       \n",
      " hNormalization)                                                 \n",
      "                                                                 \n",
      " leaky_re_lu_1 (LeakyReLU)   (None, 64, 16, 64)        0         \n",
      "                                                                 \n",
      " max_pooling2d_1 (MaxPooling  (None, 32, 8, 64)        0         \n",
      " 2D)                                                             \n",
      "                                                                 \n",
      " conv2d_2 (Conv2D)           (None, 32, 8, 128)        73856     \n",
      "                                                                 \n",
      " batch_normalization_2 (Batc  (None, 32, 8, 128)       512       \n",
      " hNormalization)                                                 \n",
      "                                                                 \n",
      " leaky_re_lu_2 (LeakyReLU)   (None, 32, 8, 128)        0         \n",
      "                                                                 \n",
      " max_pooling2d_2 (MaxPooling  (None, 32, 4, 128)       0         \n",
      " 2D)                                                             \n",
      "                                                                 \n",
      " conv2d_3 (Conv2D)           (None, 32, 4, 128)        147584    \n",
      "                                                                 \n",
      " batch_normalization_3 (Batc  (None, 32, 4, 128)       512       \n",
      " hNormalization)                                                 \n",
      "                                                                 \n",
      " leaky_re_lu_3 (LeakyReLU)   (None, 32, 4, 128)        0         \n",
      "                                                                 \n",
      " max_pooling2d_3 (MaxPooling  (None, 32, 2, 128)       0         \n",
      " 2D)                                                             \n",
      "                                                                 \n",
      " conv2d_4 (Conv2D)           (None, 32, 2, 256)        295168    \n",
      "                                                                 \n",
      " batch_normalization_4 (Batc  (None, 32, 2, 256)       1024      \n",
      " hNormalization)                                                 \n",
      "                                                                 \n",
      " leaky_re_lu_4 (LeakyReLU)   (None, 32, 2, 256)        0         \n",
      "                                                                 \n",
      " max_pooling2d_4 (MaxPooling  (None, 32, 1, 256)       0         \n",
      " 2D)                                                             \n",
      "                                                                 \n",
      " lambda (Lambda)             (None, 32, 256)           0         \n",
      "                                                                 \n",
      " bidirectional (Bidirectiona  (None, 32, 512)          789504    \n",
      " l)                                                              \n",
      "                                                                 \n",
      " dense (Dense)               (None, 32, 100)           51300     \n",
      "                                                                 \n",
      "=================================================================\n",
      "Total params: 1,411,940\n",
      "Trainable params: 1,410,724\n",
      "Non-trainable params: 1,216\n",
      "_________________________________________________________________\n"
     ]
    }
   ],
   "source": [
    "from tensorflow.keras.layers import GRU, Bidirectional, Dense, Lambda\n",
    "from tensorflow.keras.layers import Conv2D, BatchNormalization, MaxPooling2D, LeakyReLU, Dropout\n",
    "\n",
    "model = tf.keras.Sequential()\n",
    "\n",
    "############\n",
    "# Layer 1\n",
    "model.add(Conv2D(filters=32, kernel_size=(5,5), padding='SAME', input_shape = (128, 32, 1)))\n",
    "model.add(BatchNormalization())\n",
    "model.add(LeakyReLU())\n",
    "model.add(MaxPooling2D(pool_size=(2,2), strides=(2,2)))\n",
    "\n",
    "# Layer 2\n",
    "model.add(Conv2D(filters=64, kernel_size=(5,5), padding='SAME'))\n",
    "model.add(BatchNormalization())\n",
    "model.add(LeakyReLU())\n",
    "model.add(MaxPooling2D(pool_size=(2,2), strides=(2,2)))\n",
    "\n",
    "# Layer 3\n",
    "model.add(Conv2D(filters=128, kernel_size=(3,3), padding='SAME'))\n",
    "model.add(BatchNormalization())\n",
    "model.add(LeakyReLU())\n",
    "model.add(MaxPooling2D(pool_size=(1,2), strides=(1,2)))\n",
    "\n",
    "# Layer 4\n",
    "model.add(Conv2D(filters=128, kernel_size=(3,3), padding='SAME'))\n",
    "model.add(BatchNormalization())\n",
    "model.add(LeakyReLU())\n",
    "model.add(MaxPooling2D(pool_size=(1,2), strides=(1,2)))\n",
    "\n",
    "# Layer 5\n",
    "model.add(Conv2D(filters=256, kernel_size=(3,3), padding='SAME'))\n",
    "model.add(BatchNormalization())\n",
    "model.add(LeakyReLU())\n",
    "model.add(MaxPooling2D(pool_size=(1,2), strides=(1,2)))\n",
    "#####################\n",
    "\n",
    "\n",
    "# Remove axis 2\n",
    "model.add(Lambda(lambda x :tf.squeeze(x, axis=2)))\n",
    "numHidden = 256\n",
    "# Bidirectionnal RNN\n",
    "model.add(Bidirectional(GRU(numHidden, return_sequences=True)))\n",
    "model.add(Dense(100))\n",
    "model.summary()\n"
   ]
  },
  {
   "cell_type": "code",
   "execution_count": 7,
   "metadata": {},
   "outputs": [
    {
     "name": "stdout",
     "output_type": "stream",
     "text": [
      "Epoch 1/10\n",
      "1335/1335 [==============================] - ETA: 0s - loss: 10.6076"
     ]
    },
    {
     "name": "stderr",
     "output_type": "stream",
     "text": [
      "WARNING:absl:Found untraced functions such as _jit_compiled_convolution_op, _jit_compiled_convolution_op, _jit_compiled_convolution_op, _jit_compiled_convolution_op, _jit_compiled_convolution_op while saving (showing 5 of 9). These functions will not be directly callable after loading.\n"
     ]
    },
    {
     "name": "stdout",
     "output_type": "stream",
     "text": [
      "INFO:tensorflow:Assets written to: tmp_model\\assets\n"
     ]
    },
    {
     "name": "stderr",
     "output_type": "stream",
     "text": [
      "INFO:tensorflow:Assets written to: tmp_model\\assets\n"
     ]
    },
    {
     "name": "stdout",
     "output_type": "stream",
     "text": [
      "1335/1335 [==============================] - 1882s 1s/step - loss: 10.6076 - val_loss: 7.1931\n",
      "Epoch 2/10\n",
      "1335/1335 [==============================] - ETA: 0s - loss: 5.3480"
     ]
    },
    {
     "name": "stderr",
     "output_type": "stream",
     "text": [
      "WARNING:absl:Found untraced functions such as _jit_compiled_convolution_op, _jit_compiled_convolution_op, _jit_compiled_convolution_op, _jit_compiled_convolution_op, _jit_compiled_convolution_op while saving (showing 5 of 9). These functions will not be directly callable after loading.\n"
     ]
    },
    {
     "name": "stdout",
     "output_type": "stream",
     "text": [
      "INFO:tensorflow:Assets written to: tmp_model\\assets\n"
     ]
    },
    {
     "name": "stderr",
     "output_type": "stream",
     "text": [
      "INFO:tensorflow:Assets written to: tmp_model\\assets\n"
     ]
    },
    {
     "name": "stdout",
     "output_type": "stream",
     "text": [
      "1335/1335 [==============================] - 1768s 1s/step - loss: 5.3480 - val_loss: 5.0016\n",
      "Epoch 3/10\n",
      "1335/1335 [==============================] - ETA: 0s - loss: 3.9706"
     ]
    },
    {
     "name": "stderr",
     "output_type": "stream",
     "text": [
      "WARNING:absl:Found untraced functions such as _jit_compiled_convolution_op, _jit_compiled_convolution_op, _jit_compiled_convolution_op, _jit_compiled_convolution_op, _jit_compiled_convolution_op while saving (showing 5 of 9). These functions will not be directly callable after loading.\n"
     ]
    },
    {
     "name": "stdout",
     "output_type": "stream",
     "text": [
      "INFO:tensorflow:Assets written to: tmp_model\\assets\n"
     ]
    },
    {
     "name": "stderr",
     "output_type": "stream",
     "text": [
      "INFO:tensorflow:Assets written to: tmp_model\\assets\n"
     ]
    },
    {
     "name": "stdout",
     "output_type": "stream",
     "text": [
      "1335/1335 [==============================] - 1779s 1s/step - loss: 3.9706 - val_loss: 4.3361\n",
      "Epoch 4/10\n",
      "1335/1335 [==============================] - ETA: 0s - loss: 3.2490"
     ]
    },
    {
     "name": "stderr",
     "output_type": "stream",
     "text": [
      "WARNING:absl:Found untraced functions such as _jit_compiled_convolution_op, _jit_compiled_convolution_op, _jit_compiled_convolution_op, _jit_compiled_convolution_op, _jit_compiled_convolution_op while saving (showing 5 of 9). These functions will not be directly callable after loading.\n"
     ]
    },
    {
     "name": "stdout",
     "output_type": "stream",
     "text": [
      "INFO:tensorflow:Assets written to: tmp_model\\assets\n"
     ]
    },
    {
     "name": "stderr",
     "output_type": "stream",
     "text": [
      "INFO:tensorflow:Assets written to: tmp_model\\assets\n"
     ]
    },
    {
     "name": "stdout",
     "output_type": "stream",
     "text": [
      "1335/1335 [==============================] - 1792s 1s/step - loss: 3.2490 - val_loss: 3.4291\n",
      "Epoch 5/10\n",
      "1335/1335 [==============================] - ETA: 0s - loss: 2.7965"
     ]
    },
    {
     "name": "stderr",
     "output_type": "stream",
     "text": [
      "WARNING:absl:Found untraced functions such as _jit_compiled_convolution_op, _jit_compiled_convolution_op, _jit_compiled_convolution_op, _jit_compiled_convolution_op, _jit_compiled_convolution_op while saving (showing 5 of 9). These functions will not be directly callable after loading.\n"
     ]
    },
    {
     "name": "stdout",
     "output_type": "stream",
     "text": [
      "INFO:tensorflow:Assets written to: tmp_model\\assets\n"
     ]
    },
    {
     "name": "stderr",
     "output_type": "stream",
     "text": [
      "INFO:tensorflow:Assets written to: tmp_model\\assets\n"
     ]
    },
    {
     "name": "stdout",
     "output_type": "stream",
     "text": [
      "1335/1335 [==============================] - 1770s 1s/step - loss: 2.7965 - val_loss: 2.9303\n",
      "Epoch 6/10\n",
      "1335/1335 [==============================] - ETA: 0s - loss: 2.4935"
     ]
    },
    {
     "name": "stderr",
     "output_type": "stream",
     "text": [
      "WARNING:absl:Found untraced functions such as _jit_compiled_convolution_op, _jit_compiled_convolution_op, _jit_compiled_convolution_op, _jit_compiled_convolution_op, _jit_compiled_convolution_op while saving (showing 5 of 9). These functions will not be directly callable after loading.\n"
     ]
    },
    {
     "name": "stdout",
     "output_type": "stream",
     "text": [
      "INFO:tensorflow:Assets written to: tmp_model\\assets\n"
     ]
    },
    {
     "name": "stderr",
     "output_type": "stream",
     "text": [
      "INFO:tensorflow:Assets written to: tmp_model\\assets\n"
     ]
    },
    {
     "name": "stdout",
     "output_type": "stream",
     "text": [
      "1335/1335 [==============================] - 1764s 1s/step - loss: 2.4935 - val_loss: 2.6144\n",
      "Epoch 7/10\n",
      "1335/1335 [==============================] - 1859s 1s/step - loss: 2.2664 - val_loss: 3.4397\n",
      "Epoch 8/10\n",
      "1335/1335 [==============================] - 1903s 1s/step - loss: 2.0901 - val_loss: 5.9838\n"
     ]
    }
   ],
   "source": [
    "class CTCLoss(tf.keras.losses.Loss):\n",
    "    def __init__(self, logits_time_major=False, reduction=tf.keras.losses.Reduction.SUM, name='ctc'):\n",
    "        super().__init__(reduction=reduction, name=name)\n",
    "        self.logits_time_major = logits_time_major\n",
    "\n",
    "    def call(self, y_true, y_pred):\n",
    "        y_true = tf.cast(y_true, tf.int32)\n",
    "        logit_length = tf.fill([tf.shape(y_pred)[0]], tf.shape(y_pred)[1])\n",
    "        label_length = tf.fill([tf.shape(y_true)[0]], tf.shape(y_true)[1])\n",
    "        loss = tf.nn.ctc_loss(\n",
    "            labels=y_true,\n",
    "            logits=y_pred,\n",
    "            label_length=label_length,\n",
    "            logit_length=logit_length,\n",
    "            logits_time_major=self.logits_time_major,\n",
    "            blank_index=-1)\n",
    "        return tf.reduce_mean(loss)\n",
    "\n",
    "\n",
    "early_stop_callback = tf.keras.callbacks.EarlyStopping(\n",
    "    monitor='val_loss',\n",
    "    min_delta=0,\n",
    "    patience=2,\n",
    ")\n",
    "checkpoint_callback = tf.keras.callbacks.ModelCheckpoint(\n",
    "    filepath='tmp_model', \n",
    "    monitor='val_loss',\n",
    "    save_best_only=True,\n",
    "    save_weights_only=False,\n",
    "    mode='min',\n",
    "    save_freq='epoch'\n",
    ")\n",
    "\n",
    "optimizer = tf.keras.optimizers.Adam(learning_rate=0.0001)\n",
    "model.compile(loss=CTCLoss(), optimizer=optimizer)\n",
    "history = model.fit(\n",
    "    dataset_train,\n",
    "    validation_data=dataset_test,\n",
    "    callbacks=[\n",
    "        early_stop_callback,\n",
    "        checkpoint_callback\n",
    "    ],\n",
    "    epochs=10\n",
    ")"
   ]
  },
  {
   "cell_type": "code",
   "execution_count": 13,
   "metadata": {},
   "outputs": [
    {
     "name": "stderr",
     "output_type": "stream",
     "text": [
      "WARNING:absl:Found untraced functions such as _jit_compiled_convolution_op, _jit_compiled_convolution_op, _jit_compiled_convolution_op, _jit_compiled_convolution_op, _jit_compiled_convolution_op while saving (showing 5 of 9). These functions will not be directly callable after loading.\n"
     ]
    },
    {
     "name": "stdout",
     "output_type": "stream",
     "text": [
      "INFO:tensorflow:Assets written to: ram://22cea062-243d-4f1e-a21b-11b49ebda929/assets\n"
     ]
    },
    {
     "name": "stderr",
     "output_type": "stream",
     "text": [
      "INFO:tensorflow:Assets written to: ram://22cea062-243d-4f1e-a21b-11b49ebda929/assets\n"
     ]
    }
   ],
   "source": [
    "# with open('../pickle/history_propershape3_canny.pickle', 'wb') as file_pi:\n",
    "#      pickle.dump(history.history, file_pi)\n",
    "\n",
    "# with open('../pickle/history_propershape3_canny.pickle', \"rb\") as file_pi:\n",
    "#     history = pickle.load(file_pi)\n",
    "    \n",
    "with open('../pickle/modele_propershape3_canny.pickle', 'wb') as file_pi:\n",
    "     pickle.dump(model, file_pi)\n"
   ]
  },
  {
   "cell_type": "code",
   "execution_count": 43,
   "metadata": {},
   "outputs": [
    {
     "data": {
      "text/plain": [
       "TensorShape([64, 128, 32, 1])"
      ]
     },
     "execution_count": 43,
     "metadata": {},
     "output_type": "execute_result"
    }
   ],
   "source": [
    "x, y = next(iter(dataset_train))\n",
    "x.shape\n"
   ]
  },
  {
   "cell_type": "code",
   "execution_count": 11,
   "metadata": {},
   "outputs": [
    {
     "name": "stdout",
     "output_type": "stream",
     "text": [
      "149/149 [==============================] - 98s 618ms/step\n"
     ]
    }
   ],
   "source": [
    "y_pred = model.predict(dataset_test)\n"
   ]
  },
  {
   "cell_type": "code",
   "execution_count": 12,
   "metadata": {},
   "outputs": [
    {
     "data": {
      "text/plain": [
       "[(',', \"'\"),\n",
       " ('th', 'the'),\n",
       " ('a', '#'),\n",
       " ('befcre', 'before'),\n",
       " ('ld', 'and'),\n",
       " ('.', '.'),\n",
       " ('grecatly', 'greatly'),\n",
       " ('abunt', 'about'),\n",
       " ('this', 'this'),\n",
       " ('lingfteinin', 'confidence')]"
      ]
     },
     "execution_count": 12,
     "metadata": {},
     "output_type": "execute_result"
    }
   ],
   "source": [
    "predicted_transcriptions = ld_util.greedy_decoder(y_pred, rss.charList)\n",
    "list(zip(predicted_transcriptions, y_test[:10]))"
   ]
  }
 ],
 "metadata": {
  "kernelspec": {
   "display_name": "Python 3.9.12 ('base')",
   "language": "python",
   "name": "python3"
  },
  "language_info": {
   "codemirror_mode": {
    "name": "ipython",
    "version": 3
   },
   "file_extension": ".py",
   "mimetype": "text/x-python",
   "name": "python",
   "nbconvert_exporter": "python",
   "pygments_lexer": "ipython3",
   "version": "3.9.12"
  },
  "orig_nbformat": 4,
  "vscode": {
   "interpreter": {
    "hash": "646607af5cee56728deff5007f5747c6b792545c0f7c2f22c37576bfe12603f2"
   }
  }
 },
 "nbformat": 4,
 "nbformat_minor": 2
}
