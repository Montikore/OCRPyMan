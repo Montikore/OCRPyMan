{
 "cells": [
  {
   "cell_type": "markdown",
   "metadata": {},
   "source": [
    "# Problématique\n",
    "\n",
    "<h3> Prédire le mot dans l'image </h3>\n",
    "\n",
    "- Sample de 1000 observations (1000 mots) : charger (function preprocess (utiliser en sortie un .numpy() pour avoir des arrays), container toutes observations pour faire une matrice de taille (nb_observation, nb_features).\n",
    "- Modèle Deep learning : RNN\n",
    "- Évaluation du modèle : ?\n"
   ]
  },
  {
   "cell_type": "markdown",
   "metadata": {},
   "source": [
    "# Import"
   ]
  },
  {
   "cell_type": "code",
   "execution_count": 2,
   "metadata": {},
   "outputs": [],
   "source": [
    "import tensorflow as tf\n",
    "import cv2\n",
    "import numpy as np\n",
    "import matplotlib.pyplot as plt\n",
    "import pickle\n",
    "import pandas as pd\n",
    "import re\n",
    "from os.path import exists\n",
    "from sklearn.model_selection import GridSearchCV\n",
    "from sklearn.model_selection import train_test_split\n",
    "\n",
    "\n",
    "import letter_detection_utils as ld_util\n",
    "import preprocessing as pp\n",
    "import ressources as rss\n"
   ]
  },
  {
   "cell_type": "code",
   "execution_count": 3,
   "metadata": {},
   "outputs": [
    {
     "data": {
      "text/plain": [
       "<module 'ressources' from 'd:\\\\GitHub\\\\OCRpyMAN\\\\notebooks\\\\ressources.py'>"
      ]
     },
     "execution_count": 3,
     "metadata": {},
     "output_type": "execute_result"
    }
   ],
   "source": [
    "# Pour recharger les libs pendant les devs\n",
    "from importlib import reload \n",
    "reload(ld_util)\n",
    "reload(pp)\n",
    "reload(rss)"
   ]
  },
  {
   "cell_type": "code",
   "execution_count": 4,
   "metadata": {},
   "outputs": [],
   "source": [
    "# BIDOUILLE SALE!! pour importer des fichiers qui ne sont pas dans le meme repertoire. les fichiers devront être mieux rangés par la suite\n",
    "# import sys\n",
    "# sys.path.insert(1, '../')\n",
    "\n",
    "# import preprocessing as pp\n",
    "# import ressources as rss"
   ]
  },
  {
   "cell_type": "markdown",
   "metadata": {},
   "source": [
    "# Chargement du dataframe"
   ]
  },
  {
   "cell_type": "code",
   "execution_count": 5,
   "metadata": {},
   "outputs": [],
   "source": [
    "# initialisation des variables globales\n",
    "rss.init()\n",
    "\n",
    "# LONG! 20mn (utile pour reprendre tout le preprocessing)\n",
    "# word_df = pd.DataFrame(pp.parse_my_word_file(rss.WORDS_META_FILENAME), columns=rss.WORD_COLUMNS)\n",
    "# word_df = pp.prepro_word(word_df)"
   ]
  },
  {
   "cell_type": "code",
   "execution_count": 6,
   "metadata": {},
   "outputs": [
    {
     "name": "stdout",
     "output_type": "stream",
     "text": [
      "Loading existing data from  ../pickle/test.pickle ...\n",
      "Generating data...\n",
      "Filtering data: taking only letters\n",
      "Using 1000 rows\n",
      "Starting preprocessing of images with tensorflow\n",
      "WARNING:tensorflow:5 out of the last 5 calls to <function preprocess at 0x0000022B22086040> triggered tf.function retracing. Tracing is expensive and the excessive number of tracings could be due to (1) creating @tf.function repeatedly in a loop, (2) passing tensors with different shapes, (3) passing Python objects instead of tensors. For (1), please define your @tf.function outside of the loop. For (2), @tf.function has reduce_retracing=True option that can avoid unnecessary retracing. For (3), please refer to https://www.tensorflow.org/guide/function#controlling_retracing and https://www.tensorflow.org/api_docs/python/tf/function for  more details.\n",
      "WARNING:tensorflow:6 out of the last 6 calls to <function preprocess at 0x0000022B22086040> triggered tf.function retracing. Tracing is expensive and the excessive number of tracings could be due to (1) creating @tf.function repeatedly in a loop, (2) passing tensors with different shapes, (3) passing Python objects instead of tensors. For (1), please define your @tf.function outside of the loop. For (2), @tf.function has reduce_retracing=True option that can avoid unnecessary retracing. For (3), please refer to https://www.tensorflow.org/guide/function#controlling_retracing and https://www.tensorflow.org/api_docs/python/tf/function for  more details.\n",
      "Creating pickle dump ../pickle/test_edge.pickle\n",
      "Length:  1000\n",
      "Imgs length:  1000\n",
      "Img shape:  (4096,)\n"
     ]
    }
   ],
   "source": [
    "img_size = (32, 128)\n",
    "data = ld_util.get_dataframe_with_preprocessed_imgs(\n",
    "    img_size=img_size,\n",
    "    pickle_name=\"test\",\n",
    "    with_edge_detection = False\n",
    ")\n",
    "data_edge = ld_util.get_dataframe_with_preprocessed_imgs(\n",
    "    img_size=img_size,\n",
    "    load_pickle_if_exists = False,\n",
    "    pickle_name=\"test_edge\",\n",
    "    with_edge_detection = True\n",
    ")\n",
    "\n",
    "df = data['df']\n",
    "preprocessed_imgs = data['preprocessed_imgs']\n",
    "\n",
    "df_edge = data_edge['df']\n",
    "preprocessed_imgs_edge = data_edge['preprocessed_imgs']\n",
    "\n",
    "print(\"Length: \", len(df))\n",
    "print(\"Imgs length: \", len(preprocessed_imgs))\n",
    "print(\"Img shape: \", preprocessed_imgs[0].shape)"
   ]
  },
  {
   "cell_type": "code",
   "execution_count": 7,
   "metadata": {},
   "outputs": [
    {
     "name": "stdout",
     "output_type": "stream",
     "text": [
      "1000\n",
      "1000\n",
      "1000\n",
      "1000\n"
     ]
    },
    {
     "data": {
      "text/html": [
       "<div>\n",
       "<style scoped>\n",
       "    .dataframe tbody tr th:only-of-type {\n",
       "        vertical-align: middle;\n",
       "    }\n",
       "\n",
       "    .dataframe tbody tr th {\n",
       "        vertical-align: top;\n",
       "    }\n",
       "\n",
       "    .dataframe thead th {\n",
       "        text-align: right;\n",
       "    }\n",
       "</style>\n",
       "<table border=\"1\" class=\"dataframe\">\n",
       "  <thead>\n",
       "    <tr style=\"text-align: right;\">\n",
       "      <th></th>\n",
       "      <th>index</th>\n",
       "      <th>michelson_contrast</th>\n",
       "      <th>gray_level_mot</th>\n",
       "      <th>word_id</th>\n",
       "      <th>gray_level</th>\n",
       "      <th>x</th>\n",
       "      <th>y</th>\n",
       "      <th>w</th>\n",
       "      <th>h</th>\n",
       "      <th>transcription</th>\n",
       "      <th>word_img_path</th>\n",
       "      <th>form_img_path</th>\n",
       "      <th>length</th>\n",
       "    </tr>\n",
       "  </thead>\n",
       "  <tbody>\n",
       "    <tr>\n",
       "      <th>0</th>\n",
       "      <td>172</td>\n",
       "      <td>0.783217</td>\n",
       "      <td>0.850391</td>\n",
       "      <td>a01-003u-02-00</td>\n",
       "      <td>161</td>\n",
       "      <td>356</td>\n",
       "      <td>1174</td>\n",
       "      <td>181</td>\n",
       "      <td>78</td>\n",
       "      <td>M Ps</td>\n",
       "      <td>../data/words/a01/a01-003u/a01-003u-02-00.png</td>\n",
       "      <td>../data/formsA-D/a01-003u.png</td>\n",
       "      <td>4</td>\n",
       "    </tr>\n",
       "    <tr>\n",
       "      <th>1</th>\n",
       "      <td>890</td>\n",
       "      <td>0.764706</td>\n",
       "      <td>0.888386</td>\n",
       "      <td>a01-020-08-00</td>\n",
       "      <td>176</td>\n",
       "      <td>355</td>\n",
       "      <td>2360</td>\n",
       "      <td>338</td>\n",
       "      <td>73</td>\n",
       "      <td>proposed</td>\n",
       "      <td>../data/words/a01/a01-020/a01-020-08-00.png</td>\n",
       "      <td>../data/formsA-D/a01-020.png</td>\n",
       "      <td>8</td>\n",
       "    </tr>\n",
       "    <tr>\n",
       "      <th>2</th>\n",
       "      <td>83</td>\n",
       "      <td>0.683168</td>\n",
       "      <td>0.890996</td>\n",
       "      <td>a01-000x-05-00</td>\n",
       "      <td>173</td>\n",
       "      <td>393</td>\n",
       "      <td>1635</td>\n",
       "      <td>190</td>\n",
       "      <td>85</td>\n",
       "      <td>0M P</td>\n",
       "      <td>../data/words/a01/a01-000x/a01-000x-05-00.png</td>\n",
       "      <td>../data/formsA-D/a01-000x.png</td>\n",
       "      <td>4</td>\n",
       "    </tr>\n",
       "    <tr>\n",
       "      <th>3</th>\n",
       "      <td>273</td>\n",
       "      <td>0.777003</td>\n",
       "      <td>0.814142</td>\n",
       "      <td>a01-003x-07-04</td>\n",
       "      <td>168</td>\n",
       "      <td>1310</td>\n",
       "      <td>2126</td>\n",
       "      <td>123</td>\n",
       "      <td>94</td>\n",
       "      <td>take</td>\n",
       "      <td>../data/words/a01/a01-003x/a01-003x-07-04.png</td>\n",
       "      <td>../data/formsA-D/a01-003x.png</td>\n",
       "      <td>4</td>\n",
       "    </tr>\n",
       "    <tr>\n",
       "      <th>4</th>\n",
       "      <td>957</td>\n",
       "      <td>0.818841</td>\n",
       "      <td>0.602413</td>\n",
       "      <td>a01-020u-08-05</td>\n",
       "      <td>167</td>\n",
       "      <td>1667</td>\n",
       "      <td>2219</td>\n",
       "      <td>45</td>\n",
       "      <td>26</td>\n",
       "      <td>a</td>\n",
       "      <td>../data/words/a01/a01-020u/a01-020u-08-05.png</td>\n",
       "      <td>../data/formsA-D/a01-020u.png</td>\n",
       "      <td>1</td>\n",
       "    </tr>\n",
       "  </tbody>\n",
       "</table>\n",
       "</div>"
      ],
      "text/plain": [
       "   index  michelson_contrast  gray_level_mot         word_id  gray_level  \\\n",
       "0    172            0.783217        0.850391  a01-003u-02-00         161   \n",
       "1    890            0.764706        0.888386   a01-020-08-00         176   \n",
       "2     83            0.683168        0.890996  a01-000x-05-00         173   \n",
       "3    273            0.777003        0.814142  a01-003x-07-04         168   \n",
       "4    957            0.818841        0.602413  a01-020u-08-05         167   \n",
       "\n",
       "      x     y    w   h transcription  \\\n",
       "0   356  1174  181  78          M Ps   \n",
       "1   355  2360  338  73      proposed   \n",
       "2   393  1635  190  85          0M P   \n",
       "3  1310  2126  123  94          take   \n",
       "4  1667  2219   45  26             a   \n",
       "\n",
       "                                   word_img_path  \\\n",
       "0  ../data/words/a01/a01-003u/a01-003u-02-00.png   \n",
       "1    ../data/words/a01/a01-020/a01-020-08-00.png   \n",
       "2  ../data/words/a01/a01-000x/a01-000x-05-00.png   \n",
       "3  ../data/words/a01/a01-003x/a01-003x-07-04.png   \n",
       "4  ../data/words/a01/a01-020u/a01-020u-08-05.png   \n",
       "\n",
       "                   form_img_path  length  \n",
       "0  ../data/formsA-D/a01-003u.png       4  \n",
       "1   ../data/formsA-D/a01-020.png       8  \n",
       "2  ../data/formsA-D/a01-000x.png       4  \n",
       "3  ../data/formsA-D/a01-003x.png       4  \n",
       "4  ../data/formsA-D/a01-020u.png       1  "
      ]
     },
     "execution_count": 7,
     "metadata": {},
     "output_type": "execute_result"
    }
   ],
   "source": [
    "print(len(df_edge))\n",
    "print(len(preprocessed_imgs_edge))\n",
    "print(len(df))\n",
    "print(len(preprocessed_imgs))\n",
    "df.head()"
   ]
  },
  {
   "cell_type": "code",
   "execution_count": 8,
   "metadata": {},
   "outputs": [
    {
     "data": {
      "image/png": "[encoded data removed]",
      "text/plain": [
       "<Figure size 1008x360 with 10 Axes>"
      ]
     },
     "metadata": {
      "needs_background": "light"
     },
     "output_type": "display_data"
    }
   ],
   "source": [
    "#CELLULE UNIQUEMENT LA POUR JOUER/VERIFIER LES DONNES\n",
    "\n",
    "\n",
    "# j = 1\n",
    "# random_indexes = np.random.randint(low=0, high=len(preprocessed_imgs), size=[10])\n",
    "# plt.figure(figsize=(14, 5))\n",
    "# for i in random_indexes:\n",
    "#     plt.subplot(2, 5, j)\n",
    "#     plt.axis('off')\n",
    "#     plt.imshow(preprocessed_imgs[i].reshape(img_size), cmap='gray');\n",
    "#     plt.title(df.iloc[i].transcription + ' ' + str(df.iloc[i].length))\n",
    "#     j+=1\n",
    "    \n",
    "j = 1\n",
    "random_indexes = np.random.randint(low=0, high=len(preprocessed_imgs_edge), size=[10])\n",
    "plt.figure(figsize=(14, 5))\n",
    "for i in random_indexes:\n",
    "    plt.subplot(2, 5, j)\n",
    "    plt.axis('off')\n",
    "    plt.imshow(preprocessed_imgs_edge[i].reshape(img_size), cmap='gray');\n",
    "    plt.title(df_edge.iloc[i].transcription + ' ' + str(df_edge.iloc[i].length) + '(size : ' + str(len(preprocessed_imgs_edge[i])) + ')')\n",
    "    j+=1"
   ]
  },
  {
   "cell_type": "markdown",
   "metadata": {},
   "source": [
    "# Model RNN"
   ]
  },
  {
   "cell_type": "markdown",
   "metadata": {},
   "source": [
    "### Preprocessing"
   ]
  },
  {
   "cell_type": "markdown",
   "metadata": {},
   "source": [
    "Pour le rapport, expliquer le choix des algos (RNN, CTC) par le fait qu'on ne connait pas l'alignement des lettres dans les mots, mais qu'elles suivent une certaine logique dans le temps (le nombre de mot étant fini, les lettres ont des probas plus ou moins fortes de suivre une autre lettre). Ces algos sont capables de traiter ce cas là."
   ]
  },
  {
   "cell_type": "code",
   "execution_count": 9,
   "metadata": {},
   "outputs": [],
   "source": [
    "corpus = \"\".join([txt for txt in df_edge['transcription']])\n",
    "\n",
    "char2idx = {u:i for i, u in enumerate(set(corpus))}\n",
    "\n",
    "# pour encoder :\n",
    "# text_as_int = [char2idx[c] for c in corpus]\n"
   ]
  },
  {
   "cell_type": "code",
   "execution_count": 10,
   "metadata": {},
   "outputs": [
    {
     "name": "stdout",
     "output_type": "stream",
     "text": [
      "{'j': 0, 'B': 1, '-': 2, 'v': 3, 'r': 4, 'l': 5, 'h': 6, 'G': 7, 'K': 8, 't': 9, 'C': 10, 'm': 11, 'o': 12, 'P': 13, 'E': 14, 'u': 15, 'a': 16, 'e': 17, 'f': 18, 'k': 19, 'g': 20, '0': 21, 'Y': 22, 'H': 23, 'W': 24, 'y': 25, 'w': 26, 'I': 27, 'n': 28, 'x': 29, 'd': 30, 'L': 31, \"'\": 32, 'J': 33, 'U': 34, 'F': 35, 'i': 36, 'A': 37, 'D': 38, 'O': 39, 'N': 40, '.': 41, 'S': 42, 'q': 43, 'M': 44, 'V': 45, 'c': 46, ' ': 47, 's': 48, 'R': 49, 'p': 50, 'b': 51, 'T': 52}\n"
     ]
    }
   ],
   "source": [
    "print(char2idx)\n"
   ]
  },
  {
   "cell_type": "code",
   "execution_count": 11,
   "metadata": {},
   "outputs": [
    {
     "name": "stdout",
     "output_type": "stream",
     "text": [
      "Lower case characters = 25 Upper case characters = 23\n"
     ]
    }
   ],
   "source": [
    "# ATTENTION TOUTES LES LETTRES NE SONT PAS REPRESENTEES AVEC UN ECHANTILLON DE 1000 mots!\n",
    "ld_util.upper_lower(''.join(char2idx))"
   ]
  },
  {
   "cell_type": "code",
   "execution_count": 12,
   "metadata": {},
   "outputs": [],
   "source": [
    "X = preprocessed_imgs_edge\n",
    "\n",
    "# y pre-transformée en index de caracteres pour avoir des valeurs numériques\n",
    "# y = list()\n",
    "# tmp = list()\n",
    "# for word in df_edge['transcription']:\n",
    "#     for letter in word:\n",
    "#         tmp.append(char2idx[letter])\n",
    "#     y.append(tmp)\n",
    "#     tmp = list()\n",
    "\n",
    "# print(y[:5])\n",
    "\n",
    "# y sans transofrmation\n",
    "y = df_edge['transcription']"
   ]
  },
  {
   "cell_type": "code",
   "execution_count": null,
   "metadata": {},
   "outputs": [],
   "source": [
    "\n"
   ]
  },
  {
   "cell_type": "markdown",
   "metadata": {},
   "source": [
    "### Création Modèle"
   ]
  },
  {
   "cell_type": "code",
   "execution_count": 13,
   "metadata": {},
   "outputs": [
    {
     "name": "stdout",
     "output_type": "stream",
     "text": [
      "Model: \"sequential\"\n",
      "_________________________________________________________________\n",
      " Layer (type)                Output Shape              Param #   \n",
      "=================================================================\n",
      " conv2d (Conv2D)             (None, 128, 32, 32)       832       \n",
      "                                                                 \n",
      " batch_normalization (BatchN  (None, 128, 32, 32)      128       \n",
      " ormalization)                                                   \n",
      "                                                                 \n",
      " leaky_re_lu (LeakyReLU)     (None, 128, 32, 32)       0         \n",
      "                                                                 \n",
      " max_pooling2d (MaxPooling2D  (None, 64, 16, 32)       0         \n",
      " )                                                               \n",
      "                                                                 \n",
      " conv2d_1 (Conv2D)           (None, 64, 16, 64)        51264     \n",
      "                                                                 \n",
      " batch_normalization_1 (Batc  (None, 64, 16, 64)       256       \n",
      " hNormalization)                                                 \n",
      "                                                                 \n",
      " leaky_re_lu_1 (LeakyReLU)   (None, 64, 16, 64)        0         \n",
      "                                                                 \n",
      " max_pooling2d_1 (MaxPooling  (None, 32, 8, 64)        0         \n",
      " 2D)                                                             \n",
      "                                                                 \n",
      " conv2d_2 (Conv2D)           (None, 32, 8, 128)        73856     \n",
      "                                                                 \n",
      " batch_normalization_2 (Batc  (None, 32, 8, 128)       512       \n",
      " hNormalization)                                                 \n",
      "                                                                 \n",
      " leaky_re_lu_2 (LeakyReLU)   (None, 32, 8, 128)        0         \n",
      "                                                                 \n",
      " max_pooling2d_2 (MaxPooling  (None, 32, 4, 128)       0         \n",
      " 2D)                                                             \n",
      "                                                                 \n",
      " conv2d_3 (Conv2D)           (None, 32, 4, 128)        147584    \n",
      "                                                                 \n",
      " batch_normalization_3 (Batc  (None, 32, 4, 128)       512       \n",
      " hNormalization)                                                 \n",
      "                                                                 \n",
      " leaky_re_lu_3 (LeakyReLU)   (None, 32, 4, 128)        0         \n",
      "                                                                 \n",
      " max_pooling2d_3 (MaxPooling  (None, 32, 2, 128)       0         \n",
      " 2D)                                                             \n",
      "                                                                 \n",
      " conv2d_4 (Conv2D)           (None, 32, 2, 256)        295168    \n",
      "                                                                 \n",
      " batch_normalization_4 (Batc  (None, 32, 2, 256)       1024      \n",
      " hNormalization)                                                 \n",
      "                                                                 \n",
      " leaky_re_lu_4 (LeakyReLU)   (None, 32, 2, 256)        0         \n",
      "                                                                 \n",
      " max_pooling2d_4 (MaxPooling  (None, 32, 1, 256)       0         \n",
      " 2D)                                                             \n",
      "                                                                 \n",
      " lambda (Lambda)             (None, 32, 256)           0         \n",
      "                                                                 \n",
      " bidirectional (Bidirectiona  (None, 32, 512)          789504    \n",
      " l)                                                              \n",
      "                                                                 \n",
      " dense (Dense)               (None, 32, 100)           51300     \n",
      "                                                                 \n",
      "=================================================================\n",
      "Total params: 1,411,940\n",
      "Trainable params: 1,410,724\n",
      "Non-trainable params: 1,216\n",
      "_________________________________________________________________\n"
     ]
    }
   ],
   "source": [
    "from tensorflow.keras.layers import GRU, Bidirectional, Dense, Lambda\n",
    "from tensorflow.keras.layers import Conv2D, BatchNormalization, MaxPooling2D, LeakyReLU, Dropout\n",
    "\n",
    "model = tf.keras.Sequential()\n",
    "\n",
    "############\n",
    "# Layer 1\n",
    "model.add(Conv2D(filters=32, kernel_size=(5,5), padding='SAME', input_shape = (128, 32, 1)))\n",
    "model.add(BatchNormalization())\n",
    "model.add(LeakyReLU())\n",
    "model.add(MaxPooling2D(pool_size=(2,2), strides=(2,2)))\n",
    "\n",
    "# Layer 2\n",
    "model.add(Conv2D(filters=64, kernel_size=(5,5), padding='SAME'))\n",
    "model.add(BatchNormalization())\n",
    "model.add(LeakyReLU())\n",
    "model.add(MaxPooling2D(pool_size=(2,2), strides=(2,2)))\n",
    "\n",
    "# Layer 3\n",
    "model.add(Conv2D(filters=128, kernel_size=(3,3), padding='SAME'))\n",
    "model.add(BatchNormalization())\n",
    "model.add(LeakyReLU())\n",
    "model.add(MaxPooling2D(pool_size=(1,2), strides=(1,2)))\n",
    "\n",
    "# Layer 4\n",
    "model.add(Conv2D(filters=128, kernel_size=(3,3), padding='SAME'))\n",
    "model.add(BatchNormalization())\n",
    "model.add(LeakyReLU())\n",
    "model.add(MaxPooling2D(pool_size=(1,2), strides=(1,2)))\n",
    "\n",
    "# Layer 5\n",
    "model.add(Conv2D(filters=256, kernel_size=(3,3), padding='SAME'))\n",
    "model.add(BatchNormalization())\n",
    "model.add(LeakyReLU())\n",
    "model.add(MaxPooling2D(pool_size=(1,2), strides=(1,2)))\n",
    "#####################\n",
    "\n",
    "\n",
    "# Remove axis 2\n",
    "model.add(Lambda(lambda x :tf.squeeze(x, axis=2)))\n",
    "numHidden = 256\n",
    "# Bidirectionnal RNN\n",
    "model.add(Bidirectional(GRU(numHidden, return_sequences=True)))\n",
    "model.add(Dense(100))\n",
    "model.summary()\n"
   ]
  },
  {
   "cell_type": "code",
   "execution_count": 14,
   "metadata": {},
   "outputs": [],
   "source": [
    "X = X.reshape(-1, 128, 32)\n",
    "\n",
    "X_train, X_test, y_train, y_test = train_test_split(X, y, test_size=0.2, random_state=126)\n",
    "\n",
    "#Definition du dataset\n",
    "dataset = tf.data.Dataset.from_tensor_slices((np.expand_dims(X_train,-1), y_train))\n",
    "dataset = dataset.shuffle(1000).batch(64)\n",
    "\n",
    "########################## imports\n",
    "import sys\n",
    "import string\n",
    "import time\n",
    "############################## vars\n",
    "\n",
    "charList = list(string.ascii_letters)+[' ']\n",
    "# Définition d'un optimisateur Adam\n",
    "optimizer = tf.keras.optimizers.Adam(learning_rate=0.0001)\n",
    "\n",
    "################# functions\n",
    "def loss(labels, logits):\n",
    "    return tf.reduce_mean(\n",
    "            tf.nn.ctc_loss(\n",
    "                labels = labels,\n",
    "                logits = logits,\n",
    "                logit_length = [logits.shape[1]]*logits.shape[0],\n",
    "                label_length = None,\n",
    "                logits_time_major = False,\n",
    "                blank_index=-1\n",
    "            )\n",
    "        )\n",
    "\n",
    "def train_op(model, inputs, targets):\n",
    "    with tf.GradientTape() as tape:\n",
    "        # Prédiction de notre modèle\n",
    "        y_pred = model(inputs, training=True)\n",
    "        # Calcule de l'erreur de notre modèle\n",
    "        loss_value = tf.reduce_mean(loss(targets, y_pred))\n",
    "       \n",
    "    # Calculer le gradient de la fonction de perte\n",
    "    grads = tape.gradient(loss_value, model.trainable_variables)\n",
    "    # Descente de gradient\n",
    "    optimizer.apply_gradients(zip(grads, model.trainable_variables))\n",
    "    # Retourner la valeur de la fonction de perte\n",
    "    return loss_value.numpy()\n",
    "\n",
    "def encode_labels(labels, charList):\n",
    "    # Hash Table\n",
    "    table = tf.lookup.StaticHashTable(\n",
    "        tf.lookup.KeyValueTensorInitializer(\n",
    "            charList,\n",
    "            np.arange(len(charList)),\n",
    "            value_dtype=tf.int32\n",
    "        ),\n",
    "        0,  ### !!!!! pourquoi -1? ça echoue dans la ctc loss a cause de labels négatifs...  !!!!!!!!!!!!!!!!!!!! ????????????\n",
    "        name='char2id'\n",
    "    )\n",
    "    return table.lookup(\n",
    "    tf.compat.v1.string_split(labels, delimiter=''))\n",
    "    \n",
    "def decode_codes(codes, charList):\n",
    "    table = tf.lookup.StaticHashTable(\n",
    "        tf.lookup.KeyValueTensorInitializer(\n",
    "            np.arange(len(charList)),\n",
    "            charList,\n",
    "            key_dtype=tf.int32\n",
    "        ),\n",
    "        '',\n",
    "        name='id2char'\n",
    "    )\n",
    "    return table.lookup(codes)\n",
    "\n",
    "def greedy_decoder(logits):\n",
    "    # ctc beam search decoder\n",
    "    predicted_codes, _ = tf.nn.ctc_greedy_decoder(\n",
    "        # shape of tensor [max_time x batch_size x num_classes] \n",
    "        tf.transpose(logits, (1, 0, 2)),\n",
    "        [logits.shape[1]]*logits.shape[0]\n",
    "    )\n",
    "    \n",
    "    # convert to int32\n",
    "    codes = tf.cast(predicted_codes[0], tf.int32)\n",
    "    \n",
    "    # Decode the index of caracter\n",
    "    text = decode_codes(codes, charList)\n",
    "    \n",
    "    # Convert a SparseTensor to string\n",
    "    text = tf.sparse.to_dense(text).numpy().astype(str)\n",
    "    \n",
    "    return list(map(lambda x: ''.join(x), text))\n",
    "\n",
    "#####################################\n",
    "\n"
   ]
  },
  {
   "cell_type": "code",
   "execution_count": 22,
   "metadata": {},
   "outputs": [
    {
     "name": "stdout",
     "output_type": "stream",
     "text": [
      "(200, 128, 32)\n"
     ]
    }
   ],
   "source": [
    "print(X_test.shape)"
   ]
  },
  {
   "cell_type": "code",
   "execution_count": 23,
   "metadata": {},
   "outputs": [
    {
     "name": "stdout",
     "output_type": "stream",
     "text": [
      "387       face\n",
      "890        his\n",
      "107       Said\n",
      "125        Sir\n",
      "835    despite\n",
      "Name: transcription, dtype: object\n"
     ]
    },
    {
     "data": {
      "text/plain": [
       "<tf.Tensor: shape=(5, 7), dtype=string, numpy=\n",
       "array([[b'f', b'a', b'c', b'e', b'', b'', b''],\n",
       "       [b'h', b'i', b's', b'', b'', b'', b''],\n",
       "       [b'S', b'a', b'i', b'd', b'', b'', b''],\n",
       "       [b'S', b'i', b'r', b'', b'', b'', b''],\n",
       "       [b'd', b'e', b's', b'p', b'i', b't', b'e']], dtype=object)>"
      ]
     },
     "execution_count": 23,
     "metadata": {},
     "output_type": "execute_result"
    }
   ],
   "source": [
    "b = decode_codes(encode_labels(y_train[0:5], charList), charList)\n",
    "print(y_train[0:5])\n",
    "tf.sparse.to_dense(b)\n",
    "\n"
   ]
  },
  {
   "cell_type": "code",
   "execution_count": 17,
   "metadata": {},
   "outputs": [
    {
     "name": "stdout",
     "output_type": "stream",
     "text": [
      "---- Epoch 0 ----\n",
      "125.70739\n",
      "121.137955\n",
      "113.381874\n",
      "108.69499\n",
      "94.60556\n",
      "90.01355\n",
      "86.56244\n",
      "79.50365\n",
      "71.28339\n",
      "67.92371\n",
      "56.14982\n",
      "59.942833\n",
      "51.321262\n",
      "---- Epoch 1 ----\n",
      "50.28986\n",
      "43.084908\n",
      "49.939915\n",
      "36.952187\n",
      "38.28406\n",
      "41.285736\n",
      "37.219254\n",
      "33.581837\n",
      "33.277576\n",
      "31.78254\n",
      "27.839613\n",
      "29.224897\n",
      "26.22877\n"
     ]
    }
   ],
   "source": [
    "\n",
    "\n",
    "epochs = 2\n",
    "# Entraînenement du modèle\n",
    "for i in range(epochs): \n",
    "    # Pour chaque epoch\n",
    "    print('---- Epoch', i, '----')\n",
    "    for X_b, y_b in dataset:\n",
    "        # try :\n",
    "            y_ba = encode_labels(y_b, charList)\n",
    "            print(train_op(model, X_b, y_ba))\n",
    "        # except :\n",
    "        #     print(\"Unexpected error:\", sys.exc_info()[0])\n",
    "        #     time.sleep(0.5)\n"
   ]
  },
  {
   "cell_type": "code",
   "execution_count": 18,
   "metadata": {},
   "outputs": [
    {
     "data": {
      "text/plain": [
       "[('', 'nominees'),\n",
       " ('', 'into'),\n",
       " ('', 'take'),\n",
       " ('', 'have'),\n",
       " ('', 'the'),\n",
       " ('', 'Mr.'),\n",
       " ('', 'support'),\n",
       " ('', 'last'),\n",
       " ('', 'talks'),\n",
       " ('', 'have'),\n",
       " ('', 'Parties'),\n",
       " ('', 'of'),\n",
       " ('', 'The'),\n",
       " ('', 'with'),\n",
       " ('', 'peers'),\n",
       " ('', 'Mr.'),\n",
       " ('', 'the'),\n",
       " ('', 'steps'),\n",
       " ('', 'Africans'),\n",
       " ('', 'of'),\n",
       " ('', 'forward'),\n",
       " ('', 'Government'),\n",
       " ('', 'overall'),\n",
       " ('', 'the'),\n",
       " ('', 'created'),\n",
       " ('', 'seeking'),\n",
       " ('', 'resolution'),\n",
       " ('', 'He'),\n",
       " ('', 'the'),\n",
       " ('', 'now')]"
      ]
     },
     "execution_count": 18,
     "metadata": {},
     "output_type": "execute_result"
    }
   ],
   "source": [
    "l = greedy_decoder(model(np.expand_dims(X_test[:30], -1)))\n",
    "list(zip(l, y_test[:30]))\n",
    "\n"
   ]
  },
  {
   "cell_type": "code",
   "execution_count": 19,
   "metadata": {},
   "outputs": [
    {
     "name": "stdout",
     "output_type": "stream",
     "text": [
      "7/7 [==============================] - 4s 108ms/step\n",
      "[ 0  0 -1 -1 -1 -1 -1 -1 -1 -1 -1 -1 -1 -1 -1 -1 -1 -1 -1 -1 -1 -1 -1 -1\n",
      " -1 -1 -1 -1 -1 -1 -1 -1]\n"
     ]
    }
   ],
   "source": [
    "######TESTSSSSS\n",
    "\n",
    "# l = greedy_decoder(preds)\n",
    "# list(zip(l, y_test[:30]))\n",
    "from keras import backend as K\n",
    "\n",
    "preds = model.predict(X_test)\n",
    "\n",
    "decoded = K.get_value(K.ctc_decode(preds, input_length=np.ones(preds.shape[0])*preds.shape[1], \n",
    "                                   greedy=True)[0][0])\n",
    "\n",
    "print(decoded[0])"
   ]
  },
  {
   "cell_type": "markdown",
   "metadata": {},
   "source": [
    "## From Kaggle"
   ]
  },
  {
   "cell_type": "code",
   "execution_count": 20,
   "metadata": {},
   "outputs": [],
   "source": [
    "import os\n",
    "import cv2\n",
    "import random\n",
    "import numpy as np\n",
    "import pandas as pd\n",
    "import matplotlib.pyplot as plt\n",
    "\n",
    "import tensorflow as tf\n",
    "from keras import backend as K\n",
    "from keras.models import Model\n",
    "from keras.layers import Input, Conv2D, MaxPooling2D, Reshape, Bidirectional, LSTM, Dense, Lambda, Activation, BatchNormalization, Dropout\n",
    "from keras.optimizers import Adam"
   ]
  },
  {
   "cell_type": "code",
   "execution_count": 21,
   "metadata": {},
   "outputs": [
    {
     "ename": "ValueError",
     "evalue": "could not convert string to float: 'Lancaster'",
     "output_type": "error",
     "traceback": [
      "\u001b[1;31m---------------------------------------------------------------------------\u001b[0m",
      "\u001b[1;31mValueError\u001b[0m                                Traceback (most recent call last)",
      "\u001b[1;32md:\\GitHub\\OCRpyMAN\\notebooks\\TJ_letters_detection_from_words.ipynb Cellule 29\u001b[0m in \u001b[0;36m<cell line: 25>\u001b[1;34m()\u001b[0m\n\u001b[0;32m     <a href='vscode-notebook-cell:/d%3A/GitHub/OCRpyMAN/notebooks/TJ_letters_detection_from_words.ipynb#X40sZmlsZQ%3D%3D?line=24'>25</a>\u001b[0m \u001b[39mfor\u001b[39;00m i \u001b[39min\u001b[39;00m \u001b[39mrange\u001b[39m(train_size):\n\u001b[0;32m     <a href='vscode-notebook-cell:/d%3A/GitHub/OCRpyMAN/notebooks/TJ_letters_detection_from_words.ipynb#X40sZmlsZQ%3D%3D?line=25'>26</a>\u001b[0m     train_label_len[i] \u001b[39m=\u001b[39m \u001b[39mlen\u001b[39m(train_y[i])\n\u001b[1;32m---> <a href='vscode-notebook-cell:/d%3A/GitHub/OCRpyMAN/notebooks/TJ_letters_detection_from_words.ipynb#X40sZmlsZQ%3D%3D?line=26'>27</a>\u001b[0m     train_y_tmp[i, \u001b[39m0\u001b[39m:\u001b[39mlen\u001b[39m(train_y[i])]\u001b[39m=\u001b[39m train_y[i]\n\u001b[0;32m     <a href='vscode-notebook-cell:/d%3A/GitHub/OCRpyMAN/notebooks/TJ_letters_detection_from_words.ipynb#X40sZmlsZQ%3D%3D?line=28'>29</a>\u001b[0m train_y \u001b[39m=\u001b[39m train_y_tmp\n\u001b[0;32m     <a href='vscode-notebook-cell:/d%3A/GitHub/OCRpyMAN/notebooks/TJ_letters_detection_from_words.ipynb#X40sZmlsZQ%3D%3D?line=30'>31</a>\u001b[0m valid_y_tmp \u001b[39m=\u001b[39m np\u001b[39m.\u001b[39mones([valid_size, max_str_len]) \u001b[39m*\u001b[39m \u001b[39m-\u001b[39m\u001b[39m1\u001b[39m\n",
      "\u001b[1;31mValueError\u001b[0m: could not convert string to float: 'Lancaster'"
     ]
    }
   ],
   "source": [
    "\n",
    "# train =  pd.read_csv('/kaggle/input/handwriting-recognition/written_name_train_v2.csv')\n",
    "# valid = pd.read_csv('/kaggle/input/handwriting-recognition/written_name_validation_v2.csv')\n",
    "\n",
    "train_x, valid_x, train_y, valid_y = train_test_split(X, y, test_size=0.2, random_state=126)\n",
    "\n",
    "train_size = 800\n",
    "valid_size= 200\n",
    "\n",
    "train_x = np.array(train_x).reshape(-1, 128, 32, 1)\n",
    "valid_x = np.array(valid_x).reshape(-1, 128, 32, 1)\n",
    "\n",
    "\n",
    "alphabets = ''.join(char2idx)\n",
    "max_str_len = 30 # max length of input labels\n",
    "num_of_characters = len(alphabets) + 1 # +1 for ctc pseudo blank\n",
    "num_of_timestamps = 32 # max length of predicted labels   !!!!????? pourquoi diff de max_str_len ????\n",
    "\n",
    "\n",
    "# réarrangement des targets\n",
    "train_y_tmp = np.ones([train_size, max_str_len]) * -1\n",
    "train_label_len = np.zeros([train_size, 1])\n",
    "train_input_len = np.ones([train_size, 1]) * (num_of_timestamps-2)\n",
    "train_output = np.zeros([train_size])\n",
    "\n",
    "for i in range(train_size):\n",
    "    train_label_len[i] = len(train_y[i])\n",
    "    train_y_tmp[i, 0:len(train_y[i])]= train_y[i]\n",
    "\n",
    "train_y = train_y_tmp\n",
    "\n",
    "valid_y_tmp = np.ones([valid_size, max_str_len]) * -1\n",
    "valid_label_len = np.zeros([valid_size, 1])\n",
    "valid_input_len = np.ones([valid_size, 1]) * (num_of_timestamps-2)\n",
    "valid_output = np.zeros([valid_size])\n",
    "\n",
    "for i in range(valid_size):\n",
    "    valid_label_len[i] = len(valid_y[i])\n",
    "    valid_y_tmp[i, 0:len(valid_y[i])]= valid_y[i]\n",
    "\n",
    "valid_y = valid_y_tmp\n",
    "###############################\n",
    "train_y = train_y.astype('int')\n",
    "valid_y = valid_y.astype('int')\n",
    "\n"
   ]
  },
  {
   "cell_type": "code",
   "execution_count": null,
   "metadata": {},
   "outputs": [],
   "source": [
    "def num_to_label(num):\n",
    "    ret = \"\"\n",
    "    for ch in num:\n",
    "        if ch == -1:  # CTC Blank\n",
    "            break\n",
    "        else:\n",
    "            ret+=alphabets[ch]\n",
    "    return ret"
   ]
  },
  {
   "cell_type": "code",
   "execution_count": null,
   "metadata": {},
   "outputs": [
    {
     "name": "stdout",
     "output_type": "stream",
     "text": [
      "True label :  is \n",
      "train_y :  [ 5 37 -1 -1 -1 -1 -1 -1 -1 -1 -1 -1 -1 -1 -1 -1 -1 -1 -1 -1 -1 -1 -1 -1\n",
      " -1 -1 -1 -1 -1 -1] \n",
      "train_label_len :  [2.] \n",
      "train_input_len :  [30.]\n"
     ]
    }
   ],
   "source": [
    "print('True label : ',num_to_label(train_y[150]) , '\\ntrain_y : ',train_y[150],'\\ntrain_label_len : ',train_label_len[150], \n",
    "      '\\ntrain_input_len : ', train_input_len[150])"
   ]
  },
  {
   "cell_type": "markdown",
   "metadata": {},
   "source": [
    "### Modèle"
   ]
  },
  {
   "cell_type": "code",
   "execution_count": null,
   "metadata": {},
   "outputs": [
    {
     "name": "stdout",
     "output_type": "stream",
     "text": [
      "Model: \"model_2\"\n",
      "_________________________________________________________________\n",
      " Layer (type)                Output Shape              Param #   \n",
      "=================================================================\n",
      " input (InputLayer)          [(None, 128, 32, 1)]      0         \n",
      "                                                                 \n",
      " conv1 (Conv2D)              (None, 128, 32, 32)       320       \n",
      "                                                                 \n",
      " batch_normalization_8 (Batc  (None, 128, 32, 32)      128       \n",
      " hNormalization)                                                 \n",
      "                                                                 \n",
      " activation_3 (Activation)   (None, 128, 32, 32)       0         \n",
      "                                                                 \n",
      " max1 (MaxPooling2D)         (None, 64, 16, 32)        0         \n",
      "                                                                 \n",
      " conv2 (Conv2D)              (None, 64, 16, 64)        18496     \n",
      "                                                                 \n",
      " batch_normalization_9 (Batc  (None, 64, 16, 64)       256       \n",
      " hNormalization)                                                 \n",
      "                                                                 \n",
      " activation_4 (Activation)   (None, 64, 16, 64)        0         \n",
      "                                                                 \n",
      " max2 (MaxPooling2D)         (None, 32, 8, 64)         0         \n",
      "                                                                 \n",
      " dropout_2 (Dropout)         (None, 32, 8, 64)         0         \n",
      "                                                                 \n",
      " conv3 (Conv2D)              (None, 32, 8, 128)        73856     \n",
      "                                                                 \n",
      " batch_normalization_10 (Bat  (None, 32, 8, 128)       512       \n",
      " chNormalization)                                                \n",
      "                                                                 \n",
      " activation_5 (Activation)   (None, 32, 8, 128)        0         \n",
      "                                                                 \n",
      " max3 (MaxPooling2D)         (None, 32, 4, 128)        0         \n",
      "                                                                 \n",
      " dropout_3 (Dropout)         (None, 32, 4, 128)        0         \n",
      "                                                                 \n",
      " reshape (Reshape)           (None, 32, 512)           0         \n",
      "                                                                 \n",
      " dense1 (Dense)              (None, 32, 32)            16416     \n",
      "                                                                 \n",
      " lstm1 (Bidirectional)       (None, 32, 256)           164864    \n",
      "                                                                 \n",
      " lstm2 (Bidirectional)       (None, 32, 256)           394240    \n",
      "                                                                 \n",
      " dense2 (Dense)              (None, 32, 54)            13878     \n",
      "                                                                 \n",
      " softmax (Activation)        (None, 32, 54)            0         \n",
      "                                                                 \n",
      "=================================================================\n",
      "Total params: 682,966\n",
      "Trainable params: 682,518\n",
      "Non-trainable params: 448\n",
      "_________________________________________________________________\n"
     ]
    }
   ],
   "source": [
    "input_data = Input(shape=(128, 32, 1), name='input')\n",
    "\n",
    "inner = Conv2D(32, (3, 3), padding='same', name='conv1', kernel_initializer='he_normal')(input_data)  \n",
    "inner = BatchNormalization()(inner)\n",
    "inner = Activation('relu')(inner)\n",
    "inner = MaxPooling2D(pool_size=(2, 2), name='max1')(inner)\n",
    "\n",
    "inner = Conv2D(64, (3, 3), padding='same', name='conv2', kernel_initializer='he_normal')(inner)\n",
    "inner = BatchNormalization()(inner)\n",
    "inner = Activation('relu')(inner)\n",
    "inner = MaxPooling2D(pool_size=(2, 2), name='max2')(inner)\n",
    "inner = Dropout(0.3)(inner)\n",
    "\n",
    "inner = Conv2D(128, (3, 3), padding='same', name='conv3', kernel_initializer='he_normal')(inner)\n",
    "inner = BatchNormalization()(inner)\n",
    "inner = Activation('relu')(inner)\n",
    "inner = MaxPooling2D(pool_size=(1, 2), name='max3')(inner)\n",
    "inner = Dropout(0.3)(inner)\n",
    "\n",
    "# CNN to RNN\n",
    "inner = Reshape(target_shape=((32, 512)), name='reshape')(inner)\n",
    "inner = Dense(32, activation='relu', kernel_initializer='he_normal', name='dense1')(inner)\n",
    "\n",
    "## RNN\n",
    "inner = Bidirectional(LSTM(128, return_sequences=True), name = 'lstm1')(inner)\n",
    "inner = Bidirectional(LSTM(128, return_sequences=True), name = 'lstm2')(inner)\n",
    "\n",
    "## OUTPUT\n",
    "inner = Dense(num_of_characters, kernel_initializer='he_normal',name='dense2')(inner)\n",
    "y_pred = Activation('softmax', name='softmax')(inner)\n",
    "\n",
    "model = Model(inputs=input_data, outputs=y_pred)\n",
    "model.summary()"
   ]
  },
  {
   "cell_type": "code",
   "execution_count": null,
   "metadata": {},
   "outputs": [],
   "source": [
    "# the ctc loss function\n",
    "def ctc_lambda_func(args):\n",
    "    y_pred, labels, input_length, label_length = args\n",
    "    # the 2 is critical here since the first couple outputs of the RNN\n",
    "    # tend to be garbage\n",
    "    y_pred = y_pred[:, 2:, :]\n",
    "    return K.ctc_batch_cost(labels, y_pred, input_length, label_length)\n",
    "\n",
    "\n",
    "labels = Input(name='gtruth_labels', shape=[max_str_len], dtype='float32')\n",
    "input_length = Input(name='input_length', shape=[1], dtype='int64')\n",
    "label_length = Input(name='label_length', shape=[1], dtype='int64')\n",
    "\n",
    "ctc_loss = Lambda(ctc_lambda_func, output_shape=(1,), name='ctc')([y_pred, labels, input_length, label_length])\n",
    "model_final = Model(inputs=[input_data, labels, input_length, label_length], outputs=ctc_loss)\n"
   ]
  },
  {
   "cell_type": "code",
   "execution_count": null,
   "metadata": {},
   "outputs": [
    {
     "name": "stdout",
     "output_type": "stream",
     "text": [
      "Epoch 1/30\n"
     ]
    },
    {
     "name": "stderr",
     "output_type": "stream",
     "text": [
      "C:\\Users\\TiBo\\AppData\\Roaming\\Python\\Python39\\site-packages\\keras\\optimizers\\optimizer_v2\\adam.py:114: UserWarning: The `lr` argument is deprecated, use `learning_rate` instead.\n",
      "  super().__init__(name, **kwargs)\n"
     ]
    },
    {
     "name": "stdout",
     "output_type": "stream",
     "text": [
      "7/7 [==============================] - 21s 1s/step - loss: 94.5986 - val_loss: 84.5896\n",
      "Epoch 2/30\n",
      "7/7 [==============================] - 7s 1s/step - loss: 68.6965 - val_loss: 55.1174\n",
      "Epoch 3/30\n",
      "7/7 [==============================] - 8s 1s/step - loss: 39.5660 - val_loss: 30.6476\n",
      "Epoch 4/30\n",
      "7/7 [==============================] - 11s 1s/step - loss: 23.4687 - val_loss: 21.3218\n",
      "Epoch 5/30\n",
      "7/7 [==============================] - 9s 1s/step - loss: 20.3729 - val_loss: 19.8857\n",
      "Epoch 6/30\n",
      "7/7 [==============================] - 8s 1s/step - loss: 20.4571 - val_loss: 19.6912\n",
      "Epoch 7/30\n",
      "7/7 [==============================] - 8s 1s/step - loss: 20.0495 - val_loss: 19.3077\n",
      "Epoch 8/30\n",
      "7/7 [==============================] - 8s 1s/step - loss: 19.3105 - val_loss: 18.9593\n",
      "Epoch 9/30\n",
      "7/7 [==============================] - 8s 1s/step - loss: 18.8396 - val_loss: 18.7843\n",
      "Epoch 10/30\n",
      "7/7 [==============================] - 10s 1s/step - loss: 18.6092 - val_loss: 18.6348\n",
      "Epoch 11/30\n",
      "7/7 [==============================] - 9s 1s/step - loss: 18.3559 - val_loss: 18.4223\n",
      "Epoch 12/30\n",
      "7/7 [==============================] - 9s 1s/step - loss: 18.1268 - val_loss: 18.2096\n",
      "Epoch 13/30\n",
      "7/7 [==============================] - 9s 1s/step - loss: 17.9465 - val_loss: 18.0549\n",
      "Epoch 14/30\n",
      "7/7 [==============================] - 9s 1s/step - loss: 17.7865 - val_loss: 17.9390\n",
      "Epoch 15/30\n",
      "7/7 [==============================] - 9s 1s/step - loss: 17.6636 - val_loss: 17.8378\n",
      "Epoch 16/30\n",
      "7/7 [==============================] - 9s 1s/step - loss: 17.5558 - val_loss: 17.7457\n",
      "Epoch 17/30\n",
      "7/7 [==============================] - 9s 1s/step - loss: 17.4689 - val_loss: 17.6618\n",
      "Epoch 18/30\n",
      "7/7 [==============================] - 9s 1s/step - loss: 17.4013 - val_loss: 17.5990\n",
      "Epoch 19/30\n",
      "7/7 [==============================] - 9s 1s/step - loss: 17.3450 - val_loss: 17.5558\n",
      "Epoch 20/30\n",
      "7/7 [==============================] - 10s 1s/step - loss: 17.2913 - val_loss: 17.5115\n",
      "Epoch 21/30\n",
      "7/7 [==============================] - 9s 1s/step - loss: 17.2328 - val_loss: 17.4359\n",
      "Epoch 22/30\n",
      "7/7 [==============================] - 9s 1s/step - loss: 17.1917 - val_loss: 17.3801\n",
      "Epoch 23/30\n",
      "7/7 [==============================] - 9s 1s/step - loss: 17.1469 - val_loss: 17.3574\n",
      "Epoch 24/30\n",
      "7/7 [==============================] - 9s 1s/step - loss: 17.1132 - val_loss: 17.3180\n",
      "Epoch 25/30\n",
      "7/7 [==============================] - 9s 1s/step - loss: 17.0740 - val_loss: 17.2568\n",
      "Epoch 26/30\n",
      "7/7 [==============================] - 9s 1s/step - loss: 17.0432 - val_loss: 17.2240\n",
      "Epoch 27/30\n",
      "7/7 [==============================] - 9s 1s/step - loss: 17.0064 - val_loss: 17.2082\n",
      "Epoch 28/30\n",
      "7/7 [==============================] - 9s 1s/step - loss: 16.9808 - val_loss: 17.1781\n",
      "Epoch 29/30\n",
      "7/7 [==============================] - 9s 1s/step - loss: 16.9416 - val_loss: 17.1488\n",
      "Epoch 30/30\n",
      "7/7 [==============================] - 9s 1s/step - loss: 16.9235 - val_loss: 17.0962\n"
     ]
    },
    {
     "data": {
      "text/plain": [
       "<keras.callbacks.History at 0x221e18e64f0>"
      ]
     },
     "execution_count": 35,
     "metadata": {},
     "output_type": "execute_result"
    }
   ],
   "source": [
    "# the loss calculation occurs elsewhere, so we use a dummy lambda function for the loss\n",
    "model_final.compile(loss={'ctc': lambda y_true, y_pred: y_pred}, optimizer=Adam(lr = 0.0001))\n",
    "\n",
    "model_final.fit(x=[train_x, train_y, train_input_len, train_label_len], y=train_output, \n",
    "                validation_data=([valid_x, valid_y, valid_input_len, valid_label_len], valid_output),\n",
    "                epochs=30, batch_size=128)\n"
   ]
  },
  {
   "cell_type": "code",
   "execution_count": null,
   "metadata": {},
   "outputs": [
    {
     "name": "stdout",
     "output_type": "stream",
     "text": [
      "7/7 [==============================] - 4s 108ms/step\n",
      "True :  [41 47  0 44  8 45 -1 -1 -1 -1 -1 -1 -1 -1 -1 -1 -1 -1 -1 -1 -1 -1 -1 -1\n",
      " -1 -1 -1 -1 -1 -1] !! Pred :  \n",
      "True :  [47  5 36 51 -1 -1 -1 -1 -1 -1 -1 -1 -1 -1 -1 -1 -1 -1 -1 -1 -1 -1 -1 -1\n",
      " -1 -1 -1 -1 -1 -1] !! Pred :  \n",
      "True :  [38 33 51 -1 -1 -1 -1 -1 -1 -1 -1 -1 -1 -1 -1 -1 -1 -1 -1 -1 -1 -1 -1 -1\n",
      " -1 -1 -1 -1 -1 -1] !! Pred :  \n",
      "True :  [44  8 38 18 36 47 38 51 36 -1 -1 -1 -1 -1 -1 -1 -1 -1 -1 -1 -1 -1 -1 -1\n",
      " -1 -1 -1 -1 -1 -1] !! Pred :  \n",
      "True :  [41 47  0 44  8 45 -1 -1 -1 -1 -1 -1 -1 -1 -1 -1 -1 -1 -1 -1 -1 -1 -1 -1\n",
      " -1 -1 -1 -1 -1 -1] !! Pred :  \n",
      "True :  [35 44  8 37 51 -1 -1 -1 -1 -1 -1 -1 -1 -1 -1 -1 -1 -1 -1 -1 -1 -1 -1 -1\n",
      " -1 -1 -1 -1 -1 -1] !! Pred :  \n",
      "True :  [29 51 51 45 51 37 37 51 37 -1 -1 -1 -1 -1 -1 -1 -1 -1 -1 -1 -1 -1 -1 -1\n",
      " -1 -1 -1 -1 -1 -1] !! Pred :  \n",
      "True :  [44 11 -1 -1 -1 -1 -1 -1 -1 -1 -1 -1 -1 -1 -1 -1 -1 -1 -1 -1 -1 -1 -1 -1\n",
      " -1 -1 -1 -1 -1 -1] !! Pred :  \n",
      "True :  [ 1  5 38 33 -1 -1 -1 -1 -1 -1 -1 -1 -1 -1 -1 -1 -1 -1 -1 -1 -1 -1 -1 -1\n",
      " -1 -1 -1 -1 -1 -1] !! Pred :  \n",
      "True :  [52 45 39 -1 -1 -1 -1 -1 -1 -1 -1 -1 -1 -1 -1 -1 -1 -1 -1 -1 -1 -1 -1 -1\n",
      " -1 -1 -1 -1 -1 -1] !! Pred :  \n",
      "True :  [47  5 36 51 -1 -1 -1 -1 -1 -1 -1 -1 -1 -1 -1 -1 -1 -1 -1 -1 -1 -1 -1 -1\n",
      " -1 -1 -1 -1 -1 -1] !! Pred :  \n",
      "True :  [38 33 51 -1 -1 -1 -1 -1 -1 -1 -1 -1 -1 -1 -1 -1 -1 -1 -1 -1 -1 -1 -1 -1\n",
      " -1 -1 -1 -1 -1 -1] !! Pred :  \n",
      "True :  [ 1 47  7 38 -1 -1 -1 -1 -1 -1 -1 -1 -1 -1 -1 -1 -1 -1 -1 -1 -1 -1 -1 -1\n",
      " -1 -1 -1 -1 -1 -1] !! Pred :  \n",
      "True :  [33 47 37 -1 -1 -1 -1 -1 -1 -1 -1 -1 -1 -1 -1 -1 -1 -1 -1 -1 -1 -1 -1 -1\n",
      " -1 -1 -1 -1 -1 -1] !! Pred :  \n",
      "True :  [ 7  8 21  0 51 45 -1 -1 -1 -1 -1 -1 -1 -1 -1 -1 -1 -1 -1 -1 -1 -1 -1 -1\n",
      " -1 -1 -1 -1 -1 -1] !! Pred :  \n"
     ]
    }
   ],
   "source": [
    "preds = model.predict(valid_x)\n",
    "decoded = K.get_value(K.ctc_decode(preds, input_length=np.ones(preds.shape[0])*preds.shape[1], \n",
    "                                   greedy=True)[0][0])\n",
    "\n",
    "prediction = []\n",
    "for i in range(valid_size):\n",
    "    prediction.append(num_to_label(decoded[i]))\n",
    "\n",
    "\n",
    "for i in range(15):\n",
    "    print('True : ', valid_y[i], '!! Pred : ', prediction[i] )"
   ]
  },
  {
   "cell_type": "code",
   "execution_count": null,
   "metadata": {},
   "outputs": [
    {
     "name": "stdout",
     "output_type": "stream",
     "text": [
      "0.7604688\n",
      "0.16396892\n",
      "[4.9847453e-03 2.9768948e-03 8.1923458e-04 8.9015142e-04 7.6956960e-04\n",
      " 2.0462085e-02 1.2863055e-03 1.6341049e-02 6.0865306e-03 1.1699783e-03\n",
      " 5.6109915e-04 4.7165891e-03 2.7098267e-03 5.7641394e-04 7.9892110e-03\n",
      " 7.8785542e-04 9.1743318e-04 1.0907425e-03 1.4652216e-03 4.1377041e-03\n",
      " 4.7452201e-04 5.6902366e-03 9.0594823e-04 1.0149240e-03 2.8216569e-03\n",
      " 4.5166168e-04 1.2793371e-03 9.0223858e-03 1.0829429e-03 1.6396625e-03\n",
      " 6.3770817e-04 5.7237246e-04 2.9050608e-03 9.3423249e-03 8.1382145e-04\n",
      " 8.9002581e-04 8.3906660e-03 1.4308949e-02 1.9362848e-02 1.1634919e-03\n",
      " 1.2392041e-03 2.5124033e-03 1.1767129e-03 7.6047838e-04 2.6156796e-02\n",
      " 1.6275078e-02 1.8271438e-03 1.7413078e-02 1.0891625e-03 3.2412636e-04\n",
      " 2.1784434e-03 3.8823113e-02 2.1765663e-03 7.2453851e-01]\n",
      "53 53 53 53 53 53 53 53 53 53 53 53 53 53 53 53 53 53 53 53 53 53 53 53 53 53 53 53 53 53 53 53 \n",
      " [44  8 38 18 36 47 38 51 36 -1 -1 -1 -1 -1 -1 -1 -1 -1 -1 -1 -1 -1 -1 -1\n",
      " -1 -1 -1 -1 -1 -1]\n"
     ]
    },
    {
     "ename": "IndexError",
     "evalue": "string index out of range",
     "output_type": "error",
     "traceback": [
      "\u001b[1;31m---------------------------------------------------------------------------\u001b[0m",
      "\u001b[1;31mIndexError\u001b[0m                                Traceback (most recent call last)",
      "\u001b[1;32md:\\GitHub\\OCRpyMAN\\notebooks\\TJ_letters_detection_from_words.ipynb Cellule 31\u001b[0m in \u001b[0;36m<cell line: 9>\u001b[1;34m()\u001b[0m\n\u001b[0;32m      <a href='vscode-notebook-cell:/d%3A/GitHub/OCRpyMAN/notebooks/TJ_letters_detection_from_words.ipynb#X42sZmlsZQ%3D%3D?line=5'>6</a>\u001b[0m     \u001b[39mprint\u001b[39m(np\u001b[39m.\u001b[39margmax(preds[\u001b[39m3\u001b[39m][i]), end\u001b[39m=\u001b[39m\u001b[39m'\u001b[39m\u001b[39m \u001b[39m\u001b[39m'\u001b[39m)\n\u001b[0;32m      <a href='vscode-notebook-cell:/d%3A/GitHub/OCRpyMAN/notebooks/TJ_letters_detection_from_words.ipynb#X42sZmlsZQ%3D%3D?line=6'>7</a>\u001b[0m \u001b[39mprint\u001b[39m(\u001b[39m'\u001b[39m\u001b[39m\\n\u001b[39;00m\u001b[39m'\u001b[39m, valid_y[\u001b[39m3\u001b[39m])\n\u001b[1;32m----> <a href='vscode-notebook-cell:/d%3A/GitHub/OCRpyMAN/notebooks/TJ_letters_detection_from_words.ipynb#X42sZmlsZQ%3D%3D?line=8'>9</a>\u001b[0m \u001b[39mprint\u001b[39m(num_to_label([np\u001b[39m.\u001b[39;49margmax(preds[\u001b[39m3\u001b[39;49m][\u001b[39m0\u001b[39;49m])]))\n",
      "\u001b[1;32md:\\GitHub\\OCRpyMAN\\notebooks\\TJ_letters_detection_from_words.ipynb Cellule 31\u001b[0m in \u001b[0;36mnum_to_label\u001b[1;34m(num)\u001b[0m\n\u001b[0;32m      <a href='vscode-notebook-cell:/d%3A/GitHub/OCRpyMAN/notebooks/TJ_letters_detection_from_words.ipynb#X42sZmlsZQ%3D%3D?line=4'>5</a>\u001b[0m         \u001b[39mbreak\u001b[39;00m\n\u001b[0;32m      <a href='vscode-notebook-cell:/d%3A/GitHub/OCRpyMAN/notebooks/TJ_letters_detection_from_words.ipynb#X42sZmlsZQ%3D%3D?line=5'>6</a>\u001b[0m     \u001b[39melse\u001b[39;00m:\n\u001b[1;32m----> <a href='vscode-notebook-cell:/d%3A/GitHub/OCRpyMAN/notebooks/TJ_letters_detection_from_words.ipynb#X42sZmlsZQ%3D%3D?line=6'>7</a>\u001b[0m         ret\u001b[39m+\u001b[39m\u001b[39m=\u001b[39malphabets[ch]\n\u001b[0;32m      <a href='vscode-notebook-cell:/d%3A/GitHub/OCRpyMAN/notebooks/TJ_letters_detection_from_words.ipynb#X42sZmlsZQ%3D%3D?line=7'>8</a>\u001b[0m \u001b[39mreturn\u001b[39;00m ret\n",
      "\u001b[1;31mIndexError\u001b[0m: string index out of range"
     ]
    }
   ],
   "source": [
    "print(max([item for sublist in preds[3] for item in sublist]))\n",
    "print(max([item for item in preds[3][0]]))\n",
    "# print(decoded[:5])\n",
    "print(preds[3][10])\n",
    "for i in range(len(preds[3])):\n",
    "    print(np.argmax(preds[3][i]), end=' ')\n",
    "print('\\n', valid_y[3])\n",
    "\n",
    "print(num_to_label([np.argmax(preds[3][0])]))\n"
   ]
  }
 ],
 "metadata": {
  "kernelspec": {
   "display_name": "Python 3.9.12 ('base')",
   "language": "python",
   "name": "python3"
  },
  "language_info": {
   "codemirror_mode": {
    "name": "ipython",
    "version": 3
   },
   "file_extension": ".py",
   "mimetype": "text/x-python",
   "name": "python",
   "nbconvert_exporter": "python",
   "pygments_lexer": "ipython3",
   "version": "3.9.12"
  },
  "orig_nbformat": 4,
  "vscode": {
   "interpreter": {
    "hash": "646607af5cee56728deff5007f5747c6b792545c0f7c2f22c37576bfe12603f2"
   }
  }
 },
 "nbformat": 4,
 "nbformat_minor": 2
}
