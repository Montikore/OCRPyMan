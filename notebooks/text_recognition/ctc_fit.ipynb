{
 "cells": [
  {
   "cell_type": "markdown",
   "metadata": {},
   "source": [
    "# Text Recognition with CTC"
   ]
  },
  {
   "cell_type": "code",
   "execution_count": 31,
   "metadata": {},
   "outputs": [],
   "source": [
    "import tensorflow as tf\n",
    "import cv2\n",
    "import numpy as np\n",
    "import matplotlib.pyplot as plt\n",
    "import pickle\n",
    "import pandas as pd\n",
    "import re\n",
    "from os.path import exists"
   ]
  },
  {
   "cell_type": "code",
   "execution_count": 32,
   "metadata": {},
   "outputs": [
    {
     "data": {
      "text/plain": [
       "<module 'ctc_utils' from '/Users/jpec/Prog/OCRpyMAN/notebooks/text_recognition/ctc_utils.py'>"
      ]
     },
     "execution_count": 32,
     "metadata": {},
     "output_type": "execute_result"
    }
   ],
   "source": [
    "import ctc_utils as utils\n",
    "from importlib import reload \n",
    "import warnings\n",
    "\n",
    "# Ensure we have always the latest state and \n",
    "# not the last import in memory\n",
    "reload(utils)"
   ]
  },
  {
   "cell_type": "code",
   "execution_count": 33,
   "metadata": {},
   "outputs": [
    {
     "name": "stdout",
     "output_type": "stream",
     "text": [
      "Length:  96420\n"
     ]
    },
    {
     "name": "stderr",
     "output_type": "stream",
     "text": [
      "/var/folders/45/1rh915g935nggkhvq3fhbn180000gn/T/ipykernel_31834/1927137089.py:5: SettingWithCopyWarning: \n",
      "A value is trying to be set on a copy of a slice from a DataFrame.\n",
      "Try using .loc[row_indexer,col_indexer] = value instead\n",
      "\n",
      "See the caveats in the documentation: https://pandas.pydata.org/pandas-docs/stable/user_guide/indexing.html#returning-a-view-versus-a-copy\n",
      "  df['word_img_path'] = df.word_img_path.apply(lambda x: '../' + x)\n"
     ]
    },
    {
     "data": {
      "text/html": [
       "<div>\n",
       "<style scoped>\n",
       "    .dataframe tbody tr th:only-of-type {\n",
       "        vertical-align: middle;\n",
       "    }\n",
       "\n",
       "    .dataframe tbody tr th {\n",
       "        vertical-align: top;\n",
       "    }\n",
       "\n",
       "    .dataframe thead th {\n",
       "        text-align: right;\n",
       "    }\n",
       "</style>\n",
       "<table border=\"1\" class=\"dataframe\">\n",
       "  <thead>\n",
       "    <tr style=\"text-align: right;\">\n",
       "      <th></th>\n",
       "      <th>transcription</th>\n",
       "      <th>word_img_path</th>\n",
       "      <th>word_id</th>\n",
       "    </tr>\n",
       "  </thead>\n",
       "  <tbody>\n",
       "    <tr>\n",
       "      <th>0</th>\n",
       "      <td>A</td>\n",
       "      <td>../../data/words/a01/a01-000u/a01-000u-00-00.png</td>\n",
       "      <td>a01-000u-00-00</td>\n",
       "    </tr>\n",
       "    <tr>\n",
       "      <th>1</th>\n",
       "      <td>MOVE</td>\n",
       "      <td>../../data/words/a01/a01-000u/a01-000u-00-01.png</td>\n",
       "      <td>a01-000u-00-01</td>\n",
       "    </tr>\n",
       "    <tr>\n",
       "      <th>2</th>\n",
       "      <td>to</td>\n",
       "      <td>../../data/words/a01/a01-000u/a01-000u-00-02.png</td>\n",
       "      <td>a01-000u-00-02</td>\n",
       "    </tr>\n",
       "  </tbody>\n",
       "</table>\n",
       "</div>"
      ],
      "text/plain": [
       "  transcription                                     word_img_path  \\\n",
       "0             A  ../../data/words/a01/a01-000u/a01-000u-00-00.png   \n",
       "1          MOVE  ../../data/words/a01/a01-000u/a01-000u-00-01.png   \n",
       "2            to  ../../data/words/a01/a01-000u/a01-000u-00-02.png   \n",
       "\n",
       "          word_id  \n",
       "0  a01-000u-00-00  \n",
       "1  a01-000u-00-01  \n",
       "2  a01-000u-00-02  "
      ]
     },
     "execution_count": 33,
     "metadata": {},
     "output_type": "execute_result"
    }
   ],
   "source": [
    "img_size = (32, 128)\n",
    "full_df = pd.read_pickle('../../pickle/df.pickle')\n",
    "print(\"Length: \", len(full_df))\n",
    "df = full_df[['transcription', 'word_img_path', 'word_id']]\n",
    "df['word_img_path'] = df.word_img_path.apply(lambda x: '../' + x)\n",
    "df.head(3)"
   ]
  },
  {
   "cell_type": "code",
   "execution_count": 34,
   "metadata": {},
   "outputs": [
    {
     "data": {
      "image/png": "[encoded data removed]",
      "text/plain": [
       "<Figure size 640x480 with 1 Axes>"
      ]
     },
     "metadata": {},
     "output_type": "display_data"
    }
   ],
   "source": [
    "plt.imshow(plt.imread(df.iloc[0].word_img_path), cmap='gray');"
   ]
  },
  {
   "cell_type": "code",
   "execution_count": 35,
   "metadata": {},
   "outputs": [
    {
     "name": "stderr",
     "output_type": "stream",
     "text": [
      "/var/folders/45/1rh915g935nggkhvq3fhbn180000gn/T/ipykernel_31834/2264966378.py:12: SettingWithCopyWarning: \n",
      "A value is trying to be set on a copy of a slice from a DataFrame.\n",
      "Try using .loc[row_indexer,col_indexer] = value instead\n",
      "\n",
      "See the caveats in the documentation: https://pandas.pydata.org/pandas-docs/stable/user_guide/indexing.html#returning-a-view-versus-a-copy\n",
      "  df['clean_trans'] = df.transcription.apply(lambda x: extract_allowed_chars_from_string(char_list, x))\n"
     ]
    },
    {
     "data": {
      "text/html": [
       "<div>\n",
       "<style scoped>\n",
       "    .dataframe tbody tr th:only-of-type {\n",
       "        vertical-align: middle;\n",
       "    }\n",
       "\n",
       "    .dataframe tbody tr th {\n",
       "        vertical-align: top;\n",
       "    }\n",
       "\n",
       "    .dataframe thead th {\n",
       "        text-align: right;\n",
       "    }\n",
       "</style>\n",
       "<table border=\"1\" class=\"dataframe\">\n",
       "  <thead>\n",
       "    <tr style=\"text-align: right;\">\n",
       "      <th></th>\n",
       "      <th>transcription</th>\n",
       "      <th>word_img_path</th>\n",
       "      <th>word_id</th>\n",
       "      <th>clean_trans</th>\n",
       "    </tr>\n",
       "  </thead>\n",
       "  <tbody>\n",
       "    <tr>\n",
       "      <th>0</th>\n",
       "      <td>A</td>\n",
       "      <td>../../data/words/a01/a01-000u/a01-000u-00-00.png</td>\n",
       "      <td>a01-000u-00-00</td>\n",
       "      <td>A</td>\n",
       "    </tr>\n",
       "    <tr>\n",
       "      <th>1</th>\n",
       "      <td>MOVE</td>\n",
       "      <td>../../data/words/a01/a01-000u/a01-000u-00-01.png</td>\n",
       "      <td>a01-000u-00-01</td>\n",
       "      <td>MOVE</td>\n",
       "    </tr>\n",
       "    <tr>\n",
       "      <th>2</th>\n",
       "      <td>to</td>\n",
       "      <td>../../data/words/a01/a01-000u/a01-000u-00-02.png</td>\n",
       "      <td>a01-000u-00-02</td>\n",
       "      <td>to</td>\n",
       "    </tr>\n",
       "    <tr>\n",
       "      <th>3</th>\n",
       "      <td>stop</td>\n",
       "      <td>../../data/words/a01/a01-000u/a01-000u-00-03.png</td>\n",
       "      <td>a01-000u-00-03</td>\n",
       "      <td>stop</td>\n",
       "    </tr>\n",
       "    <tr>\n",
       "      <th>4</th>\n",
       "      <td>Mr.</td>\n",
       "      <td>../../data/words/a01/a01-000u/a01-000u-00-04.png</td>\n",
       "      <td>a01-000u-00-04</td>\n",
       "      <td>Mr</td>\n",
       "    </tr>\n",
       "  </tbody>\n",
       "</table>\n",
       "</div>"
      ],
      "text/plain": [
       "  transcription                                     word_img_path  \\\n",
       "0             A  ../../data/words/a01/a01-000u/a01-000u-00-00.png   \n",
       "1          MOVE  ../../data/words/a01/a01-000u/a01-000u-00-01.png   \n",
       "2            to  ../../data/words/a01/a01-000u/a01-000u-00-02.png   \n",
       "3          stop  ../../data/words/a01/a01-000u/a01-000u-00-03.png   \n",
       "4           Mr.  ../../data/words/a01/a01-000u/a01-000u-00-04.png   \n",
       "\n",
       "          word_id clean_trans  \n",
       "0  a01-000u-00-00           A  \n",
       "1  a01-000u-00-01        MOVE  \n",
       "2  a01-000u-00-02          to  \n",
       "3  a01-000u-00-03        stop  \n",
       "4  a01-000u-00-04          Mr  "
      ]
     },
     "execution_count": 35,
     "metadata": {},
     "output_type": "execute_result"
    }
   ],
   "source": [
    "import string\n",
    "\n",
    "char_list = list(string.ascii_letters)+[' '] \n",
    "\n",
    "def extract_allowed_chars_from_string(char_list, str):\n",
    "    res = ''\n",
    "    for letter in str:\n",
    "        if letter in char_list:\n",
    "            res += letter\n",
    "    return res\n",
    "\n",
    "df['clean_trans'] = df.transcription.apply(lambda x: extract_allowed_chars_from_string(char_list, x))\n",
    "df.head()"
   ]
  },
  {
   "cell_type": "code",
   "execution_count": 36,
   "metadata": {},
   "outputs": [
    {
     "name": "stdout",
     "output_type": "stream",
     "text": [
      "Taille avant nettoyage: 96420\n",
      "Taille après nettoyage: 82267\n"
     ]
    }
   ],
   "source": [
    "print(\"Taille avant nettoyage:\", len(df))\n",
    "df = df[(df['clean_trans'] != \"\") & (df['clean_trans'] == df['transcription'])]\n",
    "# df = df[df['clean_trans'] != \"\"]\n",
    "print(\"Taille après nettoyage:\", len(df))"
   ]
  },
  {
   "cell_type": "code",
   "execution_count": 37,
   "metadata": {},
   "outputs": [
    {
     "data": {
      "text/plain": [
       "17"
      ]
     },
     "execution_count": 37,
     "metadata": {},
     "output_type": "execute_result"
    }
   ],
   "source": [
    "df.transcription.apply(lambda x: len(x)).max()"
   ]
  },
  {
   "cell_type": "markdown",
   "metadata": {},
   "source": [
    "## Pre-process visualization"
   ]
  },
  {
   "cell_type": "code",
   "execution_count": 38,
   "metadata": {},
   "outputs": [
    {
     "data": {
      "text/plain": [
       "[56300, 54801, 34589, 27579, 37526, 44552, 54473, 23296, 78152, 22867]"
      ]
     },
     "execution_count": 38,
     "metadata": {},
     "output_type": "execute_result"
    }
   ],
   "source": [
    "import random\n",
    "\n",
    "random_length = 10\n",
    "row_indexes = random.sample(range(0, len(df)), random_length)\n",
    "row_indexes"
   ]
  },
  {
   "cell_type": "code",
   "execution_count": 39,
   "metadata": {},
   "outputs": [
    {
     "name": "stdout",
     "output_type": "stream",
     "text": [
      "WARNING:tensorflow:5 out of the last 5 calls to <function preprocess_imgs at 0x7f9c22f19820> triggered tf.function retracing. Tracing is expensive and the excessive number of tracings could be due to (1) creating @tf.function repeatedly in a loop, (2) passing tensors with different shapes, (3) passing Python objects instead of tensors. For (1), please define your @tf.function outside of the loop. For (2), @tf.function has reduce_retracing=True option that can avoid unnecessary retracing. For (3), please refer to https://www.tensorflow.org/guide/function#controlling_retracing and https://www.tensorflow.org/api_docs/python/tf/function for  more details.\n",
      "WARNING:tensorflow:6 out of the last 6 calls to <function preprocess_imgs at 0x7f9c22f19820> triggered tf.function retracing. Tracing is expensive and the excessive number of tracings could be due to (1) creating @tf.function repeatedly in a loop, (2) passing tensors with different shapes, (3) passing Python objects instead of tensors. For (1), please define your @tf.function outside of the loop. For (2), @tf.function has reduce_retracing=True option that can avoid unnecessary retracing. For (3), please refer to https://www.tensorflow.org/guide/function#controlling_retracing and https://www.tensorflow.org/api_docs/python/tf/function for  more details.\n"
     ]
    },
    {
     "data": {
      "image/png": "[encoded data removed]",
      "text/plain": [
       "<Figure size 1000x2000 with 10 Axes>"
      ]
     },
     "metadata": {},
     "output_type": "display_data"
    }
   ],
   "source": [
    "i = 1\n",
    "reload(utils)\n",
    "\n",
    "@tf.function\n",
    "def preprocess_imgs(word_img_path):\n",
    "    return utils.preprocess(word_img_path, data_augmentation=True, scale=0.8, is_threshold=True, with_edge_detection=True)\n",
    "\n",
    "\n",
    "plt.figure(figsize=(10,20))\n",
    "for index, row in df.iloc[row_indexes].iterrows():\n",
    "    plt.subplot(random_length // 2, 2, i)\n",
    "    prepro_img = preprocess_imgs(row.word_img_path)\n",
    "    plt.imshow(prepro_img, cmap='gray')\n",
    "    i += 1\n",
    "plt.show()\n",
    "\n"
   ]
  },
  {
   "cell_type": "markdown",
   "metadata": {},
   "source": [
    "## Model Doc"
   ]
  },
  {
   "cell_type": "markdown",
   "metadata": {},
   "source": [
    "### CNN Part\n",
    "\n",
    "\n",
    "The idea here is to cut our image into several features (could be interpreted as smaller areas of the picture).\n",
    "\n",
    "<img src=\"imgs/cnn_result.png\" />"
   ]
  },
  {
   "cell_type": "markdown",
   "metadata": {},
   "source": [
    "To do so, we ill use a succession of \n",
    "- **Convolution** to extract\n",
    "- **Batch Normalization** to prevent our model from overfitting (equivalent of Dropout) "
   ]
  },
  {
   "cell_type": "markdown",
   "metadata": {},
   "source": [
    "#### Batch normalization\n",
    "\n",
    "TLDR: Solve **internal covariate shift** and simplify \n",
    "\n",
    "**Normalization** is a procedure to change the value of the numeric variable in the dataset to a typical scale, without misshaping contrasts in the range of value.\n",
    "\n",
    "**Batch normalization** is a technique for training very deep neural networks that normalizes the contributions to a layer for every mini-batch.\n",
    "\n",
    "In neural networks, the output of the first layer feeds into the second layer, the output of the second layer feeds into the third, and so on. When the parameters of a layer change, so does **the distribution of inputs to subsequent layers**.\n",
    "\n",
    "> We define Internal Covariate Shift as the change in the distribution of network activations due to the change in network parameters during training.\n",
    "\n",
    "These shifts in input distributions can be problematic for neural networks, especially deep neural networks that could have a large number of layers.\n",
    "\n",
    "Batch normalization is a method intended to mitigate internal covariate shift for neural networks.\n",
    "\n",
    "<img src=\"imgs/batch_normalization.jpeg\" />\n",
    "\n",
    "This has the impact of settling the learning process and drastically decreasing the number of training epochs required to train deep neural networks.\n",
    "\n",
    "Sources: \n",
    "- https://machinelearning.wtf/terms/internal-covariate-shift/\n",
    "- https://towardsdatascience.com/batch-normalisation-in-deep-neural-network-ce65dd9e8dbf#:~:text=Batch%20normalization%20solves%20a%20major,you%20can%20often%20remove%20dropout.\n",
    "- https://towardsdatascience.com/understanding-dataset-shift-f2a5a262a766"
   ]
  },
  {
   "cell_type": "markdown",
   "metadata": {},
   "source": [
    "#### Conv\n",
    "\n",
    "<img src=\"imgs/conv_padding.gif\" />\n",
    "\n",
    "- Padding '**valid**' is the first figure. The filter window stays inside the image. When padding == \"VALID\", there can be a loss of information. Generally, elements on the right and the bottom of the image tend to be ignored. How many elements are ignored depends on the size of the kernel and the stride.\n",
    "\n",
    "- Padding '**same**' is the third figure. The output is the same size.\n"
   ]
  },
  {
   "cell_type": "markdown",
   "metadata": {},
   "source": [
    "#### Pooling/Flattening\n",
    "\n",
    "**Pooling** is the process of merging. So it’s basically for the purpose of **reducing the size of the data**.\n",
    "\n",
    "<img src=\"imgs/pooling_flattening.png\" />\n",
    "\n",
    "**Flattening** is converting the data into a 1-dimensional array for inputting it to the next layer. We flatten the output of the convolutional layers to create a single long feature vector.\n",
    "\n",
    "Sources: \n",
    "\n",
    "- https://towardsdatascience.com/the-most-intuitive-and-easiest-guide-for-convolutional-neural-network-3607be47480"
   ]
  },
  {
   "cell_type": "markdown",
   "metadata": {},
   "source": [
    "## Model build"
   ]
  },
  {
   "cell_type": "code",
   "execution_count": 40,
   "metadata": {},
   "outputs": [],
   "source": [
    "import tensorflow as tf\n",
    "from tensorflow.keras.layers import Conv2D, BatchNormalization, MaxPooling2D, LeakyReLU, Dropout\n",
    "\n",
    "\n",
    "hidden_layer_count = 256\n",
    "\n",
    "def build_sequential_model():\n",
    "    model = tf.keras.Sequential()\n",
    "    # Layer 1\n",
    "    # (None, 32, 128, 64)\n",
    "    model.add(Conv2D(\n",
    "            filters=32,\n",
    "            kernel_size=(5,5),\n",
    "            padding='SAME',\n",
    "            input_shape = (img_size[0], img_size[1], 1)\n",
    "        )\n",
    "    )\n",
    "    model.add(BatchNormalization())\n",
    "    model.add(LeakyReLU())\n",
    "    model.add(MaxPooling2D(pool_size=(2,2), strides=(2,2)))\n",
    "\n",
    "    # Layer 2\n",
    "    # (None, 16, 64, 64)\n",
    "    model.add(Conv2D(filters=64, kernel_size=(5,5), padding='SAME'))\n",
    "    model.add(BatchNormalization())\n",
    "    model.add(LeakyReLU())\n",
    "    model.add(MaxPooling2D(pool_size=(2,2), strides=(2,2)))\n",
    "\n",
    "    # Layer 3\n",
    "    # (None, 8, 32, 128 -> nb conv filters)\n",
    "    model.add(Conv2D(filters=128, kernel_size=(3,3), padding='SAME'))\n",
    "    model.add(BatchNormalization())\n",
    "    model.add(LeakyReLU())\n",
    "    model.add(MaxPooling2D(pool_size=(2,1), strides=(2,1)))\n",
    "\n",
    "\n",
    "    # Layer 4\n",
    "    # (None, 4, 32, 128)\n",
    "    model.add(Conv2D(filters=128, kernel_size=(3,3), padding='SAME'))\n",
    "    model.add(BatchNormalization())\n",
    "    model.add(LeakyReLU())\n",
    "    model.add(MaxPooling2D(pool_size=(2,1), strides=(2,1)))\n",
    "\n",
    "    # Layer 5\n",
    "    # (None, 2, 32, 128)\n",
    "    model.add(Conv2D(filters=256, kernel_size=(3,3), padding='SAME'))\n",
    "    model.add(BatchNormalization())\n",
    "    model.add(LeakyReLU())\n",
    "    model.add(MaxPooling2D(pool_size=(2,1), strides=(2,1)))\n",
    "    # (None, 1, 32, 256)\n",
    "    return model\n",
    "    \n",
    "# model = build_sequential_model()\n",
    "# model.summary()"
   ]
  },
  {
   "cell_type": "markdown",
   "metadata": {},
   "source": [
    "At this point, we have cut our entry image into X smaller parts. Those parts can be read as a time serie.\n",
    "\n",
    "Indeed, there is a strong connection between one part and the one coming after by construction (a word is a succession of letters).\n",
    "\n",
    "We can therefore make use of a **RNN** now in our model.\n",
    "\n",
    "NB: a part does not correspond exactly to a letter, it is more the idea behind it. It could be interesting to see the importance of the size of each part (number of cuts).\n"
   ]
  },
  {
   "cell_type": "markdown",
   "metadata": {},
   "source": [
    "### RNN part"
   ]
  },
  {
   "cell_type": "code",
   "execution_count": 41,
   "metadata": {},
   "outputs": [
    {
     "name": "stdout",
     "output_type": "stream",
     "text": [
      "Model: \"sequential\"\n",
      "_________________________________________________________________\n",
      " Layer (type)                Output Shape              Param #   \n",
      "=================================================================\n",
      " conv2d (Conv2D)             (None, 32, 128, 32)       832       \n",
      "                                                                 \n",
      " batch_normalization (BatchN  (None, 32, 128, 32)      128       \n",
      " ormalization)                                                   \n",
      "                                                                 \n",
      " leaky_re_lu (LeakyReLU)     (None, 32, 128, 32)       0         \n",
      "                                                                 \n",
      " max_pooling2d (MaxPooling2D  (None, 16, 64, 32)       0         \n",
      " )                                                               \n",
      "                                                                 \n",
      " conv2d_1 (Conv2D)           (None, 16, 64, 64)        51264     \n",
      "                                                                 \n",
      " batch_normalization_1 (Batc  (None, 16, 64, 64)       256       \n",
      " hNormalization)                                                 \n",
      "                                                                 \n",
      " leaky_re_lu_1 (LeakyReLU)   (None, 16, 64, 64)        0         \n",
      "                                                                 \n",
      " max_pooling2d_1 (MaxPooling  (None, 8, 32, 64)        0         \n",
      " 2D)                                                             \n",
      "                                                                 \n",
      " conv2d_2 (Conv2D)           (None, 8, 32, 128)        73856     \n",
      "                                                                 \n",
      " batch_normalization_2 (Batc  (None, 8, 32, 128)       512       \n",
      " hNormalization)                                                 \n",
      "                                                                 \n",
      " leaky_re_lu_2 (LeakyReLU)   (None, 8, 32, 128)        0         \n",
      "                                                                 \n",
      " max_pooling2d_2 (MaxPooling  (None, 4, 32, 128)       0         \n",
      " 2D)                                                             \n",
      "                                                                 \n",
      " conv2d_3 (Conv2D)           (None, 4, 32, 128)        147584    \n",
      "                                                                 \n",
      " batch_normalization_3 (Batc  (None, 4, 32, 128)       512       \n",
      " hNormalization)                                                 \n",
      "                                                                 \n",
      " leaky_re_lu_3 (LeakyReLU)   (None, 4, 32, 128)        0         \n",
      "                                                                 \n",
      " max_pooling2d_3 (MaxPooling  (None, 2, 32, 128)       0         \n",
      " 2D)                                                             \n",
      "                                                                 \n",
      " conv2d_4 (Conv2D)           (None, 2, 32, 256)        295168    \n",
      "                                                                 \n",
      " batch_normalization_4 (Batc  (None, 2, 32, 256)       1024      \n",
      " hNormalization)                                                 \n",
      "                                                                 \n",
      " leaky_re_lu_4 (LeakyReLU)   (None, 2, 32, 256)        0         \n",
      "                                                                 \n",
      " max_pooling2d_4 (MaxPooling  (None, 1, 32, 256)       0         \n",
      " 2D)                                                             \n",
      "                                                                 \n",
      " lambda (Lambda)             (None, 32, 256)           0         \n",
      "                                                                 \n",
      " bidirectional (Bidirectiona  (None, 32, 512)          789504    \n",
      " l)                                                              \n",
      "                                                                 \n",
      " dense (Dense)               (None, 32, 54)            27702     \n",
      "                                                                 \n",
      "=================================================================\n",
      "Total params: 1,388,342\n",
      "Trainable params: 1,387,126\n",
      "Non-trainable params: 1,216\n",
      "_________________________________________________________________\n"
     ]
    }
   ],
   "source": [
    "from tensorflow.keras.layers import GRU, Bidirectional, Dense, Lambda\n",
    "\n",
    "model = build_sequential_model()\n",
    "model.add(Lambda(lambda x: tf.squeeze(x, axis=1)))\n",
    "# (None, 32, 256)\n",
    "# Bidirectionnal RNN\n",
    "model.add(Bidirectional(GRU(hidden_layer_count, return_sequences=True)))\n",
    "model.add(Dense(len(char_list) + 1))\n",
    "model.summary()"
   ]
  },
  {
   "cell_type": "markdown",
   "metadata": {},
   "source": [
    "```\n",
    "NotImplementedError: Cannot convert a symbolic Tensor (bidirectional_3/forward_gru_3/strided_slice:0) to a numpy array.\n",
    "```\n",
    "\n"
   ]
  },
  {
   "cell_type": "markdown",
   "metadata": {},
   "source": [
    "TODO LSTM could be a good idea ? "
   ]
  },
  {
   "cell_type": "markdown",
   "metadata": {},
   "source": [
    "https://towardsdatascience.com/intuitively-understanding-connectionist-temporal-classification-3797e43a86c\n",
    "https://distill.pub/2017/ctc/"
   ]
  },
  {
   "cell_type": "markdown",
   "metadata": {},
   "source": [
    "## Connectionist Temporal Classification"
   ]
  },
  {
   "cell_type": "markdown",
   "metadata": {},
   "source": [
    "### Encoder/Decoder"
   ]
  },
  {
   "cell_type": "code",
   "execution_count": 42,
   "metadata": {},
   "outputs": [
    {
     "name": "stdout",
     "output_type": "stream",
     "text": [
      "(74040,)\n",
      "(8227,)\n"
     ]
    }
   ],
   "source": [
    "from sklearn.model_selection import train_test_split\n",
    "\n",
    "\n",
    "X_train, X_test, y_train, y_test = train_test_split(df.word_img_path, df.clean_trans.values, test_size=0.1, random_state=42)\n",
    "\n",
    "print(y_train.shape)\n",
    "print(y_test.shape)\n",
    "dataset_train = tf.data.Dataset.from_tensor_slices((X_train, y_train))\n",
    "dataset_test = tf.data.Dataset.from_tensor_slices((X_test, y_test))"
   ]
  },
  {
   "cell_type": "code",
   "execution_count": 43,
   "metadata": {},
   "outputs": [],
   "source": [
    "@tf.function\n",
    "def preprocess_entries(x, y):\n",
    "    return (preprocess_imgs(x), y)\n",
    "    # return (utils.preprocess(x, data_augmentation=False, scale=0.8, is_threshold=True, with_edge_detection=True), y)\n",
    "\n",
    "@tf.function\n",
    "def preprocess_batch(x_b, y_b):\n",
    "    return (x_b, utils.encode_labels(y_b, char_list))\n",
    "\n",
    "dataset_train = dataset_train.map(preprocess_entries).batch(64).map(preprocess_batch)\n",
    "dataset_test = dataset_test.map(preprocess_entries).batch(64).map(preprocess_batch)"
   ]
  },
  {
   "cell_type": "code",
   "execution_count": 44,
   "metadata": {},
   "outputs": [],
   "source": [
    "class CTCLoss(tf.keras.losses.Loss):\n",
    "    def __init__(self, logits_time_major=False, reduction=tf.keras.losses.Reduction.SUM, name='ctc'):\n",
    "        super().__init__(reduction=reduction, name=name)\n",
    "        self.logits_time_major = logits_time_major\n",
    "\n",
    "    def call(self, y_true, y_pred):\n",
    "        y_true = tf.cast(y_true, tf.int32)\n",
    "        logit_length = tf.fill([tf.shape(y_pred)[0]], tf.shape(y_pred)[1])\n",
    "        label_length = tf.fill([tf.shape(y_true)[0]], tf.shape(y_true)[1])\n",
    "        loss = tf.nn.ctc_loss(\n",
    "            labels=y_true,\n",
    "            logits=y_pred,\n",
    "            label_length=label_length,\n",
    "            logit_length=logit_length,\n",
    "            logits_time_major=self.logits_time_major,\n",
    "            blank_index=-1)\n",
    "        return tf.reduce_mean(loss)"
   ]
  },
  {
   "cell_type": "code",
   "execution_count": 45,
   "metadata": {},
   "outputs": [
    {
     "name": "stdout",
     "output_type": "stream",
     "text": [
      "Epoch 1/20\n",
      "1157/1157 [==============================] - ETA: 0s - loss: 11.3812"
     ]
    },
    {
     "name": "stderr",
     "output_type": "stream",
     "text": [
      "WARNING:absl:Found untraced functions such as _jit_compiled_convolution_op, _jit_compiled_convolution_op, _jit_compiled_convolution_op, _jit_compiled_convolution_op, _jit_compiled_convolution_op while saving (showing 5 of 9). These functions will not be directly callable after loading.\n"
     ]
    },
    {
     "name": "stdout",
     "output_type": "stream",
     "text": [
      "INFO:tensorflow:Assets written to: tmp_model/assets\n"
     ]
    },
    {
     "name": "stderr",
     "output_type": "stream",
     "text": [
      "INFO:tensorflow:Assets written to: tmp_model/assets\n"
     ]
    },
    {
     "name": "stdout",
     "output_type": "stream",
     "text": [
      "1157/1157 [==============================] - 689s 592ms/step - loss: 11.3812 - val_loss: 7.2311 - lr: 1.0000e-04\n",
      "Epoch 2/20\n",
      "1157/1157 [==============================] - ETA: 0s - loss: 5.8866"
     ]
    },
    {
     "name": "stderr",
     "output_type": "stream",
     "text": [
      "WARNING:absl:Found untraced functions such as _jit_compiled_convolution_op, _jit_compiled_convolution_op, _jit_compiled_convolution_op, _jit_compiled_convolution_op, _jit_compiled_convolution_op while saving (showing 5 of 9). These functions will not be directly callable after loading.\n"
     ]
    },
    {
     "name": "stdout",
     "output_type": "stream",
     "text": [
      "INFO:tensorflow:Assets written to: tmp_model/assets\n"
     ]
    },
    {
     "name": "stderr",
     "output_type": "stream",
     "text": [
      "INFO:tensorflow:Assets written to: tmp_model/assets\n"
     ]
    },
    {
     "name": "stdout",
     "output_type": "stream",
     "text": [
      "1157/1157 [==============================] - 593s 513ms/step - loss: 5.8866 - val_loss: 5.0922 - lr: 1.0000e-04\n",
      "Epoch 3/20\n",
      "1157/1157 [==============================] - ETA: 0s - loss: 4.4355"
     ]
    },
    {
     "name": "stderr",
     "output_type": "stream",
     "text": [
      "WARNING:absl:Found untraced functions such as _jit_compiled_convolution_op, _jit_compiled_convolution_op, _jit_compiled_convolution_op, _jit_compiled_convolution_op, _jit_compiled_convolution_op while saving (showing 5 of 9). These functions will not be directly callable after loading.\n"
     ]
    },
    {
     "name": "stdout",
     "output_type": "stream",
     "text": [
      "INFO:tensorflow:Assets written to: tmp_model/assets\n"
     ]
    },
    {
     "name": "stderr",
     "output_type": "stream",
     "text": [
      "INFO:tensorflow:Assets written to: tmp_model/assets\n"
     ]
    },
    {
     "name": "stdout",
     "output_type": "stream",
     "text": [
      "1157/1157 [==============================] - 584s 505ms/step - loss: 4.4355 - val_loss: 4.1278 - lr: 1.0000e-04\n",
      "Epoch 4/20\n",
      "1157/1157 [==============================] - ETA: 0s - loss: 3.6661"
     ]
    },
    {
     "name": "stderr",
     "output_type": "stream",
     "text": [
      "WARNING:absl:Found untraced functions such as _jit_compiled_convolution_op, _jit_compiled_convolution_op, _jit_compiled_convolution_op, _jit_compiled_convolution_op, _jit_compiled_convolution_op while saving (showing 5 of 9). These functions will not be directly callable after loading.\n"
     ]
    },
    {
     "name": "stdout",
     "output_type": "stream",
     "text": [
      "INFO:tensorflow:Assets written to: tmp_model/assets\n"
     ]
    },
    {
     "name": "stderr",
     "output_type": "stream",
     "text": [
      "INFO:tensorflow:Assets written to: tmp_model/assets\n"
     ]
    },
    {
     "name": "stdout",
     "output_type": "stream",
     "text": [
      "1157/1157 [==============================] - 553s 478ms/step - loss: 3.6661 - val_loss: 3.6363 - lr: 1.0000e-04\n",
      "Epoch 5/20\n",
      "1157/1157 [==============================] - ETA: 0s - loss: 3.1815"
     ]
    },
    {
     "name": "stderr",
     "output_type": "stream",
     "text": [
      "WARNING:absl:Found untraced functions such as _jit_compiled_convolution_op, _jit_compiled_convolution_op, _jit_compiled_convolution_op, _jit_compiled_convolution_op, _jit_compiled_convolution_op while saving (showing 5 of 9). These functions will not be directly callable after loading.\n"
     ]
    },
    {
     "name": "stdout",
     "output_type": "stream",
     "text": [
      "INFO:tensorflow:Assets written to: tmp_model/assets\n"
     ]
    },
    {
     "name": "stderr",
     "output_type": "stream",
     "text": [
      "INFO:tensorflow:Assets written to: tmp_model/assets\n"
     ]
    },
    {
     "name": "stdout",
     "output_type": "stream",
     "text": [
      "1157/1157 [==============================] - 541s 468ms/step - loss: 3.1815 - val_loss: 3.5119 - lr: 1.0000e-04\n",
      "Epoch 6/20\n",
      "1157/1157 [==============================] - ETA: 0s - loss: 2.8448"
     ]
    },
    {
     "name": "stderr",
     "output_type": "stream",
     "text": [
      "WARNING:absl:Found untraced functions such as _jit_compiled_convolution_op, _jit_compiled_convolution_op, _jit_compiled_convolution_op, _jit_compiled_convolution_op, _jit_compiled_convolution_op while saving (showing 5 of 9). These functions will not be directly callable after loading.\n"
     ]
    },
    {
     "name": "stdout",
     "output_type": "stream",
     "text": [
      "INFO:tensorflow:Assets written to: tmp_model/assets\n"
     ]
    },
    {
     "name": "stderr",
     "output_type": "stream",
     "text": [
      "INFO:tensorflow:Assets written to: tmp_model/assets\n"
     ]
    },
    {
     "name": "stdout",
     "output_type": "stream",
     "text": [
      "1157/1157 [==============================] - 568s 491ms/step - loss: 2.8448 - val_loss: 3.1341 - lr: 1.0000e-04\n",
      "Epoch 7/20\n",
      "1157/1157 [==============================] - ETA: 0s - loss: 2.5673"
     ]
    },
    {
     "name": "stderr",
     "output_type": "stream",
     "text": [
      "WARNING:absl:Found untraced functions such as _jit_compiled_convolution_op, _jit_compiled_convolution_op, _jit_compiled_convolution_op, _jit_compiled_convolution_op, _jit_compiled_convolution_op while saving (showing 5 of 9). These functions will not be directly callable after loading.\n"
     ]
    },
    {
     "name": "stdout",
     "output_type": "stream",
     "text": [
      "INFO:tensorflow:Assets written to: tmp_model/assets\n"
     ]
    },
    {
     "name": "stderr",
     "output_type": "stream",
     "text": [
      "INFO:tensorflow:Assets written to: tmp_model/assets\n"
     ]
    },
    {
     "name": "stdout",
     "output_type": "stream",
     "text": [
      "1157/1157 [==============================] - 576s 498ms/step - loss: 2.5673 - val_loss: 2.7710 - lr: 1.0000e-04\n",
      "Epoch 8/20\n",
      "1157/1157 [==============================] - ETA: 0s - loss: 2.3793"
     ]
    },
    {
     "name": "stderr",
     "output_type": "stream",
     "text": [
      "WARNING:absl:Found untraced functions such as _jit_compiled_convolution_op, _jit_compiled_convolution_op, _jit_compiled_convolution_op, _jit_compiled_convolution_op, _jit_compiled_convolution_op while saving (showing 5 of 9). These functions will not be directly callable after loading.\n"
     ]
    },
    {
     "name": "stdout",
     "output_type": "stream",
     "text": [
      "INFO:tensorflow:Assets written to: tmp_model/assets\n"
     ]
    },
    {
     "name": "stderr",
     "output_type": "stream",
     "text": [
      "INFO:tensorflow:Assets written to: tmp_model/assets\n"
     ]
    },
    {
     "name": "stdout",
     "output_type": "stream",
     "text": [
      "1157/1157 [==============================] - 580s 501ms/step - loss: 2.3793 - val_loss: 2.5503 - lr: 1.0000e-04\n",
      "Epoch 9/20\n",
      "1157/1157 [==============================] - ETA: 0s - loss: 2.2124"
     ]
    },
    {
     "name": "stderr",
     "output_type": "stream",
     "text": [
      "WARNING:absl:Found untraced functions such as _jit_compiled_convolution_op, _jit_compiled_convolution_op, _jit_compiled_convolution_op, _jit_compiled_convolution_op, _jit_compiled_convolution_op while saving (showing 5 of 9). These functions will not be directly callable after loading.\n"
     ]
    },
    {
     "name": "stdout",
     "output_type": "stream",
     "text": [
      "INFO:tensorflow:Assets written to: tmp_model/assets\n"
     ]
    },
    {
     "name": "stderr",
     "output_type": "stream",
     "text": [
      "INFO:tensorflow:Assets written to: tmp_model/assets\n"
     ]
    },
    {
     "name": "stdout",
     "output_type": "stream",
     "text": [
      "1157/1157 [==============================] - 573s 495ms/step - loss: 2.2124 - val_loss: 2.5249 - lr: 1.0000e-04\n",
      "Epoch 10/20\n",
      "1157/1157 [==============================] - 568s 490ms/step - loss: 2.0706 - val_loss: 2.7154 - lr: 1.0000e-04\n",
      "Epoch 11/20\n",
      "1157/1157 [==============================] - ETA: 0s - loss: 1.9588"
     ]
    },
    {
     "name": "stderr",
     "output_type": "stream",
     "text": [
      "WARNING:absl:Found untraced functions such as _jit_compiled_convolution_op, _jit_compiled_convolution_op, _jit_compiled_convolution_op, _jit_compiled_convolution_op, _jit_compiled_convolution_op while saving (showing 5 of 9). These functions will not be directly callable after loading.\n"
     ]
    },
    {
     "name": "stdout",
     "output_type": "stream",
     "text": [
      "INFO:tensorflow:Assets written to: tmp_model/assets\n"
     ]
    },
    {
     "name": "stderr",
     "output_type": "stream",
     "text": [
      "INFO:tensorflow:Assets written to: tmp_model/assets\n"
     ]
    },
    {
     "name": "stdout",
     "output_type": "stream",
     "text": [
      "1157/1157 [==============================] - 574s 496ms/step - loss: 1.9588 - val_loss: 2.2815 - lr: 1.0000e-04\n",
      "Epoch 12/20\n",
      "1157/1157 [==============================] - 569s 492ms/step - loss: 1.8650 - val_loss: 2.6475 - lr: 1.0000e-04\n",
      "Epoch 13/20\n",
      "1157/1157 [==============================] - 748s 647ms/step - loss: 1.7618 - val_loss: 2.8312 - lr: 1.0000e-04\n"
     ]
    }
   ],
   "source": [
    "early_stop_callback = tf.keras.callbacks.EarlyStopping(\n",
    "    monitor='val_loss',\n",
    "    min_delta=0,\n",
    "    patience=2,\n",
    ")\n",
    "checkpoint_callback = tf.keras.callbacks.ModelCheckpoint(\n",
    "    filepath='tmp_model', \n",
    "    monitor='val_loss',\n",
    "    save_best_only=True,\n",
    "    save_weights_only=False,\n",
    "    mode='min',\n",
    "    save_freq='epoch'\n",
    ")\n",
    "\n",
    "optimizer = tf.keras.optimizers.Adam(learning_rate=0.0001)\n",
    "model.compile(loss=CTCLoss(), optimizer=optimizer)\n",
    "history = model.fit(\n",
    "    dataset_train,\n",
    "    validation_data=dataset_test,\n",
    "    callbacks=[\n",
    "        early_stop_callback,\n",
    "        checkpoint_callback,\n",
    "    ],\n",
    "    epochs=20\n",
    ")"
   ]
  },
  {
   "cell_type": "code",
   "execution_count": 46,
   "metadata": {},
   "outputs": [],
   "source": [
    "history_pickle_filename = 'history_20.pickle'\n",
    "# history_pickle_filename = 'history.pickle'\n",
    "\n",
    "with open(history_pickle_filename, 'wb') as file_pi:\n",
    "    pickle.dump(history.history, file_pi)\n",
    "    \n",
    "with open(history_pickle_filename, \"rb\") as file_pi:\n",
    "    history = pickle.load(file_pi)"
   ]
  },
  {
   "cell_type": "code",
   "execution_count": 47,
   "metadata": {},
   "outputs": [
    {
     "data": {
      "image/png": "[encoded data removed]",
      "text/plain": [
       "<Figure size 1200x400 with 1 Axes>"
      ]
     },
     "metadata": {},
     "output_type": "display_data"
    }
   ],
   "source": [
    "plt.figure(figsize=(12,4))\n",
    "plt.plot(history['loss'])\n",
    "plt.plot(history['val_loss'])\n",
    "plt.title('Model loss by epoch')\n",
    "plt.ylabel('loss')\n",
    "plt.xlabel('epoch')\n",
    "plt.legend(['train', 'test'], loc='right');"
   ]
  },
  {
   "cell_type": "code",
   "execution_count": 48,
   "metadata": {},
   "outputs": [
    {
     "name": "stdout",
     "output_type": "stream",
     "text": [
      "129/129 [==============================] - 20s 149ms/step\n"
     ]
    },
    {
     "data": {
      "text/plain": [
       "[('I', 'I'),\n",
       " ('his', 'his'),\n",
       " ('Retwen', 'between'),\n",
       " ('become', 'become'),\n",
       " ('conventional', 'conventional'),\n",
       " ('ste', 'she'),\n",
       " ('estrllishieng', 'establishing'),\n",
       " ('new', 'new'),\n",
       " ('pressue', 'pressure'),\n",
       " ('Nater', 'Nato')]"
      ]
     },
     "execution_count": 48,
     "metadata": {},
     "output_type": "execute_result"
    }
   ],
   "source": [
    "y_pred = model.predict(dataset_test)\n",
    "predicted_transcriptions = utils.greedy_decoder(y_pred, char_list)\n",
    "list(zip(predicted_transcriptions, y_test[:10]))"
   ]
  },
  {
   "cell_type": "markdown",
   "metadata": {},
   "source": [
    "TODO\n",
    "- Add english language corrector as an option\n",
    "- See with different slicing (not 32)\n"
   ]
  },
  {
   "cell_type": "code",
   "execution_count": 49,
   "metadata": {},
   "outputs": [
    {
     "name": "stderr",
     "output_type": "stream",
     "text": [
      "WARNING:absl:Found untraced functions such as _jit_compiled_convolution_op, _jit_compiled_convolution_op, _jit_compiled_convolution_op, _jit_compiled_convolution_op, _jit_compiled_convolution_op while saving (showing 5 of 9). These functions will not be directly callable after loading.\n"
     ]
    },
    {
     "name": "stdout",
     "output_type": "stream",
     "text": [
      "INFO:tensorflow:Assets written to: ctc_model_fit_20/assets\n"
     ]
    },
    {
     "name": "stderr",
     "output_type": "stream",
     "text": [
      "INFO:tensorflow:Assets written to: ctc_model_fit_20/assets\n"
     ]
    }
   ],
   "source": [
    "model.save('ctc_model_fit_20')\n",
    "# model.save('ctc_model_fit_10')"
   ]
  },
  {
   "cell_type": "code",
   "execution_count": 50,
   "metadata": {},
   "outputs": [],
   "source": [
    "model = tf.keras.models.load_model(\"ctc_model_fit_20\", custom_objects={\"CTCLoss\": CTCLoss})\n",
    "# model = tf.keras.models.load_model(\"ctc_model_fit_10\", custom_objects={\"CTCLoss\": CTCLoss})"
   ]
  },
  {
   "cell_type": "code",
   "execution_count": 51,
   "metadata": {},
   "outputs": [],
   "source": [
    "eval_data = list(zip(y_test, predicted_transcriptions))"
   ]
  },
  {
   "cell_type": "code",
   "execution_count": 52,
   "metadata": {},
   "outputs": [
    {
     "data": {
      "text/html": [
       "<div>\n",
       "<style scoped>\n",
       "    .dataframe tbody tr th:only-of-type {\n",
       "        vertical-align: middle;\n",
       "    }\n",
       "\n",
       "    .dataframe tbody tr th {\n",
       "        vertical-align: top;\n",
       "    }\n",
       "\n",
       "    .dataframe thead th {\n",
       "        text-align: right;\n",
       "    }\n",
       "</style>\n",
       "<table border=\"1\" class=\"dataframe\">\n",
       "  <thead>\n",
       "    <tr style=\"text-align: right;\">\n",
       "      <th></th>\n",
       "      <th>real</th>\n",
       "      <th>predicted</th>\n",
       "    </tr>\n",
       "  </thead>\n",
       "  <tbody>\n",
       "    <tr>\n",
       "      <th>0</th>\n",
       "      <td>I</td>\n",
       "      <td>I</td>\n",
       "    </tr>\n",
       "    <tr>\n",
       "      <th>1</th>\n",
       "      <td>his</td>\n",
       "      <td>his</td>\n",
       "    </tr>\n",
       "    <tr>\n",
       "      <th>2</th>\n",
       "      <td>between</td>\n",
       "      <td>Retwen</td>\n",
       "    </tr>\n",
       "    <tr>\n",
       "      <th>3</th>\n",
       "      <td>become</td>\n",
       "      <td>become</td>\n",
       "    </tr>\n",
       "    <tr>\n",
       "      <th>4</th>\n",
       "      <td>conventional</td>\n",
       "      <td>conventional</td>\n",
       "    </tr>\n",
       "  </tbody>\n",
       "</table>\n",
       "</div>"
      ],
      "text/plain": [
       "           real     predicted\n",
       "0             I             I\n",
       "1           his           his\n",
       "2       between        Retwen\n",
       "3        become        become\n",
       "4  conventional  conventional"
      ]
     },
     "execution_count": 52,
     "metadata": {},
     "output_type": "execute_result"
    }
   ],
   "source": [
    "eval_df = pd.DataFrame(data=np.array(eval_data), columns=['real', 'predicted'])\n",
    "eval_df.head()"
   ]
  },
  {
   "cell_type": "code",
   "execution_count": 53,
   "metadata": {},
   "outputs": [
    {
     "data": {
      "text/plain": [
       "8227"
      ]
     },
     "execution_count": 53,
     "metadata": {},
     "output_type": "execute_result"
    }
   ],
   "source": [
    "len(eval_df)"
   ]
  },
  {
   "cell_type": "markdown",
   "metadata": {},
   "source": [
    "# Evaluation"
   ]
  },
  {
   "cell_type": "markdown",
   "metadata": {},
   "source": [
    "https://towardsdatascience.com/evaluating-ocr-output-quality-with-character-error-rate-cer-and-word-error-rate-wer-853175297510"
   ]
  },
  {
   "cell_type": "markdown",
   "metadata": {},
   "source": [
    "## Character Error Rate (CER)"
   ]
  },
  {
   "cell_type": "code",
   "execution_count": 54,
   "metadata": {},
   "outputs": [
    {
     "name": "stdout",
     "output_type": "stream",
     "text": [
      "2\n",
      "4\n"
     ]
    }
   ],
   "source": [
    "print(utils.levenshtein_distance(\"Toto\", \"Tut\"))\n",
    "print(utils.levenshtein_distance(\"Bonjour\", \"Bonnrouuj\"))"
   ]
  },
  {
   "cell_type": "code",
   "execution_count": 55,
   "metadata": {},
   "outputs": [],
   "source": [
    "eval_df['cer'] = [utils.evaluate_character_level_accuracy(row.real, row.predicted) for index, row in eval_df.iterrows()]"
   ]
  },
  {
   "cell_type": "code",
   "execution_count": 56,
   "metadata": {},
   "outputs": [
    {
     "data": {
      "text/html": [
       "<div>\n",
       "<style scoped>\n",
       "    .dataframe tbody tr th:only-of-type {\n",
       "        vertical-align: middle;\n",
       "    }\n",
       "\n",
       "    .dataframe tbody tr th {\n",
       "        vertical-align: top;\n",
       "    }\n",
       "\n",
       "    .dataframe thead th {\n",
       "        text-align: right;\n",
       "    }\n",
       "</style>\n",
       "<table border=\"1\" class=\"dataframe\">\n",
       "  <thead>\n",
       "    <tr style=\"text-align: right;\">\n",
       "      <th></th>\n",
       "      <th>real</th>\n",
       "      <th>predicted</th>\n",
       "      <th>cer</th>\n",
       "    </tr>\n",
       "  </thead>\n",
       "  <tbody>\n",
       "    <tr>\n",
       "      <th>0</th>\n",
       "      <td>I</td>\n",
       "      <td>I</td>\n",
       "      <td>1.000000</td>\n",
       "    </tr>\n",
       "    <tr>\n",
       "      <th>1</th>\n",
       "      <td>his</td>\n",
       "      <td>his</td>\n",
       "      <td>1.000000</td>\n",
       "    </tr>\n",
       "    <tr>\n",
       "      <th>2</th>\n",
       "      <td>between</td>\n",
       "      <td>Retwen</td>\n",
       "      <td>0.714286</td>\n",
       "    </tr>\n",
       "    <tr>\n",
       "      <th>3</th>\n",
       "      <td>become</td>\n",
       "      <td>become</td>\n",
       "      <td>1.000000</td>\n",
       "    </tr>\n",
       "    <tr>\n",
       "      <th>4</th>\n",
       "      <td>conventional</td>\n",
       "      <td>conventional</td>\n",
       "      <td>1.000000</td>\n",
       "    </tr>\n",
       "  </tbody>\n",
       "</table>\n",
       "</div>"
      ],
      "text/plain": [
       "           real     predicted       cer\n",
       "0             I             I  1.000000\n",
       "1           his           his  1.000000\n",
       "2       between        Retwen  0.714286\n",
       "3        become        become  1.000000\n",
       "4  conventional  conventional  1.000000"
      ]
     },
     "execution_count": 56,
     "metadata": {},
     "output_type": "execute_result"
    }
   ],
   "source": [
    "eval_df.head()"
   ]
  },
  {
   "cell_type": "code",
   "execution_count": 57,
   "metadata": {},
   "outputs": [
    {
     "name": "stdout",
     "output_type": "stream",
     "text": [
      "Notre modèle a une précision par mot de 0.8513544334195887\n"
     ]
    }
   ],
   "source": [
    "print(\"Notre modèle a une précision par mot de\", eval_df['cer'].mean())"
   ]
  },
  {
   "cell_type": "markdown",
   "metadata": {},
   "source": [
    "## Word Error Rate (WER)"
   ]
  },
  {
   "cell_type": "code",
   "execution_count": 58,
   "metadata": {},
   "outputs": [
    {
     "data": {
      "text/html": [
       "<div>\n",
       "<style scoped>\n",
       "    .dataframe tbody tr th:only-of-type {\n",
       "        vertical-align: middle;\n",
       "    }\n",
       "\n",
       "    .dataframe tbody tr th {\n",
       "        vertical-align: top;\n",
       "    }\n",
       "\n",
       "    .dataframe thead th {\n",
       "        text-align: right;\n",
       "    }\n",
       "</style>\n",
       "<table border=\"1\" class=\"dataframe\">\n",
       "  <thead>\n",
       "    <tr style=\"text-align: right;\">\n",
       "      <th></th>\n",
       "      <th>transcription</th>\n",
       "      <th>word_img_path</th>\n",
       "      <th>word_id</th>\n",
       "      <th>clean_trans</th>\n",
       "    </tr>\n",
       "  </thead>\n",
       "  <tbody>\n",
       "    <tr>\n",
       "      <th>0</th>\n",
       "      <td>A</td>\n",
       "      <td>../../data/words/a01/a01-000u/a01-000u-00-00.png</td>\n",
       "      <td>a01-000u-00-00</td>\n",
       "      <td>A</td>\n",
       "    </tr>\n",
       "    <tr>\n",
       "      <th>1</th>\n",
       "      <td>MOVE</td>\n",
       "      <td>../../data/words/a01/a01-000u/a01-000u-00-01.png</td>\n",
       "      <td>a01-000u-00-01</td>\n",
       "      <td>MOVE</td>\n",
       "    </tr>\n",
       "    <tr>\n",
       "      <th>2</th>\n",
       "      <td>to</td>\n",
       "      <td>../../data/words/a01/a01-000u/a01-000u-00-02.png</td>\n",
       "      <td>a01-000u-00-02</td>\n",
       "      <td>to</td>\n",
       "    </tr>\n",
       "    <tr>\n",
       "      <th>3</th>\n",
       "      <td>stop</td>\n",
       "      <td>../../data/words/a01/a01-000u/a01-000u-00-03.png</td>\n",
       "      <td>a01-000u-00-03</td>\n",
       "      <td>stop</td>\n",
       "    </tr>\n",
       "    <tr>\n",
       "      <th>5</th>\n",
       "      <td>Gaitskell</td>\n",
       "      <td>../../data/words/a01/a01-000u/a01-000u-00-05.png</td>\n",
       "      <td>a01-000u-00-05</td>\n",
       "      <td>Gaitskell</td>\n",
       "    </tr>\n",
       "  </tbody>\n",
       "</table>\n",
       "</div>"
      ],
      "text/plain": [
       "  transcription                                     word_img_path  \\\n",
       "0             A  ../../data/words/a01/a01-000u/a01-000u-00-00.png   \n",
       "1          MOVE  ../../data/words/a01/a01-000u/a01-000u-00-01.png   \n",
       "2            to  ../../data/words/a01/a01-000u/a01-000u-00-02.png   \n",
       "3          stop  ../../data/words/a01/a01-000u/a01-000u-00-03.png   \n",
       "5     Gaitskell  ../../data/words/a01/a01-000u/a01-000u-00-05.png   \n",
       "\n",
       "          word_id clean_trans  \n",
       "0  a01-000u-00-00           A  \n",
       "1  a01-000u-00-01        MOVE  \n",
       "2  a01-000u-00-02          to  \n",
       "3  a01-000u-00-03        stop  \n",
       "5  a01-000u-00-05   Gaitskell  "
      ]
     },
     "execution_count": 58,
     "metadata": {},
     "output_type": "execute_result"
    }
   ],
   "source": [
    "df.head()"
   ]
  }
 ],
 "metadata": {
  "kernelspec": {
   "display_name": "Python 3.8.13 ('tf2')",
   "language": "python",
   "name": "python3"
  },
  "language_info": {
   "codemirror_mode": {
    "name": "ipython",
    "version": 3
   },
   "file_extension": ".py",
   "mimetype": "text/x-python",
   "name": "python",
   "nbconvert_exporter": "python",
   "pygments_lexer": "ipython3",
   "version": "3.8.13"
  },
  "orig_nbformat": 4,
  "vscode": {
   "interpreter": {
    "hash": "1d35786cd2f650d46a54538d5478b9f72cd10ae51458c3726c4e0b827258ea8c"
   }
  }
 },
 "nbformat": 4,
 "nbformat_minor": 2
}
