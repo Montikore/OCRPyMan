{
 "cells": [
  {
   "attachments": {},
   "cell_type": "markdown",
   "metadata": {},
   "source": [
    "# Fusion des 2 modeles : Reconnaissance de text dans un formulaire\n",
    " "
   ]
  },
  {
   "cell_type": "code",
   "execution_count": 2,
   "metadata": {},
   "outputs": [],
   "source": [
    "import tensorflow as tf\n",
    "import cv2\n",
    "import numpy as np\n",
    "import matplotlib.pyplot as plt\n",
    "import pickle\n",
    "import pandas as pd\n",
    "import re\n",
    "from os.path import exists\n",
    "from sklearn.model_selection import GridSearchCV\n",
    "from sklearn.model_selection import train_test_split\n",
    "import string\n",
    "\n",
    "\n",
    "import letter_detection_utils as ld_util\n",
    "import preprocessing as pp\n",
    "import ressources as rss\n",
    "import modele as mdl\n",
    "import rendering as rd\n",
    "import metric_orthograph as mo\n",
    "\n",
    "\n",
    "# initialisation des variables globales\n",
    "rss.init()\n",
    "\n"
   ]
  },
  {
   "cell_type": "code",
   "execution_count": 41,
   "metadata": {},
   "outputs": [
    {
     "data": {
      "text/plain": [
       "<module 'metric_orthograph' from 'd:\\\\GitHub\\\\OCRpyMAN\\\\notebooks\\\\metric_orthograph.py'>"
      ]
     },
     "execution_count": 41,
     "metadata": {},
     "output_type": "execute_result"
    }
   ],
   "source": [
    "# Pour recharger les libs pendant les devs\n",
    "from importlib import reload \n",
    "reload(ld_util)\n",
    "reload(pp)\n",
    "reload(rss)\n",
    "reload(mdl)\n",
    "reload(rd)\n",
    "reload(mo)"
   ]
  },
  {
   "cell_type": "code",
   "execution_count": 43,
   "metadata": {},
   "outputs": [
    {
     "name": "stderr",
     "output_type": "stream",
     "text": [
      "2023-02-14 11:56:14.583 INFO    root: Using downloaded & verified file: C:\\Users\\TiBo\\.cache\\doctr\\models\\db_resnet50-adcafc63.zip\n",
      "2023-02-14 11:56:17.710 INFO    root: Using downloaded & verified file: C:\\Users\\TiBo\\.cache\\doctr\\models\\crnn_vgg16_bn-76b7f2c6.zip\n"
     ]
    },
    {
     "name": "stdout",
     "output_type": "stream",
     "text": [
      "[array([[0.16210938, 0.79199219, 0.21679688, 0.80664062, 0.53864551],\n",
      "       [0.30273438, 0.52929688, 0.31445312, 0.54003906, 0.32971129],\n",
      "       [0.76660156, 0.51367188, 0.96386719, 0.54492188, 0.44688183],\n",
      "       [0.55664062, 0.51464844, 0.7421875 , 0.54296875, 0.48003444],\n",
      "       [0.45117188, 0.50976562, 0.53125   , 0.54589844, 0.64200258],\n",
      "       [0.14257812, 0.50976562, 0.296875  , 0.54492188, 0.53376198],\n",
      "       [0.34375   , 0.50390625, 0.43164062, 0.54882812, 0.52942014],\n",
      "       [0.50488281, 0.46289062, 0.63867188, 0.49023438, 0.54146844],\n",
      "       [0.42578125, 0.46289062, 0.49023438, 0.49316406, 0.59733504],\n",
      "       [0.3671875 , 0.46386719, 0.41015625, 0.49121094, 0.60297602],\n",
      "       [0.15039062, 0.46289062, 0.23632812, 0.4921875 , 0.53018057],\n",
      "       [0.66699219, 0.4609375 , 0.72167969, 0.49707031, 0.60372669],\n",
      "       [0.83691406, 0.45996094, 0.90820312, 0.49316406, 0.60707641],\n",
      "       [0.25683594, 0.46191406, 0.31640625, 0.48828125, 0.52868891],\n",
      "       [0.73925781, 0.45800781, 0.81054688, 0.49511719, 0.54408073],\n",
      "       [0.32519531, 0.45898438, 0.36035156, 0.4921875 , 0.59050184],\n",
      "       [0.35644531, 0.41601562, 0.38769531, 0.44042969, 0.5707463 ],\n",
      "       [0.76171875, 0.40917969, 0.90722656, 0.45214844, 0.47538877],\n",
      "       [0.61132812, 0.41503906, 0.65039062, 0.44140625, 0.6082533 ],\n",
      "       [0.40429688, 0.41210938, 0.58886719, 0.44335938, 0.47449461],\n",
      "       [0.24609375, 0.41308594, 0.34472656, 0.44238281, 0.54596066],\n",
      "       [0.66601562, 0.40820312, 0.74609375, 0.44433594, 0.47601518],\n",
      "       [0.15429688, 0.40722656, 0.23144531, 0.44824219, 0.54989064],\n",
      "       [0.60253906, 0.36132812, 0.74121094, 0.38964844, 0.50051504],\n",
      "       [0.875     , 0.36035156, 0.93945312, 0.390625  , 0.47365427],\n",
      "       [0.5078125 , 0.35839844, 0.59277344, 0.39453125, 0.54526407],\n",
      "       [0.27832031, 0.35839844, 0.47070312, 0.39257812, 0.45808852],\n",
      "       [0.76660156, 0.35449219, 0.859375  , 0.39453125, 0.52727693],\n",
      "       [0.16503906, 0.35253906, 0.25488281, 0.39257812, 0.60589528],\n",
      "       [0.36816406, 0.31445312, 0.48828125, 0.33984375, 0.43838435],\n",
      "       [0.83789062, 0.31054688, 0.97265625, 0.34570312, 0.44709337],\n",
      "       [0.56347656, 0.31445312, 0.59765625, 0.33886719, 0.61158288],\n",
      "       [0.61328125, 0.3046875 , 0.76953125, 0.35351562, 0.41399693],\n",
      "       [0.51269531, 0.31152344, 0.55566406, 0.33984375, 0.62576348],\n",
      "       [0.77636719, 0.30859375, 0.82519531, 0.34082031, 0.65741593],\n",
      "       [0.28613281, 0.30761719, 0.34472656, 0.34179688, 0.60246801],\n",
      "       [0.21289062, 0.30761719, 0.25683594, 0.34082031, 0.58747917],\n",
      "       [0.16015625, 0.30664062, 0.19921875, 0.34082031, 0.63170743],\n",
      "       [0.44335938, 0.26171875, 0.5390625 , 0.29003906, 0.58370918],\n",
      "       [0.35742188, 0.25878906, 0.4296875 , 0.30175781, 0.53527695],\n",
      "       [0.55957031, 0.25976562, 0.68945312, 0.29101562, 0.56003356],\n",
      "       [0.80957031, 0.2578125 , 0.91308594, 0.29394531, 0.49622288],\n",
      "       [0.14941406, 0.25390625, 0.34765625, 0.30273438, 0.37678003],\n",
      "       [0.71386719, 0.2578125 , 0.79492188, 0.29003906, 0.59220141],\n",
      "       [0.76074219, 0.20996094, 0.84179688, 0.2421875 , 0.59535182],\n",
      "       [0.15917969, 0.21191406, 0.18652344, 0.24023438, 0.56986874],\n",
      "       [0.66210938, 0.20898438, 0.73730469, 0.23828125, 0.59150237],\n",
      "       [0.36328125, 0.20703125, 0.44726562, 0.24414062, 0.53374994],\n",
      "       [0.31738281, 0.20996094, 0.35644531, 0.23828125, 0.64017022],\n",
      "       [0.19921875, 0.20800781, 0.29785156, 0.24023438, 0.58070213],\n",
      "       [0.47363281, 0.20703125, 0.53710938, 0.24121094, 0.59364617],\n",
      "       [0.58007812, 0.20605469, 0.66894531, 0.23828125, 0.54443437],\n",
      "       [0.25683594, 0.14453125, 0.34765625, 0.16308594, 0.49943557],\n",
      "       [0.15234375, 0.14355469, 0.25878906, 0.1640625 , 0.44509706],\n",
      "       [0.26074219, 0.1328125 , 0.28710938, 0.1484375 , 0.66828954],\n",
      "       [0.16894531, 0.13183594, 0.25976562, 0.14941406, 0.54475933],\n",
      "       [0.15527344, 0.13378906, 0.16894531, 0.1484375 , 0.52417463],\n",
      "       [0.39257812, 0.13183594, 0.42871094, 0.14746094, 0.55799997],\n",
      "       [0.32324219, 0.13085938, 0.39257812, 0.1484375 , 0.59563887],\n",
      "       [0.29003906, 0.13183594, 0.32226562, 0.14746094, 0.62517059],\n",
      "       [0.50390625, 0.13085938, 0.53027344, 0.14746094, 0.6294018 ],\n",
      "       [0.71484375, 0.12890625, 0.79296875, 0.14648438, 0.54851353],\n",
      "       [0.671875  , 0.13085938, 0.69140625, 0.14453125, 0.59008008],\n",
      "       [0.625     , 0.12890625, 0.66015625, 0.14746094, 0.56990737],\n",
      "       [0.59667969, 0.12988281, 0.62109375, 0.14746094, 0.62599766],\n",
      "       [0.53125   , 0.12890625, 0.59570312, 0.14746094, 0.54995328],\n",
      "       [0.84277344, 0.12890625, 0.87109375, 0.14550781, 0.61640126],\n",
      "       [0.68652344, 0.12890625, 0.7109375 , 0.14550781, 0.559313  ],\n",
      "       [0.47949219, 0.12890625, 0.50390625, 0.1484375 , 0.56644136],\n",
      "       [0.45800781, 0.12890625, 0.47851562, 0.1484375 , 0.54301423],\n",
      "       [0.43066406, 0.12792969, 0.45800781, 0.1484375 , 0.55543458],\n",
      "       [0.27148438, 0.1171875 , 0.34667969, 0.13476562, 0.6105262 ],\n",
      "       [0.23339844, 0.11914062, 0.25488281, 0.13378906, 0.65690613],\n",
      "       [0.49023438, 0.11621094, 0.5859375 , 0.13476562, 0.46403712],\n",
      "       [0.37011719, 0.11621094, 0.4375    , 0.13476562, 0.557051  ],\n",
      "       [0.25683594, 0.11816406, 0.27246094, 0.1328125 , 0.50391603],\n",
      "       [0.1796875 , 0.11621094, 0.23339844, 0.13476562, 0.54718441],\n",
      "       [0.78222656, 0.11132812, 0.82617188, 0.15039062, 0.53481078],\n",
      "       [0.75097656, 0.11523438, 0.78613281, 0.13378906, 0.61075526],\n",
      "       [0.62988281, 0.11425781, 0.70703125, 0.13769531, 0.4876065 ],\n",
      "       [0.58886719, 0.11523438, 0.62695312, 0.13476562, 0.66513044],\n",
      "       [0.81640625, 0.10839844, 0.87890625, 0.15234375, 0.48377216],\n",
      "       [0.70605469, 0.11425781, 0.75097656, 0.13378906, 0.52855664],\n",
      "       [0.46191406, 0.11425781, 0.4921875 , 0.13574219, 0.54628319],\n",
      "       [0.34765625, 0.11523438, 0.37207031, 0.13476562, 0.55649984],\n",
      "       [0.15332031, 0.11425781, 0.18066406, 0.13671875, 0.5431239 ],\n",
      "       [0.15625   , 0.10644531, 0.17285156, 0.12109375, 0.45827562],\n",
      "       [0.5859375 , 0.10449219, 0.61914062, 0.12011719, 0.61371052],\n",
      "       [0.43066406, 0.09765625, 0.48828125, 0.14257812, 0.49971697],\n",
      "       [0.31152344, 0.10449219, 0.34472656, 0.12011719, 0.59908515],\n",
      "       [0.26757812, 0.10449219, 0.30761719, 0.12011719, 0.61855173],\n",
      "       [0.24316406, 0.10449219, 0.26660156, 0.12109375, 0.60805064],\n",
      "       [0.22363281, 0.10546875, 0.23925781, 0.12011719, 0.47181821],\n",
      "       [0.62402344, 0.10351562, 0.67285156, 0.11914062, 0.54780471],\n",
      "       [0.48339844, 0.10253906, 0.58496094, 0.12011719, 0.55050904],\n",
      "       [0.17382812, 0.1015625 , 0.2265625 , 0.12304688, 0.50493658],\n",
      "       [0.67382812, 0.1015625 , 0.74121094, 0.11914062, 0.58634686],\n",
      "       [0.35742188, 0.10058594, 0.4375    , 0.12207031, 0.48785287],\n",
      "       [0.828125  , 0.1015625 , 0.84863281, 0.11914062, 0.61215889],\n",
      "       [0.77636719, 0.10058594, 0.828125  , 0.11914062, 0.55353051],\n",
      "       [0.74121094, 0.10058594, 0.77636719, 0.11914062, 0.61418045],\n",
      "       [0.84863281, 0.10058594, 0.87207031, 0.11816406, 0.62586629],\n",
      "       [0.26660156, 0.05859375, 0.37402344, 0.07617188, 0.55831432],\n",
      "       [0.15429688, 0.05859375, 0.25976562, 0.07617188, 0.5857237 ],\n",
      "       [0.7734375 , 0.05761719, 0.8671875 , 0.07519531, 0.55745715]])]\n"
     ]
    }
   ],
   "source": [
    "# MODELE DETECTION TEXTE\n",
    "\n",
    "from doctr.models import ocr_predictor\n",
    "from doctr.io import DocumentFile\n",
    "\n",
    "DET_CKPT = \"text_detection/straight_model/weights\"\n",
    "form_img_path = '../data/formsA-D/a01-000u.png'\n",
    "\n",
    "straight_model = ocr_predictor(det_arch='db_resnet50', pretrained=True)\n",
    "straight_model.det_predictor.model.load_weights(DET_CKPT)\n",
    "doc = DocumentFile.from_images(form_img_path)\n",
    "coords = straight_model.det_predictor(doc)\n",
    "\n",
    "#Création du dataframe qui sera passé au second modele\n",
    "df_detection = pd.DataFrame(coords[0])\n",
    "df_detection = df_detection.drop(df_detection.columns[4], axis=1)\n",
    "df_detection.rename(columns = {0:'y',1:'x',2:'h',3:'w'}, inplace = True)\n",
    "\n",
    "print(coords)"
   ]
  },
  {
   "cell_type": "code",
   "execution_count": 45,
   "metadata": {},
   "outputs": [
    {
     "name": "stderr",
     "output_type": "stream",
     "text": [
      "C:\\Users\\TiBo\\AppData\\Roaming\\Python\\Python39\\site-packages\\tensorflow\\python\\data\\ops\\structured_function.py:264: UserWarning: Even though the `tf.config.experimental_run_functions_eagerly` option is set, this option does not apply to tf.data functions. To force eager execution of tf.data functions, please use `tf.data.experimental.enable_debug_mode()`.\n",
      "  warnings.warn(\n"
     ]
    },
    {
     "ename": "TypeError",
     "evalue": "float() argument must be a string or a number, not 'Tensor'",
     "output_type": "error",
     "traceback": [
      "\u001b[1;31m---------------------------------------------------------------------------\u001b[0m",
      "\u001b[1;31mTypeError\u001b[0m                                 Traceback (most recent call last)",
      "\u001b[1;32md:\\GitHub\\OCRpyMAN\\notebooks\\Final - Detection and reco.ipynb Cell 5\u001b[0m in \u001b[0;36m<cell line: 3>\u001b[1;34m()\u001b[0m\n\u001b[0;32m      <a href='vscode-notebook-cell:/d%3A/GitHub/OCRpyMAN/notebooks/Final%20-%20Detection%20and%20reco.ipynb#W4sZmlsZQ%3D%3D?line=0'>1</a>\u001b[0m \u001b[39m# Création du dataset pour la reconnaissance du texte : TODO prend en parametre le retour du modele de détection de texte\u001b[39;00m\n\u001b[1;32m----> <a href='vscode-notebook-cell:/d%3A/GitHub/OCRpyMAN/notebooks/Final%20-%20Detection%20and%20reco.ipynb#W4sZmlsZQ%3D%3D?line=2'>3</a>\u001b[0m dataset \u001b[39m=\u001b[39m ld_util\u001b[39m.\u001b[39;49mget_dataset_for_prediction(file_path\u001b[39m=\u001b[39;49mform_img_path, coords\u001b[39m=\u001b[39;49mdf_detection)\n",
      "File \u001b[1;32md:\\GitHub\\OCRpyMAN\\notebooks\\letter_detection_utils.py:117\u001b[0m, in \u001b[0;36mget_dataset_for_prediction\u001b[1;34m(debug, file_path, coords)\u001b[0m\n\u001b[0;32m    114\u001b[0m     coords[\u001b[39m'\u001b[39m\u001b[39mfile_path\u001b[39m\u001b[39m'\u001b[39m] \u001b[39m=\u001b[39m file_path\n\u001b[0;32m    115\u001b[0m     dataset_test \u001b[39m=\u001b[39m tf\u001b[39m.\u001b[39mdata\u001b[39m.\u001b[39mDataset\u001b[39m.\u001b[39mfrom_tensor_slices((coords[\u001b[39m'\u001b[39m\u001b[39mfile_path\u001b[39m\u001b[39m'\u001b[39m], coords[\u001b[39m'\u001b[39m\u001b[39my\u001b[39m\u001b[39m'\u001b[39m], coords[\u001b[39m'\u001b[39m\u001b[39mx\u001b[39m\u001b[39m'\u001b[39m], coords[\u001b[39m'\u001b[39m\u001b[39mh\u001b[39m\u001b[39m'\u001b[39m], coords[\u001b[39m'\u001b[39m\u001b[39mw\u001b[39m\u001b[39m'\u001b[39m]))\n\u001b[1;32m--> 117\u001b[0m dataset_test \u001b[39m=\u001b[39m dataset_test\u001b[39m.\u001b[39;49mmap(process_1_img_from_form)\n\u001b[0;32m    118\u001b[0m dataset_test \u001b[39m=\u001b[39m dataset_test\u001b[39m.\u001b[39mbatch(\u001b[39m5\u001b[39m)\n\u001b[0;32m    120\u001b[0m \u001b[39m# DEBUG :\u001b[39;00m\n\u001b[0;32m    121\u001b[0m \u001b[39m# for x in dataset_test:\u001b[39;00m\n\u001b[0;32m    122\u001b[0m \u001b[39m#     # print('paf:', x)\u001b[39;00m\n\u001b[0;32m    123\u001b[0m \u001b[39m#     process_1_img_from_form(x)\u001b[39;00m\n\u001b[0;32m    124\u001b[0m \u001b[39m#     break\u001b[39;00m\n",
      "File \u001b[1;32m~\\AppData\\Roaming\\Python\\Python39\\site-packages\\tensorflow\\python\\data\\ops\\dataset_ops.py:2202\u001b[0m, in \u001b[0;36mDatasetV2.map\u001b[1;34m(self, map_func, num_parallel_calls, deterministic, name)\u001b[0m\n\u001b[0;32m   2199\u001b[0m   \u001b[39mif\u001b[39;00m deterministic \u001b[39mis\u001b[39;00m \u001b[39mnot\u001b[39;00m \u001b[39mNone\u001b[39;00m \u001b[39mand\u001b[39;00m \u001b[39mnot\u001b[39;00m DEBUG_MODE:\n\u001b[0;32m   2200\u001b[0m     warnings\u001b[39m.\u001b[39mwarn(\u001b[39m\"\u001b[39m\u001b[39mThe `deterministic` argument has no effect unless the \u001b[39m\u001b[39m\"\u001b[39m\n\u001b[0;32m   2201\u001b[0m                   \u001b[39m\"\u001b[39m\u001b[39m`num_parallel_calls` argument is specified.\u001b[39m\u001b[39m\"\u001b[39m)\n\u001b[1;32m-> 2202\u001b[0m   \u001b[39mreturn\u001b[39;00m MapDataset(\u001b[39mself\u001b[39;49m, map_func, preserve_cardinality\u001b[39m=\u001b[39;49m\u001b[39mTrue\u001b[39;49;00m, name\u001b[39m=\u001b[39;49mname)\n\u001b[0;32m   2203\u001b[0m \u001b[39melse\u001b[39;00m:\n\u001b[0;32m   2204\u001b[0m   \u001b[39mreturn\u001b[39;00m ParallelMapDataset(\n\u001b[0;32m   2205\u001b[0m       \u001b[39mself\u001b[39m,\n\u001b[0;32m   2206\u001b[0m       map_func,\n\u001b[1;32m   (...)\u001b[0m\n\u001b[0;32m   2209\u001b[0m       preserve_cardinality\u001b[39m=\u001b[39m\u001b[39mTrue\u001b[39;00m,\n\u001b[0;32m   2210\u001b[0m       name\u001b[39m=\u001b[39mname)\n",
      "File \u001b[1;32m~\\AppData\\Roaming\\Python\\Python39\\site-packages\\tensorflow\\python\\data\\ops\\dataset_ops.py:5400\u001b[0m, in \u001b[0;36mMapDataset.__init__\u001b[1;34m(self, input_dataset, map_func, use_inter_op_parallelism, preserve_cardinality, use_legacy_function, name)\u001b[0m\n\u001b[0;32m   5398\u001b[0m \u001b[39mself\u001b[39m\u001b[39m.\u001b[39m_use_inter_op_parallelism \u001b[39m=\u001b[39m use_inter_op_parallelism\n\u001b[0;32m   5399\u001b[0m \u001b[39mself\u001b[39m\u001b[39m.\u001b[39m_preserve_cardinality \u001b[39m=\u001b[39m preserve_cardinality\n\u001b[1;32m-> 5400\u001b[0m \u001b[39mself\u001b[39m\u001b[39m.\u001b[39m_map_func \u001b[39m=\u001b[39m structured_function\u001b[39m.\u001b[39;49mStructuredFunctionWrapper(\n\u001b[0;32m   5401\u001b[0m     map_func,\n\u001b[0;32m   5402\u001b[0m     \u001b[39mself\u001b[39;49m\u001b[39m.\u001b[39;49m_transformation_name(),\n\u001b[0;32m   5403\u001b[0m     dataset\u001b[39m=\u001b[39;49minput_dataset,\n\u001b[0;32m   5404\u001b[0m     use_legacy_function\u001b[39m=\u001b[39;49muse_legacy_function)\n\u001b[0;32m   5405\u001b[0m \u001b[39mself\u001b[39m\u001b[39m.\u001b[39m_name \u001b[39m=\u001b[39m name\n\u001b[0;32m   5406\u001b[0m variant_tensor \u001b[39m=\u001b[39m gen_dataset_ops\u001b[39m.\u001b[39mmap_dataset(\n\u001b[0;32m   5407\u001b[0m     input_dataset\u001b[39m.\u001b[39m_variant_tensor,  \u001b[39m# pylint: disable=protected-access\u001b[39;00m\n\u001b[0;32m   5408\u001b[0m     \u001b[39mself\u001b[39m\u001b[39m.\u001b[39m_map_func\u001b[39m.\u001b[39mfunction\u001b[39m.\u001b[39mcaptured_inputs,\n\u001b[1;32m   (...)\u001b[0m\n\u001b[0;32m   5411\u001b[0m     preserve_cardinality\u001b[39m=\u001b[39m\u001b[39mself\u001b[39m\u001b[39m.\u001b[39m_preserve_cardinality,\n\u001b[0;32m   5412\u001b[0m     \u001b[39m*\u001b[39m\u001b[39m*\u001b[39m\u001b[39mself\u001b[39m\u001b[39m.\u001b[39m_common_args)\n",
      "File \u001b[1;32m~\\AppData\\Roaming\\Python\\Python39\\site-packages\\tensorflow\\python\\data\\ops\\structured_function.py:271\u001b[0m, in \u001b[0;36mStructuredFunctionWrapper.__init__\u001b[1;34m(self, func, transformation_name, dataset, input_classes, input_shapes, input_types, input_structure, add_to_graph, use_legacy_function, defun_kwargs)\u001b[0m\n\u001b[0;32m    264\u001b[0m       warnings\u001b[39m.\u001b[39mwarn(\n\u001b[0;32m    265\u001b[0m           \u001b[39m\"\u001b[39m\u001b[39mEven though the `tf.config.experimental_run_functions_eagerly` \u001b[39m\u001b[39m\"\u001b[39m\n\u001b[0;32m    266\u001b[0m           \u001b[39m\"\u001b[39m\u001b[39moption is set, this option does not apply to tf.data functions. \u001b[39m\u001b[39m\"\u001b[39m\n\u001b[0;32m    267\u001b[0m           \u001b[39m\"\u001b[39m\u001b[39mTo force eager execution of tf.data functions, please use \u001b[39m\u001b[39m\"\u001b[39m\n\u001b[0;32m    268\u001b[0m           \u001b[39m\"\u001b[39m\u001b[39m`tf.data.experimental.enable_debug_mode()`.\u001b[39m\u001b[39m\"\u001b[39m)\n\u001b[0;32m    269\u001b[0m     fn_factory \u001b[39m=\u001b[39m trace_tf_function(defun_kwargs)\n\u001b[1;32m--> 271\u001b[0m \u001b[39mself\u001b[39m\u001b[39m.\u001b[39m_function \u001b[39m=\u001b[39m fn_factory()\n\u001b[0;32m    272\u001b[0m \u001b[39m# There is no graph to add in eager mode.\u001b[39;00m\n\u001b[0;32m    273\u001b[0m add_to_graph \u001b[39m&\u001b[39m\u001b[39m=\u001b[39m \u001b[39mnot\u001b[39;00m context\u001b[39m.\u001b[39mexecuting_eagerly()\n",
      "File \u001b[1;32m~\\AppData\\Roaming\\Python\\Python39\\site-packages\\tensorflow\\python\\eager\\function.py:2610\u001b[0m, in \u001b[0;36mFunction.get_concrete_function\u001b[1;34m(self, *args, **kwargs)\u001b[0m\n\u001b[0;32m   2601\u001b[0m \u001b[39mdef\u001b[39;00m \u001b[39mget_concrete_function\u001b[39m(\u001b[39mself\u001b[39m, \u001b[39m*\u001b[39margs, \u001b[39m*\u001b[39m\u001b[39m*\u001b[39mkwargs):\n\u001b[0;32m   2602\u001b[0m   \u001b[39m\"\"\"Returns a `ConcreteFunction` specialized to inputs and execution context.\u001b[39;00m\n\u001b[0;32m   2603\u001b[0m \n\u001b[0;32m   2604\u001b[0m \u001b[39m  Args:\u001b[39;00m\n\u001b[1;32m   (...)\u001b[0m\n\u001b[0;32m   2608\u001b[0m \u001b[39m       or `tf.Tensor` or `tf.TensorSpec`.\u001b[39;00m\n\u001b[0;32m   2609\u001b[0m \u001b[39m  \"\"\"\u001b[39;00m\n\u001b[1;32m-> 2610\u001b[0m   graph_function \u001b[39m=\u001b[39m \u001b[39mself\u001b[39m\u001b[39m.\u001b[39m_get_concrete_function_garbage_collected(\n\u001b[0;32m   2611\u001b[0m       \u001b[39m*\u001b[39margs, \u001b[39m*\u001b[39m\u001b[39m*\u001b[39mkwargs)\n\u001b[0;32m   2612\u001b[0m   graph_function\u001b[39m.\u001b[39m_garbage_collector\u001b[39m.\u001b[39mrelease()  \u001b[39m# pylint: disable=protected-access\u001b[39;00m\n\u001b[0;32m   2613\u001b[0m   \u001b[39mreturn\u001b[39;00m graph_function\n",
      "File \u001b[1;32m~\\AppData\\Roaming\\Python\\Python39\\site-packages\\tensorflow\\python\\eager\\function.py:2576\u001b[0m, in \u001b[0;36mFunction._get_concrete_function_garbage_collected\u001b[1;34m(self, *args, **kwargs)\u001b[0m\n\u001b[0;32m   2574\u001b[0m   args, kwargs \u001b[39m=\u001b[39m \u001b[39mNone\u001b[39;00m, \u001b[39mNone\u001b[39;00m\n\u001b[0;32m   2575\u001b[0m \u001b[39mwith\u001b[39;00m \u001b[39mself\u001b[39m\u001b[39m.\u001b[39m_lock:\n\u001b[1;32m-> 2576\u001b[0m   graph_function, _ \u001b[39m=\u001b[39m \u001b[39mself\u001b[39;49m\u001b[39m.\u001b[39;49m_maybe_define_function(args, kwargs)\n\u001b[0;32m   2577\u001b[0m   seen_names \u001b[39m=\u001b[39m \u001b[39mset\u001b[39m()\n\u001b[0;32m   2578\u001b[0m   captured \u001b[39m=\u001b[39m object_identity\u001b[39m.\u001b[39mObjectIdentitySet(\n\u001b[0;32m   2579\u001b[0m       graph_function\u001b[39m.\u001b[39mgraph\u001b[39m.\u001b[39minternal_captures)\n",
      "File \u001b[1;32m~\\AppData\\Roaming\\Python\\Python39\\site-packages\\tensorflow\\python\\eager\\function.py:2760\u001b[0m, in \u001b[0;36mFunction._maybe_define_function\u001b[1;34m(self, args, kwargs)\u001b[0m\n\u001b[0;32m   2758\u001b[0m   \u001b[39m# Only get placeholders for arguments, not captures\u001b[39;00m\n\u001b[0;32m   2759\u001b[0m   args, kwargs \u001b[39m=\u001b[39m placeholder_dict[\u001b[39m\"\u001b[39m\u001b[39margs\u001b[39m\u001b[39m\"\u001b[39m]\n\u001b[1;32m-> 2760\u001b[0m graph_function \u001b[39m=\u001b[39m \u001b[39mself\u001b[39;49m\u001b[39m.\u001b[39;49m_create_graph_function(args, kwargs)\n\u001b[0;32m   2762\u001b[0m graph_capture_container \u001b[39m=\u001b[39m graph_function\u001b[39m.\u001b[39mgraph\u001b[39m.\u001b[39m_capture_func_lib  \u001b[39m# pylint: disable=protected-access\u001b[39;00m\n\u001b[0;32m   2763\u001b[0m \u001b[39m# Maintain the list of all captures\u001b[39;00m\n",
      "File \u001b[1;32m~\\AppData\\Roaming\\Python\\Python39\\site-packages\\tensorflow\\python\\eager\\function.py:2670\u001b[0m, in \u001b[0;36mFunction._create_graph_function\u001b[1;34m(self, args, kwargs)\u001b[0m\n\u001b[0;32m   2665\u001b[0m missing_arg_names \u001b[39m=\u001b[39m [\n\u001b[0;32m   2666\u001b[0m     \u001b[39m\"\u001b[39m\u001b[39m%s\u001b[39;00m\u001b[39m_\u001b[39m\u001b[39m%d\u001b[39;00m\u001b[39m\"\u001b[39m \u001b[39m%\u001b[39m (arg, i) \u001b[39mfor\u001b[39;00m i, arg \u001b[39min\u001b[39;00m \u001b[39menumerate\u001b[39m(missing_arg_names)\n\u001b[0;32m   2667\u001b[0m ]\n\u001b[0;32m   2668\u001b[0m arg_names \u001b[39m=\u001b[39m base_arg_names \u001b[39m+\u001b[39m missing_arg_names\n\u001b[0;32m   2669\u001b[0m graph_function \u001b[39m=\u001b[39m ConcreteFunction(\n\u001b[1;32m-> 2670\u001b[0m     func_graph_module\u001b[39m.\u001b[39;49mfunc_graph_from_py_func(\n\u001b[0;32m   2671\u001b[0m         \u001b[39mself\u001b[39;49m\u001b[39m.\u001b[39;49m_name,\n\u001b[0;32m   2672\u001b[0m         \u001b[39mself\u001b[39;49m\u001b[39m.\u001b[39;49m_python_function,\n\u001b[0;32m   2673\u001b[0m         args,\n\u001b[0;32m   2674\u001b[0m         kwargs,\n\u001b[0;32m   2675\u001b[0m         \u001b[39mself\u001b[39;49m\u001b[39m.\u001b[39;49minput_signature,\n\u001b[0;32m   2676\u001b[0m         autograph\u001b[39m=\u001b[39;49m\u001b[39mself\u001b[39;49m\u001b[39m.\u001b[39;49m_autograph,\n\u001b[0;32m   2677\u001b[0m         autograph_options\u001b[39m=\u001b[39;49m\u001b[39mself\u001b[39;49m\u001b[39m.\u001b[39;49m_autograph_options,\n\u001b[0;32m   2678\u001b[0m         arg_names\u001b[39m=\u001b[39;49marg_names,\n\u001b[0;32m   2679\u001b[0m         capture_by_value\u001b[39m=\u001b[39;49m\u001b[39mself\u001b[39;49m\u001b[39m.\u001b[39;49m_capture_by_value),\n\u001b[0;32m   2680\u001b[0m     \u001b[39mself\u001b[39m\u001b[39m.\u001b[39m_function_attributes,\n\u001b[0;32m   2681\u001b[0m     spec\u001b[39m=\u001b[39m\u001b[39mself\u001b[39m\u001b[39m.\u001b[39mfunction_spec,\n\u001b[0;32m   2682\u001b[0m     \u001b[39m# Tell the ConcreteFunction to clean up its graph once it goes out of\u001b[39;00m\n\u001b[0;32m   2683\u001b[0m     \u001b[39m# scope. This is not the default behavior since it gets used in some\u001b[39;00m\n\u001b[0;32m   2684\u001b[0m     \u001b[39m# places (like Keras) where the FuncGraph lives longer than the\u001b[39;00m\n\u001b[0;32m   2685\u001b[0m     \u001b[39m# ConcreteFunction.\u001b[39;00m\n\u001b[0;32m   2686\u001b[0m     shared_func_graph\u001b[39m=\u001b[39m\u001b[39mFalse\u001b[39;00m)\n\u001b[0;32m   2687\u001b[0m \u001b[39mreturn\u001b[39;00m graph_function\n",
      "File \u001b[1;32m~\\AppData\\Roaming\\Python\\Python39\\site-packages\\tensorflow\\python\\framework\\func_graph.py:1247\u001b[0m, in \u001b[0;36mfunc_graph_from_py_func\u001b[1;34m(name, python_func, args, kwargs, signature, func_graph, autograph, autograph_options, add_control_dependencies, arg_names, op_return_value, collections, capture_by_value, acd_record_initial_resource_uses)\u001b[0m\n\u001b[0;32m   1244\u001b[0m \u001b[39melse\u001b[39;00m:\n\u001b[0;32m   1245\u001b[0m   _, original_func \u001b[39m=\u001b[39m tf_decorator\u001b[39m.\u001b[39munwrap(python_func)\n\u001b[1;32m-> 1247\u001b[0m func_outputs \u001b[39m=\u001b[39m python_func(\u001b[39m*\u001b[39mfunc_args, \u001b[39m*\u001b[39m\u001b[39m*\u001b[39mfunc_kwargs)\n\u001b[0;32m   1249\u001b[0m \u001b[39m# invariant: `func_outputs` contains only Tensors, CompositeTensors,\u001b[39;00m\n\u001b[0;32m   1250\u001b[0m \u001b[39m# TensorArrays and `None`s.\u001b[39;00m\n\u001b[0;32m   1251\u001b[0m func_outputs \u001b[39m=\u001b[39m nest\u001b[39m.\u001b[39mmap_structure(\n\u001b[0;32m   1252\u001b[0m     convert, func_outputs, expand_composites\u001b[39m=\u001b[39m\u001b[39mTrue\u001b[39;00m)\n",
      "File \u001b[1;32m~\\AppData\\Roaming\\Python\\Python39\\site-packages\\tensorflow\\python\\data\\ops\\structured_function.py:248\u001b[0m, in \u001b[0;36mStructuredFunctionWrapper.__init__.<locals>.trace_tf_function.<locals>.wrapped_fn\u001b[1;34m(*args)\u001b[0m\n\u001b[0;32m    242\u001b[0m \u001b[39m@eager_function\u001b[39m\u001b[39m.\u001b[39mdefun_with_attributes(\n\u001b[0;32m    243\u001b[0m     input_signature\u001b[39m=\u001b[39mstructure\u001b[39m.\u001b[39mget_flat_tensor_specs(\n\u001b[0;32m    244\u001b[0m         \u001b[39mself\u001b[39m\u001b[39m.\u001b[39m_input_structure),\n\u001b[0;32m    245\u001b[0m     autograph\u001b[39m=\u001b[39m\u001b[39mFalse\u001b[39;00m,\n\u001b[0;32m    246\u001b[0m     attributes\u001b[39m=\u001b[39mdefun_kwargs)\n\u001b[0;32m    247\u001b[0m \u001b[39mdef\u001b[39;00m \u001b[39mwrapped_fn\u001b[39m(\u001b[39m*\u001b[39margs):  \u001b[39m# pylint: disable=missing-docstring\u001b[39;00m\n\u001b[1;32m--> 248\u001b[0m   ret \u001b[39m=\u001b[39m wrapper_helper(\u001b[39m*\u001b[39;49margs)\n\u001b[0;32m    249\u001b[0m   ret \u001b[39m=\u001b[39m structure\u001b[39m.\u001b[39mto_tensor_list(\u001b[39mself\u001b[39m\u001b[39m.\u001b[39m_output_structure, ret)\n\u001b[0;32m    250\u001b[0m   \u001b[39mreturn\u001b[39;00m [ops\u001b[39m.\u001b[39mconvert_to_tensor(t) \u001b[39mfor\u001b[39;00m t \u001b[39min\u001b[39;00m ret]\n",
      "File \u001b[1;32m~\\AppData\\Roaming\\Python\\Python39\\site-packages\\tensorflow\\python\\data\\ops\\structured_function.py:177\u001b[0m, in \u001b[0;36mStructuredFunctionWrapper.__init__.<locals>.wrapper_helper\u001b[1;34m(*args)\u001b[0m\n\u001b[0;32m    175\u001b[0m \u001b[39mif\u001b[39;00m \u001b[39mnot\u001b[39;00m _should_unpack(nested_args):\n\u001b[0;32m    176\u001b[0m   nested_args \u001b[39m=\u001b[39m (nested_args,)\n\u001b[1;32m--> 177\u001b[0m ret \u001b[39m=\u001b[39m autograph\u001b[39m.\u001b[39;49mtf_convert(\u001b[39mself\u001b[39;49m\u001b[39m.\u001b[39;49m_func, ag_ctx)(\u001b[39m*\u001b[39;49mnested_args)\n\u001b[0;32m    178\u001b[0m \u001b[39mif\u001b[39;00m _should_pack(ret):\n\u001b[0;32m    179\u001b[0m   ret \u001b[39m=\u001b[39m \u001b[39mtuple\u001b[39m(ret)\n",
      "File \u001b[1;32m~\\AppData\\Roaming\\Python\\Python39\\site-packages\\tensorflow\\python\\util\\traceback_utils.py:153\u001b[0m, in \u001b[0;36mfilter_traceback.<locals>.error_handler\u001b[1;34m(*args, **kwargs)\u001b[0m\n\u001b[0;32m    151\u001b[0m \u001b[39mexcept\u001b[39;00m \u001b[39mException\u001b[39;00m \u001b[39mas\u001b[39;00m e:\n\u001b[0;32m    152\u001b[0m   filtered_tb \u001b[39m=\u001b[39m _process_traceback_frames(e\u001b[39m.\u001b[39m__traceback__)\n\u001b[1;32m--> 153\u001b[0m   \u001b[39mraise\u001b[39;00m e\u001b[39m.\u001b[39mwith_traceback(filtered_tb) \u001b[39mfrom\u001b[39;00m \u001b[39mNone\u001b[39m\n\u001b[0;32m    154\u001b[0m \u001b[39mfinally\u001b[39;00m:\n\u001b[0;32m    155\u001b[0m   \u001b[39mdel\u001b[39;00m filtered_tb\n",
      "File \u001b[1;32md:\\GitHub\\OCRpyMAN\\notebooks\\letter_detection_utils.py:141\u001b[0m, in \u001b[0;36mprocess_1_img_from_form\u001b[1;34m(form_path, offset_height, offset_width, target_height, target_width)\u001b[0m\n\u001b[0;32m    137\u001b[0m \u001b[39m@tf\u001b[39m\u001b[39m.\u001b[39mfunction\n\u001b[0;32m    138\u001b[0m \u001b[39mdef\u001b[39;00m \u001b[39mprocess_1_img_from_form\u001b[39m(form_path, offset_height, offset_width, target_height, target_width):\n\u001b[0;32m    140\u001b[0m     img \u001b[39m=\u001b[39m load_image_from_form(form_path, offset_height, offset_width, target_height, target_width)              \n\u001b[1;32m--> 141\u001b[0m     img \u001b[39m=\u001b[39m preprocess(img, img_size\u001b[39m=\u001b[39;49mrss\u001b[39m.\u001b[39;49mimg_size,  data_augmentation\u001b[39m=\u001b[39;49m\u001b[39mTrue\u001b[39;49;00m, is_threshold\u001b[39m=\u001b[39;49m\u001b[39mTrue\u001b[39;49;00m)\n\u001b[0;32m    143\u001b[0m     \u001b[39mreturn\u001b[39;00m img\n",
      "File \u001b[1;32md:\\GitHub\\OCRpyMAN\\notebooks\\letter_detection_utils.py:338\u001b[0m, in \u001b[0;36mpreprocess\u001b[1;34m(img, img_size, data_augmentation, scale, is_threshold)\u001b[0m\n\u001b[0;32m    331\u001b[0m \u001b[39mif\u001b[39;00m data_augmentation:\n\u001b[0;32m    332\u001b[0m \n\u001b[0;32m    333\u001b[0m     \u001b[39m# CHANGEMENT D'ASPECT RATIO\u001b[39;00m\n\u001b[0;32m    334\u001b[0m     \u001b[39m# DEBUG DB : code initial corrigé pour fonctionner avec des images 32*128\u001b[39;00m\n\u001b[0;32m    335\u001b[0m     \u001b[39m# INFO : scale est un scalaire entre 0 et +inf qui amplifie la distribution uniforme entre -50% et +50% de taille horizontale. si scale=1, pas d'effet sur la distribution uniforme\u001b[39;00m\n\u001b[0;32m    337\u001b[0m     stretch \u001b[39m=\u001b[39m scale\u001b[39m*\u001b[39m(tf\u001b[39m.\u001b[39mrandom\u001b[39m.\u001b[39muniform([\u001b[39m1\u001b[39m], \u001b[39m0\u001b[39m, \u001b[39m1\u001b[39m)[\u001b[39m0\u001b[39m] \u001b[39m-\u001b[39m \u001b[39m0.5\u001b[39m) \u001b[39m# -0.5 .. +0.5\u001b[39;00m\n\u001b[1;32m--> 338\u001b[0m     w_stretched \u001b[39m=\u001b[39m tf\u001b[39m.\u001b[39mmaximum(\u001b[39mint\u001b[39m(\u001b[39mfloat\u001b[39;49m(img_original_size[\u001b[39m1\u001b[39;49m]) \u001b[39m*\u001b[39m (\u001b[39m1\u001b[39m \u001b[39m+\u001b[39m stretch)), \u001b[39m1\u001b[39m) \u001b[39m# random width, but at least 1\u001b[39;00m\n\u001b[0;32m    339\u001b[0m     img \u001b[39m=\u001b[39m tf\u001b[39m.\u001b[39mimage\u001b[39m.\u001b[39mresize(img, (img_original_size[\u001b[39m0\u001b[39m] ,w_stretched)) \u001b[39m# stretch horizontally by factor 0.5 .. 1.5\u001b[39;00m\n\u001b[0;32m    342\u001b[0m \u001b[39m# RESIZE DE L'IMAGE\u001b[39;00m\n",
      "\u001b[1;31mTypeError\u001b[0m: float() argument must be a string or a number, not 'Tensor'"
     ]
    }
   ],
   "source": [
    "\n",
    "# Création du dataset pour la reconnaissance du texte : TODO prend en parametre le retour du modele de détection de texte\n",
    "\n",
    "dataset = ld_util.get_dataset_for_prediction(file_path=form_img_path, coords=df_detection)\n"
   ]
  },
  {
   "cell_type": "code",
   "execution_count": 9,
   "metadata": {},
   "outputs": [],
   "source": [
    "model = tf.keras.models.load_model(\"../pickle/tj_ctc_augmented_20epochs_LR-plateau\", custom_objects={\"CTCLoss\": mdl.CTCLoss})"
   ]
  },
  {
   "cell_type": "code",
   "execution_count": 11,
   "metadata": {},
   "outputs": [
    {
     "data": {
      "image/png": "[encoded data removed]",
      "text/plain": [
       "<Figure size 1440x864 with 1 Axes>"
      ]
     },
     "metadata": {},
     "output_type": "display_data"
    }
   ],
   "source": [
    "#TEST affichage d'un mot depuis formulaire avec dataset\n",
    "\n",
    "batch_id=0\n",
    "iterator = iter(dataset)\n",
    "\n",
    "x = iterator.get_next()\n",
    "batch_id +=1\n",
    "# rd.show_iterator_batch(x,'y',batch_id, 4)\n",
    "\n",
    "lin = 11\n",
    "col = 6\n",
    "fig = plt.figure(figsize=(20,12))\n",
    "    \n",
    "img = x[1]\n",
    "\n",
    "plt.imshow(img,cmap='gray')\n",
    "# plt.title(str(i)+' : '+str(liste_label[i]))\n",
    "plt.xticks([], [])\n",
    "plt.yticks([], [])\n",
    "plt.suptitle('Affichage du batch numéro '+str(batch_id), size = 20);"
   ]
  },
  {
   "cell_type": "code",
   "execution_count": 12,
   "metadata": {},
   "outputs": [
    {
     "name": "stdout",
     "output_type": "stream",
     "text": [
      "4/4 [==============================] - 2s 185ms/step\n",
      "['A', 'MOVE', 'to', 'stop', 'Mr.', 'Gaitskell', 'from', 'hominating', 'any', 'more', 'Labour', 'life', 'Peers', 'is', 'to', 'be', 'made', 'at', 'a', 'meeting']\n"
     ]
    }
   ],
   "source": [
    "# Utilisation du modele avec dataset formulaire\n",
    "preds = model.predict(dataset)\n",
    "mots = ld_util.greedy_decoder(preds, rss.charList)\n",
    "\n",
    "print(mots)"
   ]
  }
 ],
 "metadata": {
  "kernelspec": {
   "display_name": "base",
   "language": "python",
   "name": "python3"
  },
  "language_info": {
   "codemirror_mode": {
    "name": "ipython",
    "version": 3
   },
   "file_extension": ".py",
   "mimetype": "text/x-python",
   "name": "python",
   "nbconvert_exporter": "python",
   "pygments_lexer": "ipython3",
   "version": "3.9.12"
  },
  "orig_nbformat": 4,
  "vscode": {
   "interpreter": {
    "hash": "646607af5cee56728deff5007f5747c6b792545c0f7c2f22c37576bfe12603f2"
   }
  }
 },
 "nbformat": 4,
 "nbformat_minor": 2
}
